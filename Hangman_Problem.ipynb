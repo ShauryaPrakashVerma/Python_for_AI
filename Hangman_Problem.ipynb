{
  "nbformat": 4,
  "nbformat_minor": 0,
  "metadata": {
    "colab": {
      "provenance": [],
      "authorship_tag": "ABX9TyNtn8HwJVERkJMx9i0SsVn9",
      "include_colab_link": true
    },
    "kernelspec": {
      "name": "python3",
      "display_name": "Python 3"
    },
    "language_info": {
      "name": "python"
    }
  },
  "cells": [
    {
      "cell_type": "markdown",
      "metadata": {
        "id": "view-in-github",
        "colab_type": "text"
      },
      "source": [
        "<a href=\"https://colab.research.google.com/github/ShauryaPrakashVerma/Python_for_AI/blob/main/Hangman_Problem.ipynb\" target=\"_parent\"><img src=\"https://colab.research.google.com/assets/colab-badge.svg\" alt=\"Open In Colab\"/></a>"
      ]
    },
    {
      "cell_type": "markdown",
      "metadata": {
        "id": "798767be"
      },
      "source": [
        "## **Hangman Problem Statement**\n",
        "\n",
        "Hangman is a classic word-guessing game where a player tries to guess a hidden word within a limited number of attempts.\n",
        "\n",
        "**Objective:** The player's goal is to correctly guess all the letters in the hidden word before the \"hangman\" figure is completed.\n",
        "\n",
        "**Gameplay:**\n",
        "\n",
        "1.  **Word Selection:** A word is chosen (either by the computer or another player) and hidden from the player.\n",
        "2.  **Initialization:** The game displays a series of underscores or blanks representing the letters of the hidden word.\n",
        "3.  **Guessing:** The player guesses one letter at a time.\n",
        "4.  **Correct Guess:** If the guessed letter is in the hidden word, all instances of that letter are revealed in their correct positions.\n",
        "5.  **Incorrect Guess:** If the guessed letter is not in the hidden word, a part of the hangman figure is drawn (e.g., head, body, arms, legs). Each incorrect guess brings the player closer to losing.\n",
        "6.  **Winning:** The player wins if they guess all the letters in the word before the hangman figure is completed.\n",
        "7.  **Losing:** The player loses if the hangman figure is completed before they guess the word.\n",
        "\n",
        "**Constraints/Variations:**\n",
        "\n",
        "*   **Number of Attempts:** The game typically has a set number of incorrect guesses allowed (e.g., 6 or 7), corresponding to the number of parts in the hangman figure.\n",
        "*   **Letter Reuse:** Players cannot guess the same incorrect letter multiple times and be penalized for each guess.\n",
        "*   **Input Validation:** The game should handle invalid input (e.g., numbers, symbols, multiple letters).\n",
        "*   **Word List:** The game can use a predefined list of words, or words can be generated dynamically.\n",
        "\n",
        "**Implementation Considerations:**\n",
        "\n",
        "*   How to store and represent the hidden word?\n",
        "*   How to keep track of guessed letters (both correct and incorrect)?\n",
        "*   How to display the current state of the word with revealed letters?\n",
        "*   How to manage the number of remaining attempts?\n",
        "*   How to draw the hangman figure?\n",
        "\n",
        "This problem involves elements of string manipulation, conditional logic, and potentially data structures like lists or sets to manage guessed letters."
      ]
    },
    {
      "cell_type": "code",
      "execution_count": null,
      "metadata": {
        "id": "plt5PiVN9wqc"
      },
      "outputs": [],
      "source": [
        "import random"
      ]
    },
    {
      "cell_type": "code",
      "source": [
        "name = input(\"What is your name? \")\n",
        "listWord = name.split()\n",
        "print(listWord)"
      ],
      "metadata": {
        "colab": {
          "base_uri": "https://localhost:8080/"
        },
        "id": "4l_-MgfABDRy",
        "outputId": "3dcca4b7-57d2-4bc3-f32e-6f90aee3250f"
      },
      "execution_count": null,
      "outputs": [
        {
          "output_type": "stream",
          "name": "stdout",
          "text": [
            "What is your name? SHaurya Prakash Verma\n",
            "['SHaurya', 'Prakash', 'Verma']\n"
          ]
        }
      ]
    },
    {
      "cell_type": "code",
      "source": [
        "word = random.choice(listWord)\n",
        "print(word.lower())"
      ],
      "metadata": {
        "colab": {
          "base_uri": "https://localhost:8080/"
        },
        "id": "I3L8zn86ArDj",
        "outputId": "50aeb033-1a72-48e3-e0a5-2ed053f5bc5d"
      },
      "execution_count": null,
      "outputs": [
        {
          "output_type": "stream",
          "name": "stdout",
          "text": [
            "verma\n"
          ]
        }
      ]
    },
    {
      "cell_type": "code",
      "source": [
        "guessed_letters = set()\n",
        "correct_letters = set(word)\n",
        "turns =12\n",
        "display = ['_' for _ in word]"
      ],
      "metadata": {
        "id": "3sQt1tf3Bc91"
      },
      "execution_count": null,
      "outputs": []
    },
    {
      "cell_type": "code",
      "source": [
        "print(\"Welcome to Hangman Game!!\")"
      ],
      "metadata": {
        "id": "n9VfCekvB4dm",
        "colab": {
          "base_uri": "https://localhost:8080/"
        },
        "outputId": "c158c3e3-4d4a-46c9-f73a-7612527d5e28"
      },
      "execution_count": null,
      "outputs": [
        {
          "output_type": "stream",
          "name": "stdout",
          "text": [
            "Welcome to Hangman Game!!\n"
          ]
        }
      ]
    },
    {
      "cell_type": "code",
      "source": [
        "while turns > 0 and set(display) != correct_letters:\n",
        "    print(\"\\n\" + \" \".join(display))\n",
        "    print(f\"Attempts left: {turns}\")\n",
        "    char = input(\"Guess a letter: \").lower()\n",
        "\n",
        "    if char in guessed_letters:\n",
        "      print(\"You already guessed this letter\",end=\" \")\n",
        "\n",
        "    guessed_letters.add(char)\n",
        "\n",
        "    if char in correct_letters:\n",
        "      for i, letter in enumerate(word):\n",
        "              if letter == char:\n",
        "                    display[i] = char\n",
        "\n",
        "    else:\n",
        "      print(\"Wrong guess!! Try again\")\n",
        "      turns-=1\n",
        "\n",
        "if set(display) == correct_letters:\n",
        "      print(\"\\nCongratulations! You guessed the word:\", word)\n",
        "else:\n",
        "      print(\"\\nSorry, you ran out of attempts. The word was:\", word)\n",
        "\n"
      ],
      "metadata": {
        "colab": {
          "base_uri": "https://localhost:8080/"
        },
        "id": "XzBFn8uDKiOg",
        "outputId": "7f1145f8-b258-4fe3-f5a8-f5fd79670997"
      },
      "execution_count": null,
      "outputs": [
        {
          "output_type": "stream",
          "name": "stdout",
          "text": [
            "\n",
            "_ e r m a\n",
            "Attempts left: 8\n",
            "Guess a letter: v\n",
            "You already guessed this letter Wrong guess!! Try again\n",
            "\n",
            "_ e r m a\n",
            "Attempts left: 7\n",
            "Guess a letter: V\\\n",
            "Wrong guess!! Try again\n",
            "\n",
            "_ e r m a\n",
            "Attempts left: 6\n"
          ]
        }
      ]
    },
    {
      "cell_type": "code",
      "source": [],
      "metadata": {
        "id": "UEiULICHMTh5"
      },
      "execution_count": null,
      "outputs": []
    }
  ]
}