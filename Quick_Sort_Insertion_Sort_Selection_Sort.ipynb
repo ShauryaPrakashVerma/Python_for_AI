{
  "nbformat": 4,
  "nbformat_minor": 0,
  "metadata": {
    "colab": {
      "provenance": [],
      "authorship_tag": "ABX9TyNNwLBDi7a3Cpski2aSjVxe",
      "include_colab_link": true
    },
    "kernelspec": {
      "name": "python3",
      "display_name": "Python 3"
    },
    "language_info": {
      "name": "python"
    }
  },
  "cells": [
    {
      "cell_type": "markdown",
      "metadata": {
        "id": "view-in-github",
        "colab_type": "text"
      },
      "source": [
        "<a href=\"https://colab.research.google.com/github/ShauryaPrakashVerma/Python_for_AI/blob/main/Quick_Sort_Insertion_Sort_Selection_Sort.ipynb\" target=\"_parent\"><img src=\"https://colab.research.google.com/assets/colab-badge.svg\" alt=\"Open In Colab\"/></a>"
      ]
    },
    {
      "cell_type": "markdown",
      "source": [
        "#**Quick Sort**\n",
        "\n",
        "Quick Sort is a popular sorting algorithm that works by selecting a 'pivot' element\n",
        "from the array and partitioning the other elements into two sub-arrays, according to\n",
        "whether they are less than or greater than the pivot.\n",
        "The sub-arrays are then sorted recursively."
      ],
      "metadata": {
        "id": "PRtICW_n3WLh"
      }
    },
    {
      "cell_type": "code",
      "metadata": {
        "colab": {
          "base_uri": "https://localhost:8080/"
        },
        "id": "0cc94a82",
        "outputId": "216a8045-2a7f-4104-913b-f085ea312f4e"
      },
      "source": [
        "def quick_sort(arr):\n",
        "    if len(arr) <= 1:\n",
        "        return arr\n",
        "    pivot = arr[len(arr) // 2]\n",
        "    left = [x for x in arr if x < pivot]\n",
        "    middle = [x for x in arr if x == pivot]\n",
        "    right = [x for x in arr if x > pivot]\n",
        "    return quick_sort(left) + middle + quick_sort(right)\n",
        "\n",
        "# Example usage:\n",
        "my_list = [3, 6, 8, 10, 1, 2, 1]\n",
        "sorted_list = quick_sort(my_list)\n",
        "print(sorted_list)"
      ],
      "execution_count": 1,
      "outputs": [
        {
          "output_type": "stream",
          "name": "stdout",
          "text": [
            "[1, 1, 2, 3, 6, 8, 10]\n"
          ]
        }
      ]
    },
    {
      "cell_type": "code",
      "source": [],
      "metadata": {
        "id": "y6ROsj4u3mpS"
      },
      "execution_count": null,
      "outputs": []
    }
  ]
}