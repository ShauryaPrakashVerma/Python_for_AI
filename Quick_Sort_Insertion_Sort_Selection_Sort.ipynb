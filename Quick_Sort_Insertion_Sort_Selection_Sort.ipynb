{
  "nbformat": 4,
  "nbformat_minor": 0,
  "metadata": {
    "colab": {
      "provenance": [],
      "authorship_tag": "ABX9TyOdEXHSB3OQXwMLzeKVBnQi",
      "include_colab_link": true
    },
    "kernelspec": {
      "name": "python3",
      "display_name": "Python 3"
    },
    "language_info": {
      "name": "python"
    }
  },
  "cells": [
    {
      "cell_type": "markdown",
      "metadata": {
        "id": "view-in-github",
        "colab_type": "text"
      },
      "source": [
        "<a href=\"https://colab.research.google.com/github/ShauryaPrakashVerma/Python_for_AI/blob/main/Quick_Sort_Insertion_Sort_Selection_Sort.ipynb\" target=\"_parent\"><img src=\"https://colab.research.google.com/assets/colab-badge.svg\" alt=\"Open In Colab\"/></a>"
      ]
    },
    {
      "cell_type": "markdown",
      "source": [
        "#**Quick Sort**\n",
        "\n",
        "- Quick Sort is a popular sorting algorithm that works by selecting a 'pivot' element\n",
        "from the array and partitioning the other elements into two sub-arrays, according to\n",
        "whether they are less than or greater than the pivot.\n",
        "The sub-arrays are then sorted recursively."
      ],
      "metadata": {
        "id": "PRtICW_n3WLh"
      }
    },
    {
      "cell_type": "code",
      "metadata": {
        "colab": {
          "base_uri": "https://localhost:8080/"
        },
        "id": "0cc94a82",
        "outputId": "63a6c212-d088-4f4a-9d45-dd86e68d45d3"
      },
      "source": [
        "def quick_sort(arr):\n",
        "    if len(arr) <= 1:\n",
        "        return arr\n",
        "    pivot = arr[len(arr) // 2]\n",
        "    left = [x for x in arr if x < pivot]\n",
        "    middle = [x for x in arr if x == pivot]\n",
        "    right = [x for x in arr if x > pivot]\n",
        "    return quick_sort(left) + middle + quick_sort(right)\n",
        "\n",
        "\n",
        "my_list = [3, 6, 8, 10, 1, 2, 1,89,45,23,65,87,231,21,12]\n",
        "sorted_list = quick_sort(my_list)\n",
        "print(sorted_list)"
      ],
      "execution_count": null,
      "outputs": [
        {
          "output_type": "stream",
          "name": "stdout",
          "text": [
            "[1, 1, 2, 3, 6, 8, 10, 12, 21, 23, 45, 65, 87, 89, 231]\n"
          ]
        }
      ]
    },
    {
      "cell_type": "markdown",
      "source": [
        "#**Question On Quick Sort**\n",
        "- Sort a given set of n integer elements using Quick Sort method and compute its time complexity.\n",
        "\n",
        "- Run the program for varied values of n>500\n",
        "\n",
        "- Record the time taken to sort.\n",
        "\n"
      ],
      "metadata": {
        "id": "JyYTPh1DCJ9U"
      }
    },
    {
      "cell_type": "code",
      "source": [
        "import time as t\n",
        "\n",
        "def quick_sort(arr):\n",
        "  if len(arr) <= 1:\n",
        "    return arr\n",
        "  pivot = arr[len(arr) // 2]\n",
        "  left = [x for x in arr if x < pivot]\n",
        "  middle = [x for x in arr if x == pivot]\n",
        "  right = [x for x in arr if x > pivot]\n",
        "  return quick_sort(left) + middle + quick_sort(right)\n",
        "\n",
        "limit = int(input(\"Enter the Limiting value: \"))\n",
        "my_list = []\n",
        "for i in range(500, limit+1):\n",
        "  my_list.append(i)\n",
        "\n",
        "start_time = t.time()\n",
        "sorted_list = quick_sort(my_list)\n",
        "end_time = t.time()\n",
        "\n",
        "print(\"Sorted list:\", sorted_list)\n",
        "print(\"Execution time\", end_time - start_time, \"seconds\")"
      ],
      "metadata": {
        "colab": {
          "base_uri": "https://localhost:8080/"
        },
        "id": "l79FL0-nCyb0",
        "outputId": "ad1a8697-d197-466f-b7d4-78fef44adda2"
      },
      "execution_count": 12,
      "outputs": [
        {
          "output_type": "stream",
          "name": "stdout",
          "text": [
            "Enter the Limiting value: 510\n",
            "Sorted list: [500, 501, 502, 503, 504, 505, 506, 507, 508, 509, 510]\n",
            "Execution time 0.00011873245239257812 seconds\n"
          ]
        }
      ]
    },
    {
      "cell_type": "markdown",
      "source": [
        "#**Insertion Sort**\n",
        "\n",
        " - Insertion Sort is a simple sorting algorithm that builds the final sorted array one item at a time.\n",
        " - It is much less efficient on large lists than more advanced algorithms such as quicksort, heapsort, or merge sort"
      ],
      "metadata": {
        "id": "WERtJLZ95bCZ"
      }
    },
    {
      "cell_type": "code",
      "metadata": {
        "colab": {
          "base_uri": "https://localhost:8080/"
        },
        "id": "83047d0d",
        "outputId": "8f0581af-f2d4-418f-c7d4-054dab640646"
      },
      "source": [
        "def insertion_sort(arr):\n",
        "    for i in range(1, len(arr)):\n",
        "        key = arr[i]\n",
        "        j = i - 1\n",
        "        while j >= 0 and key < arr[j]:\n",
        "            arr[j + 1] = arr[j]\n",
        "            j -= 1\n",
        "        arr[j + 1] = key\n",
        "    return arr\n",
        "\n",
        "my_list = [12, 11, 13, 5, 6, 56, 3, 5, 9 , 56]\n",
        "sorted_list = insertion_sort(my_list)\n",
        "print(sorted_list)"
      ],
      "execution_count": null,
      "outputs": [
        {
          "output_type": "stream",
          "name": "stdout",
          "text": [
            "[3, 5, 5, 6, 9, 11, 12, 13, 56, 56]\n"
          ]
        }
      ]
    },
    {
      "cell_type": "markdown",
      "source": [
        "#**Selection Sort**\n",
        "\n",
        "- It divides the input list into two parts: a sorted sublist and an unsorted sublist.\n",
        "- In each step, it finds the minimum element from the unsorted sublist and swaps it with the leftmost element of the unsorted sublist, thus extending the sorted sublist.\n",
        "- It makes a fixed number of swaps (equal to the number of elements minus one) regardless of the initial order of the elements."
      ],
      "metadata": {
        "id": "VCt4KO7l89bQ"
      }
    },
    {
      "cell_type": "code",
      "source": [
        "def selection_sort(arr):\n",
        "  for i in range(len(arr)):\n",
        "    min_index = i\n",
        "    for j in range(i+1, len(arr)):\n",
        "      if arr[j] < arr[min_index]:\n",
        "        min_index = j\n",
        "        arr[i], arr[min_index] = arr[min_index], arr[i]\n",
        "  return arr\n",
        "\n",
        "my_list = [12, 11, 13, 5, 6, 56, 3, 5, 9 , 56]\n",
        "sorted_list = selection_sort(my_list)\n",
        "print(sorted_list)"
      ],
      "metadata": {
        "colab": {
          "base_uri": "https://localhost:8080/"
        },
        "id": "4_o1Cm6Q62Jr",
        "outputId": "d1fc3784-e560-412b-fadc-dc87355886d1"
      },
      "execution_count": null,
      "outputs": [
        {
          "output_type": "stream",
          "name": "stdout",
          "text": [
            "[5, 3, 6, 9, 5, 11, 12, 13, 56, 56]\n"
          ]
        }
      ]
    }
  ]
}