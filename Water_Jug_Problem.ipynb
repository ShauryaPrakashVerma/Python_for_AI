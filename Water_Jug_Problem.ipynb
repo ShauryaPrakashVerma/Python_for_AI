{
  "nbformat": 4,
  "nbformat_minor": 0,
  "metadata": {
    "colab": {
      "provenance": [],
      "authorship_tag": "ABX9TyOINoOvrRnLIvwoHkuNI8b4",
      "include_colab_link": true
    },
    "kernelspec": {
      "name": "python3",
      "display_name": "Python 3"
    },
    "language_info": {
      "name": "python"
    }
  },
  "cells": [
    {
      "cell_type": "markdown",
      "metadata": {
        "id": "view-in-github",
        "colab_type": "text"
      },
      "source": [
        "<a href=\"https://colab.research.google.com/github/ShauryaPrakashVerma/Python_for_AI/blob/main/Water_Jug_Problem.ipynb\" target=\"_parent\"><img src=\"https://colab.research.google.com/assets/colab-badge.svg\" alt=\"Open In Colab\"/></a>"
      ]
    },
    {
      "cell_type": "code",
      "execution_count": null,
      "metadata": {
        "id": "U19UaeeS4p6J"
      },
      "outputs": [],
      "source": [
        "'''\n",
        "Problem statement\n",
        "\n",
        "Flowchart\n",
        "'''"
      ]
    },
    {
      "cell_type": "code",
      "metadata": {
        "colab": {
          "base_uri": "https://localhost:8080/"
        },
        "id": "1049db5f",
        "outputId": "c1c15733-4a0d-4675-acb9-5cc31d265a58"
      },
      "source": [
        "# Step 1: Define the problem state\n",
        "# A state will be represented as a tuple (jug1_amount, jug2_amount)\n",
        "# For example, (0, 0) means both jugs are empty.\n",
        "\n",
        "# Define the capacities of the jugs\n",
        "jug1_capacity = 5\n",
        "jug2_capacity = 3\n",
        "target_amount = 4\n",
        "\n",
        "# Step 2: Define the possible actions\n",
        "# These are functions that take a state and return a new state (or None if the action is not possible)\n",
        "\n",
        "def fill_jug1(state):\n",
        "    \"\"\"Fills jug 1 to its capacity.\"\"\"\n",
        "    return (jug1_capacity, state[1])\n",
        "\n",
        "def fill_jug2(state):\n",
        "    \"\"\"Fills jug 2 to its capacity.\"\"\"\n",
        "    return (state[0], jug2_capacity)\n",
        "\n",
        "def empty_jug1(state):\n",
        "    \"\"\"Empties jug 1.\"\"\"\n",
        "    return (0, state[1])\n",
        "\n",
        "def empty_jug2(state):\n",
        "    \"\"\"Empties jug 2.\"\"\"\n",
        "    return (state[0], 0)\n",
        "\n",
        "def pour_jug1_to_jug2(state):\n",
        "    \"\"\"Pours water from jug 1 to jug 2.\"\"\"\n",
        "    amount_to_pour = min(state[0], jug2_capacity - state[1])\n",
        "    return (state[0] - amount_to_pour, state[1] + amount_to_pour)\n",
        "\n",
        "def pour_jug2_to_jug1(state):\n",
        "    \"\"\"Pours water from jug 2 to jug 1.\"\"\"\n",
        "    amount_to_pour = min(state[1], jug1_capacity - state[0])\n",
        "    return (state[0] + amount_to_pour, state[1] - amount_to_pour)\n",
        "\n",
        "# List of all possible actions and their corresponding functions\n",
        "actions = {\n",
        "    \"Fill Jug 1\": fill_jug1,\n",
        "    \"Fill Jug 2\": fill_jug2,\n",
        "    \"Empty Jug 1\": empty_jug1,\n",
        "    \"Empty Jug 2\": empty_jug2,\n",
        "    \"Pour Jug 1 to Jug 2\": pour_jug1_to_jug2,\n",
        "    \"Pour Jug 2 to Jug 1\": pour_jug2_to_jug1,\n",
        "}\n",
        "\n",
        "print(\"Problem setup complete: Defined states and actions.\")"
      ],
      "execution_count": 3,
      "outputs": [
        {
          "output_type": "stream",
          "name": "stdout",
          "text": [
            "Problem setup complete: Defined states and actions.\n"
          ]
        }
      ]
    },
    {
      "cell_type": "code",
      "metadata": {
        "colab": {
          "base_uri": "https://localhost:8080/"
        },
        "id": "0ea3c9ed",
        "outputId": "def45a52-55b1-4f13-8f00-fa87869d5bbc"
      },
      "source": [
        "# Step 4 & 5: Choose and implement a search algorithm (BFS)\n",
        "# Step 6: Define the goal state (4L in jug 1)\n",
        "# Step 7: Run the search\n",
        "\n",
        "from collections import deque\n",
        "\n",
        "def solve_water_jug(jug1_capacity, jug2_capacity, target_amount, actions):\n",
        "    \"\"\"\n",
        "    Solves the water jug problem using Breadth-First Search (BFS).\n",
        "\n",
        "    Args:\n",
        "        jug1_capacity: Capacity of the first jug.\n",
        "        jug2_capacity: Capacity of the second jug.\n",
        "        target_amount: The target amount of water to measure.\n",
        "        actions: A dictionary of possible actions and their functions.\n",
        "\n",
        "    Returns:\n",
        "        A list of states representing the solution path, or None if no solution is found.\n",
        "    \"\"\"\n",
        "    initial_state = (0, 0)\n",
        "    goal_state_condition = lambda state: state[0] == target_amount or state[1] == target_amount\n",
        "\n",
        "    queue = deque([(initial_state, [])])  # Queue stores tuples of (current_state, path_to_state)\n",
        "    visited = set([initial_state])\n",
        "\n",
        "    while queue:\n",
        "        current_state, path = queue.popleft()\n",
        "\n",
        "        # Check if the current state is a goal state\n",
        "        if goal_state_condition(current_state):\n",
        "            return path + [current_state]\n",
        "\n",
        "        # Explore possible next states\n",
        "        for action_name, action_func in actions.items():\n",
        "            next_state = action_func(current_state)\n",
        "\n",
        "            # Check if the next state is valid and not visited\n",
        "            if next_state is not None and next_state not in visited:\n",
        "                visited.add(next_state)\n",
        "                queue.append((next_state, path + [current_state]))\n",
        "\n",
        "    return None  # No solution found\n",
        "\n",
        "# Solve the problem\n",
        "solution_path = solve_water_jug(jug1_capacity, jug2_capacity, target_amount, actions)\n",
        "\n",
        "# Step 8 & 9: Reconstruct and present the solution path\n",
        "if solution_path:\n",
        "    print(\"Solution Found!\")\n",
        "    for i, state in enumerate(solution_path):\n",
        "        print(f\"Step {i}: {state}\")\n",
        "else:\n",
        "    print(\"No solution found.\")"
      ],
      "execution_count": 4,
      "outputs": [
        {
          "output_type": "stream",
          "name": "stdout",
          "text": [
            "Solution Found!\n",
            "Step 0: (0, 0)\n",
            "Step 1: (5, 0)\n",
            "Step 2: (2, 3)\n",
            "Step 3: (2, 0)\n",
            "Step 4: (0, 2)\n",
            "Step 5: (5, 2)\n",
            "Step 6: (4, 3)\n"
          ]
        }
      ]
    },
    {
      "cell_type": "code",
      "source": [],
      "metadata": {
        "id": "NK5x4OhOHo5C"
      },
      "execution_count": null,
      "outputs": []
    }
  ]
}
