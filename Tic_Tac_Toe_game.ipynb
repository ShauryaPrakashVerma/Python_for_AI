{
  "nbformat": 4,
  "nbformat_minor": 0,
  "metadata": {
    "colab": {
      "provenance": [],
      "authorship_tag": "ABX9TyNKjsUBhIu26rwjEeadGFTp",
      "include_colab_link": true
    },
    "kernelspec": {
      "name": "python3",
      "display_name": "Python 3"
    },
    "language_info": {
      "name": "python"
    }
  },
  "cells": [
    {
      "cell_type": "markdown",
      "metadata": {
        "id": "view-in-github",
        "colab_type": "text"
      },
      "source": [
        "<a href=\"https://colab.research.google.com/github/ShauryaPrakashVerma/Python_for_AI/blob/main/Tic_Tac_Toe_game.ipynb\" target=\"_parent\"><img src=\"https://colab.research.google.com/assets/colab-badge.svg\" alt=\"Open In Colab\"/></a>"
      ]
    },
    {
      "cell_type": "code",
      "execution_count": null,
      "metadata": {
        "id": "RvplGZGmtr6h"
      },
      "outputs": [],
      "source": [
        "import random"
      ]
    },
    {
      "cell_type": "code",
      "source": [
        "class tic_tac_toe:\n",
        "    def __init__(self):\n",
        "        self.board = []\n",
        "\n",
        "    def create_board(self):\n",
        "        for i in range(3):\n",
        "            row = []\n",
        "            for j in range(3):\n",
        "                row.append('-')\n",
        "            self.board.append(row)\n",
        "            print(\"board is successfully created\")\n",
        "            self.show.board()\n",
        "\n",
        "    def get_move(self):\n",
        "        while True:\n",
        "            try:\n",
        "                row_column = input(\"Enter row and column seperated by space: \")\n",
        "                list = row_column.split()\n",
        "\n",
        "                if 0 <= list[0] < 3 and 0 <= list[1] < 3:\n",
        "                    return list[0], list[1]\n",
        "                else:\n",
        "                    print(\"Invalid input. Row and column must be between 0 and 2.\")\n",
        "            except ValueError:\n",
        "                print(\"Invalid input. Please enter numbers.\")\n",
        "\n",
        "    def is_player_win(self, player):\n",
        "        for row in self.board:\n",
        "            if all([cell == player for cell in row]):\n",
        "                return True\n",
        "\n",
        "    def is_board_full(self):\n",
        "        for row in self.board:\n",
        "            for item in row:\n",
        "                if item == '-':\n",
        "                    return False\n",
        "        return True\n",
        "\n",
        "    def is_player_win(self, player):\n",
        "        for row in self.board:\n",
        "            if all([cell == player for cell in row]):\n",
        "                return True\n",
        "\n",
        "        for col in range(3):\n",
        "            if all([self.board[row][col] == player for row in range(3)]):\n",
        "                return True\n",
        "\n",
        "        if self.board[0][0] == self.board[1][1] == self.board[2][2] == player:\n",
        "            return True\n",
        "        if self.board[0][2] == self.board[1][1] == self.board[2][0] == player:\n",
        "            return True\n",
        "\n",
        "        return False\n",
        "\n",
        "\n",
        "    def is_board_full():\n",
        "      pass\n",
        "\n",
        "    def is_move_valid():\n",
        "      pass\n",
        "\n",
        "    def show_board(self):\n",
        "        for row in self.board:\n",
        "            for item in row:\n",
        "                print(item, end=\" \")\n",
        "            print()"
      ],
      "metadata": {
        "id": "Ngu5rjCJvlYU"
      },
      "execution_count": null,
      "outputs": []
    },
    {
      "cell_type": "code",
      "source": [
        "\n"
      ],
      "metadata": {
        "id": "USjCtvo4xr99",
        "colab": {
          "base_uri": "https://localhost:8080/"
        },
        "outputId": "00fd323d-3d85-407e-fb29-b076088403c2"
      },
      "execution_count": 11,
      "outputs": [
        {
          "output_type": "stream",
          "name": "stdout",
          "text": [
            "Enter row and column seperated by space: 0 3\n",
            "['0', '3']\n"
          ]
        }
      ]
    },
    {
      "cell_type": "code",
      "source": [],
      "metadata": {
        "id": "2EGNxLzn0Gzs"
      },
      "execution_count": null,
      "outputs": []
    },
    {
      "cell_type": "markdown",
      "metadata": {
        "id": "18c89157"
      },
      "source": [
        "# Task\n",
        "Implement a complete Tic Tac Toe game in Python."
      ]
    },
    {
      "cell_type": "markdown",
      "metadata": {
        "id": "7c86f362"
      },
      "source": [
        "## Complete the `tic tac toe` class\n",
        "\n",
        "### Subtask:\n",
        "Implement the missing methods (`get_move`, `is_player_win`, `is_board_full`, `is_move_valid`) and refine existing methods within the `tic_tac_toe` class.\n"
      ]
    },
    {
      "cell_type": "markdown",
      "metadata": {
        "id": "75c94e6f"
      },
      "source": [
        "**Reasoning**:\n",
        "Refine the existing `create_board` method and implement the missing methods `get_move`, `is_player_win`, `is_board_full`, and `is_move_valid` as per the instructions.\n",
        "\n"
      ]
    },
    {
      "cell_type": "code",
      "metadata": {
        "id": "f2905950"
      },
      "source": [
        "class tic_tac_toe:\n",
        "    def __init__(self):\n",
        "        self.board = []\n",
        "\n",
        "    def create_board(self):\n",
        "        for i in range(3):\n",
        "            row = []\n",
        "            for j in range(3):\n",
        "                row.append('-')\n",
        "            self.board.append(row)\n",
        "        self.show_board()\n",
        "\n",
        "    def get_move(self):\n",
        "        while True:\n",
        "            try:\n",
        "                row = int(input(\"Enter row (0, 1, 2): \"))\n",
        "                col = int(input(\"Enter column (0, 1, 2): \"))\n",
        "                if 0 <= row < 3 and 0 <= col < 3:\n",
        "                    return row, col\n",
        "                else:\n",
        "                    print(\"Invalid input. Row and column must be between 0 and 2.\")\n",
        "            except ValueError:\n",
        "                print(\"Invalid input. Please enter numbers.\")\n",
        "\n",
        "    def is_player_win(self, player):\n",
        "        # Check rows\n",
        "        for row in self.board:\n",
        "            if all([cell == player for cell in row]):\n",
        "                return True\n",
        "\n",
        "        # Check columns\n",
        "        for col in range(3):\n",
        "            if all([self.board[row][col] == player for row in range(3)]):\n",
        "                return True\n",
        "\n",
        "        # Check diagonals\n",
        "        if self.board[0][0] == self.board[1][1] == self.board[2][2] == player:\n",
        "            return True\n",
        "        if self.board[0][2] == self.board[1][1] == self.board[2][0] == player:\n",
        "            return True\n",
        "\n",
        "        return False\n",
        "\n",
        "    def is_board_full(self):\n",
        "        for row in self.board:\n",
        "            for item in row:\n",
        "                if item == '-':\n",
        "                    return False\n",
        "        return True\n",
        "\n",
        "    def is_move_valid(self, row, col):\n",
        "        return 0 <= row < 3 and 0 <= col < 3 and self.board[row][col] == '-'\n",
        "\n",
        "    def show_board(self):\n",
        "        for row in self.board:\n",
        "            for item in row:\n",
        "                print(item, end=\" \")\n",
        "            print()"
      ],
      "execution_count": 7,
      "outputs": []
    },
    {
      "cell_type": "markdown",
      "metadata": {
        "id": "fa0316e3"
      },
      "source": [
        "## Add game loop\n",
        "\n",
        "### Subtask:\n",
        "Create a main game loop to handle player turns and game ending conditions.\n"
      ]
    },
    {
      "cell_type": "markdown",
      "metadata": {
        "id": "0bfe9e9a"
      },
      "source": [
        "**Reasoning**:\n",
        "Implement the main game loop based on the provided instructions, including instantiating the class, initializing the board and player, and handling turns and game ending conditions within a while loop.\n",
        "\n"
      ]
    },
    {
      "cell_type": "code",
      "metadata": {
        "colab": {
          "base_uri": "https://localhost:8080/",
          "height": 582
        },
        "id": "84168ee9",
        "outputId": "f6925740-7b37-4745-8741-ff5738203dc7"
      },
      "source": [
        "game = tic_tac_toe()\n",
        "game.create_board()\n",
        "\n",
        "current_player = 'X'\n",
        "\n",
        "while not game.is_board_full() and not game.is_player_win('X') and not game.is_player_win('O'):\n",
        "    print(f\"It's {current_player}'s turn.\")\n",
        "    row, col = game.get_move()\n",
        "\n",
        "    if game.is_move_valid(row, col):\n",
        "        game.board[row][col] = current_player\n",
        "        game.show_board()\n",
        "        if game.is_player_win(current_player):\n",
        "            print(f\"Player {current_player} wins!\")\n",
        "            break\n",
        "        if game.is_board_full():\n",
        "            print(\"It's a tie!\")\n",
        "            break\n",
        "        current_player = 'O' if current_player == 'X' else 'X'\n",
        "    else:\n",
        "        print(\"Invalid move. Try again.\")\n"
      ],
      "execution_count": 8,
      "outputs": [
        {
          "output_type": "stream",
          "name": "stdout",
          "text": [
            "- - - \n",
            "- - - \n",
            "- - - \n",
            "It's X's turn.\n",
            "Enter row (0, 1, 2): 1\n",
            "Enter column (0, 1, 2): 3\n",
            "Invalid input. Row and column must be between 0 and 2.\n",
            "Enter row (0, 1, 2): 1\n",
            "Enter column (0, 1, 2): 0\n",
            "- - - \n",
            "X - - \n",
            "- - - \n",
            "It's O's turn.\n"
          ]
        },
        {
          "output_type": "error",
          "ename": "KeyboardInterrupt",
          "evalue": "Interrupted by user",
          "traceback": [
            "\u001b[0;31m---------------------------------------------------------------------------\u001b[0m",
            "\u001b[0;31mKeyboardInterrupt\u001b[0m                         Traceback (most recent call last)",
            "\u001b[0;32m/tmp/ipython-input-4141542979.py\u001b[0m in \u001b[0;36m<cell line: 0>\u001b[0;34m()\u001b[0m\n\u001b[1;32m      6\u001b[0m \u001b[0;32mwhile\u001b[0m \u001b[0;32mnot\u001b[0m \u001b[0mgame\u001b[0m\u001b[0;34m.\u001b[0m\u001b[0mis_board_full\u001b[0m\u001b[0;34m(\u001b[0m\u001b[0;34m)\u001b[0m \u001b[0;32mand\u001b[0m \u001b[0;32mnot\u001b[0m \u001b[0mgame\u001b[0m\u001b[0;34m.\u001b[0m\u001b[0mis_player_win\u001b[0m\u001b[0;34m(\u001b[0m\u001b[0;34m'X'\u001b[0m\u001b[0;34m)\u001b[0m \u001b[0;32mand\u001b[0m \u001b[0;32mnot\u001b[0m \u001b[0mgame\u001b[0m\u001b[0;34m.\u001b[0m\u001b[0mis_player_win\u001b[0m\u001b[0;34m(\u001b[0m\u001b[0;34m'O'\u001b[0m\u001b[0;34m)\u001b[0m\u001b[0;34m:\u001b[0m\u001b[0;34m\u001b[0m\u001b[0;34m\u001b[0m\u001b[0m\n\u001b[1;32m      7\u001b[0m     \u001b[0mprint\u001b[0m\u001b[0;34m(\u001b[0m\u001b[0;34mf\"It's {current_player}'s turn.\"\u001b[0m\u001b[0;34m)\u001b[0m\u001b[0;34m\u001b[0m\u001b[0;34m\u001b[0m\u001b[0m\n\u001b[0;32m----> 8\u001b[0;31m     \u001b[0mrow\u001b[0m\u001b[0;34m,\u001b[0m \u001b[0mcol\u001b[0m \u001b[0;34m=\u001b[0m \u001b[0mgame\u001b[0m\u001b[0;34m.\u001b[0m\u001b[0mget_move\u001b[0m\u001b[0;34m(\u001b[0m\u001b[0;34m)\u001b[0m\u001b[0;34m\u001b[0m\u001b[0;34m\u001b[0m\u001b[0m\n\u001b[0m\u001b[1;32m      9\u001b[0m \u001b[0;34m\u001b[0m\u001b[0m\n\u001b[1;32m     10\u001b[0m     \u001b[0;32mif\u001b[0m \u001b[0mgame\u001b[0m\u001b[0;34m.\u001b[0m\u001b[0mis_move_valid\u001b[0m\u001b[0;34m(\u001b[0m\u001b[0mrow\u001b[0m\u001b[0;34m,\u001b[0m \u001b[0mcol\u001b[0m\u001b[0;34m)\u001b[0m\u001b[0;34m:\u001b[0m\u001b[0;34m\u001b[0m\u001b[0;34m\u001b[0m\u001b[0m\n",
            "\u001b[0;32m/tmp/ipython-input-3055408636.py\u001b[0m in \u001b[0;36mget_move\u001b[0;34m(self)\u001b[0m\n\u001b[1;32m     14\u001b[0m         \u001b[0;32mwhile\u001b[0m \u001b[0;32mTrue\u001b[0m\u001b[0;34m:\u001b[0m\u001b[0;34m\u001b[0m\u001b[0;34m\u001b[0m\u001b[0m\n\u001b[1;32m     15\u001b[0m             \u001b[0;32mtry\u001b[0m\u001b[0;34m:\u001b[0m\u001b[0;34m\u001b[0m\u001b[0;34m\u001b[0m\u001b[0m\n\u001b[0;32m---> 16\u001b[0;31m                 \u001b[0mrow\u001b[0m \u001b[0;34m=\u001b[0m \u001b[0mint\u001b[0m\u001b[0;34m(\u001b[0m\u001b[0minput\u001b[0m\u001b[0;34m(\u001b[0m\u001b[0;34m\"Enter row (0, 1, 2): \"\u001b[0m\u001b[0;34m)\u001b[0m\u001b[0;34m)\u001b[0m\u001b[0;34m\u001b[0m\u001b[0;34m\u001b[0m\u001b[0m\n\u001b[0m\u001b[1;32m     17\u001b[0m                 \u001b[0mcol\u001b[0m \u001b[0;34m=\u001b[0m \u001b[0mint\u001b[0m\u001b[0;34m(\u001b[0m\u001b[0minput\u001b[0m\u001b[0;34m(\u001b[0m\u001b[0;34m\"Enter column (0, 1, 2): \"\u001b[0m\u001b[0;34m)\u001b[0m\u001b[0;34m)\u001b[0m\u001b[0;34m\u001b[0m\u001b[0;34m\u001b[0m\u001b[0m\n\u001b[1;32m     18\u001b[0m                 \u001b[0;32mif\u001b[0m \u001b[0;36m0\u001b[0m \u001b[0;34m<=\u001b[0m \u001b[0mrow\u001b[0m \u001b[0;34m<\u001b[0m \u001b[0;36m3\u001b[0m \u001b[0;32mand\u001b[0m \u001b[0;36m0\u001b[0m \u001b[0;34m<=\u001b[0m \u001b[0mcol\u001b[0m \u001b[0;34m<\u001b[0m \u001b[0;36m3\u001b[0m\u001b[0;34m:\u001b[0m\u001b[0;34m\u001b[0m\u001b[0;34m\u001b[0m\u001b[0m\n",
            "\u001b[0;32m/usr/local/lib/python3.12/dist-packages/ipykernel/kernelbase.py\u001b[0m in \u001b[0;36mraw_input\u001b[0;34m(self, prompt)\u001b[0m\n\u001b[1;32m   1175\u001b[0m                 \u001b[0;34m\"raw_input was called, but this frontend does not support input requests.\"\u001b[0m\u001b[0;34m\u001b[0m\u001b[0;34m\u001b[0m\u001b[0m\n\u001b[1;32m   1176\u001b[0m             )\n\u001b[0;32m-> 1177\u001b[0;31m         return self._input_request(\n\u001b[0m\u001b[1;32m   1178\u001b[0m             \u001b[0mstr\u001b[0m\u001b[0;34m(\u001b[0m\u001b[0mprompt\u001b[0m\u001b[0;34m)\u001b[0m\u001b[0;34m,\u001b[0m\u001b[0;34m\u001b[0m\u001b[0;34m\u001b[0m\u001b[0m\n\u001b[1;32m   1179\u001b[0m             \u001b[0mself\u001b[0m\u001b[0;34m.\u001b[0m\u001b[0m_parent_ident\u001b[0m\u001b[0;34m[\u001b[0m\u001b[0;34m\"shell\"\u001b[0m\u001b[0;34m]\u001b[0m\u001b[0;34m,\u001b[0m\u001b[0;34m\u001b[0m\u001b[0;34m\u001b[0m\u001b[0m\n",
            "\u001b[0;32m/usr/local/lib/python3.12/dist-packages/ipykernel/kernelbase.py\u001b[0m in \u001b[0;36m_input_request\u001b[0;34m(self, prompt, ident, parent, password)\u001b[0m\n\u001b[1;32m   1217\u001b[0m             \u001b[0;32mexcept\u001b[0m \u001b[0mKeyboardInterrupt\u001b[0m\u001b[0;34m:\u001b[0m\u001b[0;34m\u001b[0m\u001b[0;34m\u001b[0m\u001b[0m\n\u001b[1;32m   1218\u001b[0m                 \u001b[0;31m# re-raise KeyboardInterrupt, to truncate traceback\u001b[0m\u001b[0;34m\u001b[0m\u001b[0;34m\u001b[0m\u001b[0m\n\u001b[0;32m-> 1219\u001b[0;31m                 \u001b[0;32mraise\u001b[0m \u001b[0mKeyboardInterrupt\u001b[0m\u001b[0;34m(\u001b[0m\u001b[0;34m\"Interrupted by user\"\u001b[0m\u001b[0;34m)\u001b[0m \u001b[0;32mfrom\u001b[0m \u001b[0;32mNone\u001b[0m\u001b[0;34m\u001b[0m\u001b[0;34m\u001b[0m\u001b[0m\n\u001b[0m\u001b[1;32m   1220\u001b[0m             \u001b[0;32mexcept\u001b[0m \u001b[0mException\u001b[0m\u001b[0;34m:\u001b[0m\u001b[0;34m\u001b[0m\u001b[0;34m\u001b[0m\u001b[0m\n\u001b[1;32m   1221\u001b[0m                 \u001b[0mself\u001b[0m\u001b[0;34m.\u001b[0m\u001b[0mlog\u001b[0m\u001b[0;34m.\u001b[0m\u001b[0mwarning\u001b[0m\u001b[0;34m(\u001b[0m\u001b[0;34m\"Invalid Message:\"\u001b[0m\u001b[0;34m,\u001b[0m \u001b[0mexc_info\u001b[0m\u001b[0;34m=\u001b[0m\u001b[0;32mTrue\u001b[0m\u001b[0;34m)\u001b[0m\u001b[0;34m\u001b[0m\u001b[0;34m\u001b[0m\u001b[0m\n",
            "\u001b[0;31mKeyboardInterrupt\u001b[0m: Interrupted by user"
          ]
        }
      ]
    }
  ]
}