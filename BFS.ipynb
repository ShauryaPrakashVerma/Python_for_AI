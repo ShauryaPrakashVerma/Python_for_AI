{
  "nbformat": 4,
  "nbformat_minor": 0,
  "metadata": {
    "colab": {
      "provenance": [],
      "authorship_tag": "ABX9TyNxV3Pxb0V91lvzaHucZ8xq",
      "include_colab_link": true
    },
    "kernelspec": {
      "name": "python3",
      "display_name": "Python 3"
    },
    "language_info": {
      "name": "python"
    }
  },
  "cells": [
    {
      "cell_type": "markdown",
      "metadata": {
        "id": "view-in-github",
        "colab_type": "text"
      },
      "source": [
        "<a href=\"https://colab.research.google.com/github/ShauryaPrakashVerma/Python_for_AI/blob/main/BFS.ipynb\" target=\"_parent\"><img src=\"https://colab.research.google.com/assets/colab-badge.svg\" alt=\"Open In Colab\"/></a>"
      ]
    },
    {
      "cell_type": "code",
      "execution_count": 1,
      "metadata": {
        "id": "R_IoAhO15D-Z"
      },
      "outputs": [],
      "source": [
        "from collections import deque"
      ]
    },
    {
      "cell_type": "code",
      "source": [
        "def bfs(graph, start):\n",
        "    visited = set()         # taken as a set to avoid duplicate storage of visited elements\n",
        "    queue = deque([start])  # can contain already visited nodes #not possible in tree but possible in graph\n",
        "    Traverse_order = []\n",
        "    while queue:\n",
        "        node = queue.popleft()\n",
        "        if node not in visited:\n",
        "            visited.add(node)  #adds newly visited nodes to the visited set to mark them\n",
        "            Traverse_order.append(node)\n",
        "            queue.extend(neighbor for neighbor in graph[node] if neighbor not in visited)  #accesses the adjacency list of the current node to find unvisited nodes and add it to the queue for processing\n",
        "\n",
        "    return Traverse_order"
      ],
      "metadata": {
        "id": "rzZOayAG5tkF"
      },
      "execution_count": 16,
      "outputs": []
    },
    {
      "cell_type": "code",
      "source": [
        "graph = {\n",
        "    \"a\": [\"z\", \"x\"],\n",
        "    \"z\": [\"a\", \"y\", \"j\"],\n",
        "    \"x\": [\"a\", \"k\", \"t\"],\n",
        "    \"y\": [\"z\"],\n",
        "    \"j\": [\"z\"],\n",
        "    \"k\": [\"x\"],\n",
        "    \"t\": [\"x\"]\n",
        "}"
      ],
      "metadata": {
        "id": "Sup7F0GG7Ltu"
      },
      "execution_count": 23,
      "outputs": []
    },
    {
      "cell_type": "code",
      "source": [
        "start_node = \"a\"\n",
        "print(\"BFS Traversal:\", bfs(graph, start_node))"
      ],
      "metadata": {
        "colab": {
          "base_uri": "https://localhost:8080/"
        },
        "id": "JuvaQknv7OEb",
        "outputId": "5a3e1b20-9cda-44c4-bd8e-024ad867614f"
      },
      "execution_count": 24,
      "outputs": [
        {
          "output_type": "stream",
          "name": "stdout",
          "text": [
            "BFS Traversal: ['a', 'z', 'x', 'y', 'j', 'k', 't']\n"
          ]
        }
      ]
    },
    {
      "cell_type": "code",
      "source": [],
      "metadata": {
        "id": "5-lijDcE7U5N"
      },
      "execution_count": null,
      "outputs": []
    }
  ]
}