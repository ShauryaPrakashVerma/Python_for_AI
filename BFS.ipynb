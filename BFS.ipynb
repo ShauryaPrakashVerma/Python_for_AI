{
  "nbformat": 4,
  "nbformat_minor": 0,
  "metadata": {
    "colab": {
      "provenance": [],
      "authorship_tag": "ABX9TyOd2nx0xBtY+M4iAclyo9jT",
      "include_colab_link": true
    },
    "kernelspec": {
      "name": "python3",
      "display_name": "Python 3"
    },
    "language_info": {
      "name": "python"
    }
  },
  "cells": [
    {
      "cell_type": "markdown",
      "metadata": {
        "id": "view-in-github",
        "colab_type": "text"
      },
      "source": [
        "<a href=\"https://colab.research.google.com/github/ShauryaPrakashVerma/Python_for_AI/blob/main/BFS.ipynb\" target=\"_parent\"><img src=\"https://colab.research.google.com/assets/colab-badge.svg\" alt=\"Open In Colab\"/></a>"
      ]
    },
    {
      "cell_type": "code",
      "execution_count": 1,
      "metadata": {
        "id": "R_IoAhO15D-Z"
      },
      "outputs": [],
      "source": [
        "from collections import deque"
      ]
    },
    {
      "cell_type": "code",
      "source": [
        "def bfs(graph, start):\n",
        "    visited = set()  # To keep track of visited nodes\n",
        "    queue = deque([start])  # Initialize a queue with the starting node\n",
        "    traversal = []  # To store the BFS traversal order\n",
        "\n",
        "    while queue:\n",
        "        node = queue.popleft()  # Dequeue a node\n",
        "        if node not in visited:\n",
        "            visited.add(node)  # Mark the node as visited\n",
        "            traversal.append(node)  # Add it to the traversal list\n",
        "            # Add all unvisited neighbors to the queue\n",
        "            queue.extend(neighbor for neighbor in graph[node] if neighbor not in visited)\n",
        "\n",
        "    return traversal"
      ],
      "metadata": {
        "id": "rzZOayAG5tkF"
      },
      "execution_count": 2,
      "outputs": []
    },
    {
      "cell_type": "code",
      "source": [
        "\n",
        "# Example usage\n",
        "graph = {\n",
        "    0: [1, 2],\n",
        "    1: [0, 3, 4],\n",
        "    2: [0, 5, 6],\n",
        "    3: [1],\n",
        "    4: [1],\n",
        "    5: [2],\n",
        "    6: [2]\n",
        "}\n"
      ],
      "metadata": {
        "id": "Sup7F0GG7Ltu"
      },
      "execution_count": 3,
      "outputs": []
    },
    {
      "cell_type": "code",
      "source": [
        "\n",
        "start_node = 0\n",
        "print(\"BFS Traversal:\", bfs(graph, start_node))"
      ],
      "metadata": {
        "colab": {
          "base_uri": "https://localhost:8080/"
        },
        "id": "JuvaQknv7OEb",
        "outputId": "d8fcac99-df39-45ca-fa4e-4b6b578b4b09"
      },
      "execution_count": 4,
      "outputs": [
        {
          "output_type": "stream",
          "name": "stdout",
          "text": [
            "BFS Traversal: [0, 1, 2, 3, 4, 5, 6]\n"
          ]
        }
      ]
    },
    {
      "cell_type": "code",
      "source": [],
      "metadata": {
        "id": "5-lijDcE7U5N"
      },
      "execution_count": null,
      "outputs": []
    }
  ]
}