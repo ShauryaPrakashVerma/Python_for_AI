{
  "nbformat": 4,
  "nbformat_minor": 0,
  "metadata": {
    "colab": {
      "provenance": [],
      "authorship_tag": "ABX9TyM2uRcB6IQsrVbDg7uDhQaQ",
      "include_colab_link": true
    },
    "kernelspec": {
      "name": "python3",
      "display_name": "Python 3"
    },
    "language_info": {
      "name": "python"
    }
  },
  "cells": [
    {
      "cell_type": "markdown",
      "metadata": {
        "id": "view-in-github",
        "colab_type": "text"
      },
      "source": [
        "<a href=\"https://colab.research.google.com/github/ShauryaPrakashVerma/Python_for_AI/blob/main/BFS.ipynb\" target=\"_parent\"><img src=\"https://colab.research.google.com/assets/colab-badge.svg\" alt=\"Open In Colab\"/></a>"
      ]
    },
    {
      "cell_type": "code",
      "execution_count": null,
      "metadata": {
        "id": "R_IoAhO15D-Z"
      },
      "outputs": [],
      "source": [
        "from collections import deque"
      ]
    },
    {
      "cell_type": "code",
      "source": [
        "def bfs(graph, start):\n",
        "    visited_set = set()         # taken as a set to avoid duplicate storage of visited elements\n",
        "    queue = deque([start])  # can contain already visited nodes #not possible in tree but possible in graph\n",
        "    Traverse_order = []\n",
        "    while queue:\n",
        "        node = queue.popleft()\n",
        "        if node not in visited_set:\n",
        "            visited_set.add(node)  #adds newly visited nodes to the visited set to mark them\n",
        "            Traverse_order.append(node)\n",
        "            queue.extend(neighbor for neighbor in graph[node] if neighbor not in visited_set)  #accesses the adjacency list of the current node to find unvisited nodes and add it to the queue for processing\n",
        "\n",
        "    return Traverse_order"
      ],
      "metadata": {
        "id": "rzZOayAG5tkF"
      },
      "execution_count": null,
      "outputs": []
    },
    {
      "cell_type": "code",
      "source": [
        "graph1 = {\n",
        "    \"a\": [\"z\", \"x\"],\n",
        "    \"z\": [\"a\", \"y\", \"j\"],\n",
        "    \"x\": [\"a\", \"k\", \"t\"],\n",
        "    \"y\": [\"z\"],\n",
        "    \"j\": [\"z\"],\n",
        "    \"k\": [\"x\"],\n",
        "    \"t\": [\"x\"]\n",
        "}\n",
        "\n",
        "\n",
        "# Directed graph example\n",
        "graph2= {\n",
        "    \"a\": [\"b\", \"c\"],\n",
        "    \"b\": [\"d\", \"e\"],\n",
        "    \"c\": [\"f\"],\n",
        "    \"d\": [],\n",
        "    \"e\": [\"f\"],\n",
        "    \"f\": []\n",
        "}\n"
      ],
      "metadata": {
        "id": "Sup7F0GG7Ltu"
      },
      "execution_count": null,
      "outputs": []
    },
    {
      "cell_type": "code",
      "source": [
        "start_node = \"a\"\n",
        "print(\"BFS Traversal for graph 1:\", bfs(graph1, start_node))\n",
        "\n",
        "print(\"BFS Traversal for graph 2:\", bfs(graph2, start_node))"
      ],
      "metadata": {
        "colab": {
          "base_uri": "https://localhost:8080/"
        },
        "id": "JuvaQknv7OEb",
        "outputId": "a9ce9b67-707f-404c-9601-905eb2b3a845"
      },
      "execution_count": null,
      "outputs": [
        {
          "output_type": "stream",
          "name": "stdout",
          "text": [
            "BFS Traversal for graph 1: ['a', 'z', 'x', 'y', 'j', 'k', 't']\n",
            "BFS Traversal for graph 2: ['a', 'b', 'c', 'd', 'e', 'f']\n"
          ]
        }
      ]
    },
    {
      "cell_type": "code",
      "source": [],
      "metadata": {
        "id": "5-lijDcE7U5N"
      },
      "execution_count": null,
      "outputs": []
    },
    {
      "cell_type": "code",
      "source": [
        "'''\n",
        "DFS\n",
        "'''\n",
        "\n"
      ],
      "metadata": {
        "id": "K-GoUyKBLqVJ"
      },
      "execution_count": null,
      "outputs": []
    },
    {
      "cell_type": "code",
      "metadata": {
        "id": "f4666636"
      },
      "source": [
        "def dfs(graph, start, visited_set=None):\n",
        "    if visited_set is None:\n",
        "        visited_set = set()\n",
        "    visited_set.add(start)\n",
        "    Traverse_order = [start]\n",
        "    for neighbor in graph.get(start, []):\n",
        "        if neighbor not in visited_set:\n",
        "            Traverse_order.extend(dfs(graph, neighbor, visited_set))\n",
        "    return Traverse_order"
      ],
      "execution_count": 1,
      "outputs": []
    },
    {
      "cell_type": "code",
      "source": [],
      "metadata": {
        "id": "emcG-nQ_MAgT"
      },
      "execution_count": null,
      "outputs": []
    }
  ]
}