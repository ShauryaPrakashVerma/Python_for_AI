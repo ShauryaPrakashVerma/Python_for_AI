{
  "nbformat": 4,
  "nbformat_minor": 0,
  "metadata": {
    "colab": {
      "provenance": [],
      "authorship_tag": "ABX9TyOYX/3U2tPKxv3fyo/VAb+e",
      "include_colab_link": true
    },
    "kernelspec": {
      "name": "python3",
      "display_name": "Python 3"
    },
    "language_info": {
      "name": "python"
    }
  },
  "cells": [
    {
      "cell_type": "markdown",
      "metadata": {
        "id": "view-in-github",
        "colab_type": "text"
      },
      "source": [
        "<a href=\"https://colab.research.google.com/github/ShauryaPrakashVerma/Python_for_AI/blob/main/BFS.ipynb\" target=\"_parent\"><img src=\"https://colab.research.google.com/assets/colab-badge.svg\" alt=\"Open In Colab\"/></a>"
      ]
    },
    {
      "cell_type": "code",
      "execution_count": 1,
      "metadata": {
        "id": "R_IoAhO15D-Z"
      },
      "outputs": [],
      "source": [
        "from collections import deque"
      ]
    },
    {
      "cell_type": "code",
      "source": [
        "def bfs(graph, start):\n",
        "    visited = set()\n",
        "    queue = deque([start])\n",
        "    traversal = []\n",
        "    while queue:\n",
        "        node = queue.popleft()\n",
        "        if node not in visited:\n",
        "            visited.add(node)\n",
        "            traversal.append(node)\n",
        "            queue.extend(neighbor for neighbor in graph[node] if neighbor not in visited)\n",
        "\n",
        "    return traversal"
      ],
      "metadata": {
        "id": "rzZOayAG5tkF"
      },
      "execution_count": 16,
      "outputs": []
    },
    {
      "cell_type": "code",
      "source": [
        "\n",
        "graph = {\n",
        "    \"a\": [\"z\", \"x\"],\n",
        "    \"z\": [\"a\", \"y\", \"j\"],\n",
        "    \"x\": [\"a\", \"k\", \"t\"],\n",
        "    \"y\": [\"z\"],\n",
        "    \"j\": [\"z\"],\n",
        "    \"k\": [\"x\"],\n",
        "    \"t\": [\"x\"]\n",
        "}\n"
      ],
      "metadata": {
        "id": "Sup7F0GG7Ltu"
      },
      "execution_count": 21,
      "outputs": []
    },
    {
      "cell_type": "code",
      "source": [
        "\n",
        "start_node = \"a\"\n",
        "print(\"BFS Traversal:\", bfs(graph, start_node))"
      ],
      "metadata": {
        "colab": {
          "base_uri": "https://localhost:8080/"
        },
        "id": "JuvaQknv7OEb",
        "outputId": "abadb1bd-a24e-4dde-d36f-634a29d4ace8"
      },
      "execution_count": 22,
      "outputs": [
        {
          "output_type": "stream",
          "name": "stdout",
          "text": [
            "BFS Traversal: ['a', 'z', 'x', 'y', 'j', 'k', 't']\n"
          ]
        }
      ]
    },
    {
      "cell_type": "code",
      "source": [],
      "metadata": {
        "id": "5-lijDcE7U5N"
      },
      "execution_count": null,
      "outputs": []
    }
  ]
}