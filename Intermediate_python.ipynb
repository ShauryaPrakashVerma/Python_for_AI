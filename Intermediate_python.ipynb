{
  "nbformat": 4,
  "nbformat_minor": 0,
  "metadata": {
    "colab": {
      "provenance": [],
      "authorship_tag": "ABX9TyMlBKwsUA54OoUMTCBsceyf",
      "include_colab_link": true
    },
    "kernelspec": {
      "name": "python3",
      "display_name": "Python 3"
    },
    "language_info": {
      "name": "python"
    }
  },
  "cells": [
    {
      "cell_type": "markdown",
      "metadata": {
        "id": "view-in-github",
        "colab_type": "text"
      },
      "source": [
        "<a href=\"https://colab.research.google.com/github/ShauryaPrakashVerma/Python_for_AI/blob/main/Intermediate_python.ipynb\" target=\"_parent\"><img src=\"https://colab.research.google.com/assets/colab-badge.svg\" alt=\"Open In Colab\"/></a>"
      ]
    },
    {
      "cell_type": "markdown",
      "source": [
        "#**Functions in Python**\n",
        "- Benefit of function is code reusability.\n",
        "- created by using the keyword def.\n",
        "\n",
        "Two types of functions:\n",
        "1. Built-in\n",
        "2. User Defined\n",
        "\n",
        "\n",
        "\n",
        "\n",
        "\n",
        "Principles of Functions:\n",
        "1. Abstraction\n",
        "2. Decomposition"
      ],
      "metadata": {
        "id": "TDMSeQzpCOTC"
      }
    },
    {
      "cell_type": "code",
      "execution_count": null,
      "metadata": {
        "id": "O8zrjgJ5BfMi"
      },
      "outputs": [],
      "source": [
        "'''\n",
        "Creating function\n",
        "'''\n",
        "\n",
        "def greet():\n",
        "  name = input(\"Enter your name: \")\n",
        "  print(f\"Hello {name}\")\n",
        "\n",
        "greet()"
      ]
    },
    {
      "cell_type": "markdown",
      "source": [
        "\n",
        "\n",
        "---\n",
        "\n"
      ],
      "metadata": {
        "id": "b4dMn2MRNG5U"
      }
    },
    {
      "cell_type": "markdown",
      "source": [
        "#**Docstring in Python**\n",
        "- used to provide info about the function\n"
      ],
      "metadata": {
        "id": "EeGIodIJNIAS"
      }
    },
    {
      "cell_type": "code",
      "source": [
        "def odd_even(num):\n",
        "  \"\"\"\n",
        "  This function is used to check if a given number is odd or even.\n",
        "  Input - any valid integer\n",
        "  Output - odd/even\n",
        "  \"\"\"\n",
        "  if num%2 == 0:\n",
        "    print(f\"{num} is even\")\n",
        "  else:\n",
        "    print(f\"{num} is odd\")\n",
        "\n",
        "odd_even(10)"
      ],
      "metadata": {
        "colab": {
          "base_uri": "https://localhost:8080/"
        },
        "id": "CQHEPsRnNyXc",
        "outputId": "7691b285-7b14-4103-f0b8-a7b7f55bba3d"
      },
      "execution_count": 1,
      "outputs": [
        {
          "output_type": "stream",
          "name": "stdout",
          "text": [
            "10 is even\n"
          ]
        }
      ]
    },
    {
      "cell_type": "code",
      "source": [
        "print(odd_even.__doc__)      # function to print the docstring of the function"
      ],
      "metadata": {
        "colab": {
          "base_uri": "https://localhost:8080/"
        },
        "id": "NXNFtbxyOXBP",
        "outputId": "1853b2f8-9d72-4350-9acb-d6612942ea5f"
      },
      "execution_count": 2,
      "outputs": [
        {
          "output_type": "stream",
          "name": "stdout",
          "text": [
            "\n",
            "  This function is used to check if a given number is odd or even.\n",
            "  Input - any valid integer\n",
            "  Output - odd/even\n",
            "  \n"
          ]
        }
      ]
    },
    {
      "cell_type": "markdown",
      "source": [
        "\n",
        "\n",
        "---\n",
        "\n"
      ],
      "metadata": {
        "id": "BHJxqU6tO-6K"
      }
    },
    {
      "cell_type": "markdown",
      "source": [
        "#**Parameters v/s Arguments**\n",
        "- parameters in function definition\n",
        "- arguments in function call"
      ],
      "metadata": {
        "id": "Ki_6GyubO_u4"
      }
    },
    {
      "cell_type": "code",
      "source": [
        "def odd_even(num):      #Parameters\n",
        "  \"\"\"\n",
        "  This function is used to check if a given number is odd or even.\n",
        "  Input - any valid integer\n",
        "  Output - odd/even\n",
        "  \"\"\"\n",
        "  if num%2 == 0:\n",
        "    print(f\"{num} is even\")\n",
        "  else:\n",
        "    print(f\"{num} is odd\")\n",
        "\n",
        "odd_even(10)      #Arguments"
      ],
      "metadata": {
        "colab": {
          "base_uri": "https://localhost:8080/"
        },
        "id": "kQdZZhC7OmCC",
        "outputId": "d895eb82-1163-4b18-8621-6b5ac41f9cd6"
      },
      "execution_count": 3,
      "outputs": [
        {
          "output_type": "stream",
          "name": "stdout",
          "text": [
            "10 is even\n"
          ]
        }
      ]
    },
    {
      "cell_type": "markdown",
      "source": [
        "#**Types of Arguments**\n",
        "- Default Arguments\n",
        "- Positional Arguments\n",
        "- Keyword Arguments"
      ],
      "metadata": {
        "id": "9AiVqSlNP0Nq"
      }
    },
    {
      "cell_type": "code",
      "source": [
        "'''\n",
        "Default arguments\n",
        "'''\n",
        "\n",
        "def power(a,b):\n",
        "  return a**b\n",
        "\n",
        "print(power(2,3))\n",
        "#It takes two inputs , but if we take less than 2 arguments it will throw error, so we use default arguments.\n",
        "\n",
        "print(\"---------------------------------------------------------------------\")\n",
        "\n",
        "def power(a=2,b=2):\n",
        "  return a**b\n",
        "\n",
        "print(power(2))\n",
        "\n",
        "#now if we take less than two arguments it will still work"
      ],
      "metadata": {
        "colab": {
          "base_uri": "https://localhost:8080/"
        },
        "id": "tm9_P9BHPrOt",
        "outputId": "81332fbf-a76d-4bab-c74a-f27fdce142ce"
      },
      "execution_count": 5,
      "outputs": [
        {
          "output_type": "stream",
          "name": "stdout",
          "text": [
            "8\n",
            "---------------------------------------------------------------------\n",
            "4\n"
          ]
        }
      ]
    },
    {
      "cell_type": "code",
      "source": [
        "'''\n",
        "positional arguments\n",
        "'''\n",
        "#Values are copied to the parameters in the respective position of the arguments provided.\n",
        "def power (a,b):\n",
        "  return(a**b)\n",
        "\n",
        "print(power(2,3))\n",
        "print(power(3,2))"
      ],
      "metadata": {
        "colab": {
          "base_uri": "https://localhost:8080/"
        },
        "id": "PZuUd2T2Q20b",
        "outputId": "6c155254-49f4-4a5f-e682-674e71a3caa0"
      },
      "execution_count": 6,
      "outputs": [
        {
          "output_type": "stream",
          "name": "stdout",
          "text": [
            "8\n",
            "9\n"
          ]
        }
      ]
    },
    {
      "cell_type": "code",
      "source": [
        "'''\n",
        "Keyword arguments\n",
        "'''\n",
        "#here postion doesn't matter , the values are assigned automatically\n",
        "def power (a,b):\n",
        "  return(a**b)\n",
        "\n",
        "print(power(a=2,b=3))\n",
        "print(power(b=3,a=2))\n"
      ],
      "metadata": {
        "colab": {
          "base_uri": "https://localhost:8080/"
        },
        "id": "8j-gD8UPRxpK",
        "outputId": "ba231fcb-85f0-4df0-8aed-971d52dc0465"
      },
      "execution_count": 7,
      "outputs": [
        {
          "output_type": "stream",
          "name": "stdout",
          "text": [
            "8\n",
            "8\n"
          ]
        }
      ]
    },
    {
      "cell_type": "markdown",
      "source": [
        "\n",
        "\n",
        "---\n",
        "\n"
      ],
      "metadata": {
        "id": "TBAXoOWKSPyH"
      }
    },
    {
      "cell_type": "markdown",
      "source": [
        "# **args and *  **kwargs in Python\n",
        "\n",
        "- *args allows us to pass variable length of non-keyword arguments to a function.\n",
        "- **kwargs allows us to pass variable length of keyword arguments to a function."
      ],
      "metadata": {
        "id": "k4LGfDO5SRFU"
      }
    },
    {
      "cell_type": "code",
      "source": [
        "def multiply(a,b,c):\n",
        "  return a*b*c\n",
        "\n",
        "multiply(2,3,4)"
      ],
      "metadata": {
        "colab": {
          "base_uri": "https://localhost:8080/"
        },
        "id": "XTongQnuSH0h",
        "outputId": "99e1af11-b548-4a69-d7b4-1dfa480acaa6"
      },
      "execution_count": 10,
      "outputs": [
        {
          "output_type": "execute_result",
          "data": {
            "text/plain": [
              "24"
            ]
          },
          "metadata": {},
          "execution_count": 10
        }
      ]
    },
    {
      "cell_type": "code",
      "source": [
        "def multiply(*args):\n",
        "  print(args)\n",
        "\n",
        "multiply(2,3,4)"
      ],
      "metadata": {
        "colab": {
          "base_uri": "https://localhost:8080/"
        },
        "id": "9Nvax83yWYPI",
        "outputId": "98764a11-a2c0-428c-9b97-c667f4cd7f67"
      },
      "execution_count": 19,
      "outputs": [
        {
          "output_type": "stream",
          "name": "stdout",
          "text": [
            "(2, 3, 4)\n"
          ]
        }
      ]
    },
    {
      "cell_type": "code",
      "source": [
        "def multiply(*args):   #*args converts all the inputs provided into a tuple, so npw to multiple multiple inputs we have to deal with tuple.\n",
        "  product = 1          # args is just a name can use other names also for e.g.- *shaurya\n",
        "  for i in args:\n",
        "    product = product * i\n",
        "  print(product)\n",
        "multiply(2,3,4)"
      ],
      "metadata": {
        "colab": {
          "base_uri": "https://localhost:8080/"
        },
        "id": "4wBtoLQRTLcf",
        "outputId": "66634a1a-3445-436b-a8b9-ceec0f2effc7"
      },
      "execution_count": 11,
      "outputs": [
        {
          "output_type": "stream",
          "name": "stdout",
          "text": [
            "24\n"
          ]
        }
      ]
    },
    {
      "cell_type": "code",
      "source": [
        "def multiply(**kwargs):    #keyword arguments mean that they contain a key-value pair, just like a python dictionary.\n",
        "  print(kwargs)            # in place of kwargs we can use any name like in args\n",
        "\n",
        "multiply(a=2, b=3, c=4)"
      ],
      "metadata": {
        "colab": {
          "base_uri": "https://localhost:8080/"
        },
        "id": "0K8-h2V7UF3-",
        "outputId": "1fbb9ccf-4def-4174-cc45-9da74a35b303"
      },
      "execution_count": 18,
      "outputs": [
        {
          "output_type": "stream",
          "name": "stdout",
          "text": [
            "{'a': 2, 'b': 3, 'c': 4}\n"
          ]
        }
      ]
    },
    {
      "cell_type": "code",
      "source": [
        "def multiply(**kwargs):\n",
        "    for (key,value) in kwargs.items():\n",
        "        print(f\"{key} = {value}\")\n",
        "multiply(a=2, b=3, c=4)"
      ],
      "metadata": {
        "colab": {
          "base_uri": "https://localhost:8080/"
        },
        "id": "J3Sl0xGXUdT6",
        "outputId": "a2b5d429-fff0-4b03-f0c6-3050c4468291"
      },
      "execution_count": 23,
      "outputs": [
        {
          "output_type": "stream",
          "name": "stdout",
          "text": [
            "a = 2\n",
            "b = 3\n",
            "c = 4\n"
          ]
        }
      ]
    },
    {
      "cell_type": "markdown",
      "source": [
        "\n",
        "\n",
        "---\n",
        "\n"
      ],
      "metadata": {
        "id": "Of0NAWmkXEPf"
      }
    },
    {
      "cell_type": "markdown",
      "source": [
        "- If no return statement is used in function, by default it will return none\n"
      ],
      "metadata": {
        "id": "lsZH4bSaZQhM"
      }
    },
    {
      "cell_type": "markdown",
      "source": [
        "\n",
        "\n",
        "---\n",
        "\n"
      ],
      "metadata": {
        "id": "k1cdn_9GZasI"
      }
    },
    {
      "cell_type": "markdown",
      "source": [
        "#**Variable Scopes**\n",
        "- Global Variable --- It is accessible in all parts of the program.\n",
        "\n",
        "- Local Variable --- scope is limited to that particular block\n",
        "\n",
        "Local variable has more priority than global variable.\n",
        "\n"
      ],
      "metadata": {
        "id": "TGbR_LxnZnWq"
      }
    },
    {
      "cell_type": "code",
      "source": [
        "def f(x):\n",
        "  x = 1\n",
        "  x += 1  #global variable can be accessed but can't be changed from inside a function , here this x is referring to the x initialized before it.\n",
        "  print(x)\n",
        "x=5\n",
        "f(x)\n",
        "print(x)"
      ],
      "metadata": {
        "colab": {
          "base_uri": "https://localhost:8080/"
        },
        "id": "TJNgwTN-W6mu",
        "outputId": "e4c51e62-e2a1-4b99-95b7-39d708a60395"
      },
      "execution_count": 24,
      "outputs": [
        {
          "output_type": "stream",
          "name": "stdout",
          "text": [
            "2\n",
            "5\n"
          ]
        }
      ]
    },
    {
      "cell_type": "code",
      "source": [
        "def f(x):\n",
        "  x += 1      #global variable can't be changed from inside a function, here this x is referring to the global variable.\n",
        "  print(x)    #earlier the x was referring to the local variable bcz local variable is given more preference than the gobal variable.\n",
        "x=5\n",
        "f(x)\n",
        "print(x)"
      ],
      "metadata": {
        "colab": {
          "base_uri": "https://localhost:8080/"
        },
        "id": "vtRSwK-Kbj2b",
        "outputId": "16f02165-4502-4a8e-e731-a0691958658f"
      },
      "execution_count": 25,
      "outputs": [
        {
          "output_type": "stream",
          "name": "stdout",
          "text": [
            "6\n",
            "5\n"
          ]
        }
      ]
    },
    {
      "cell_type": "code",
      "source": [
        "'''\n",
        "Suppose i want to change the value in the global variable\n",
        "'''\n",
        "\n",
        "def f(y):\n",
        "  global x\n",
        "  x += 1\n",
        "  print(x)\n",
        "\n",
        "x = 5\n",
        "f(x)\n",
        "print(x)"
      ],
      "metadata": {
        "colab": {
          "base_uri": "https://localhost:8080/"
        },
        "id": "zVo7V5focfoY",
        "outputId": "19f4f5b4-09c4-4603-f3fa-8bf1b58b7805"
      },
      "execution_count": 28,
      "outputs": [
        {
          "output_type": "stream",
          "name": "stdout",
          "text": [
            "6\n",
            "6\n"
          ]
        }
      ]
    },
    {
      "cell_type": "code",
      "source": [
        "def f(x):\n",
        "  global x\n",
        "  x += 1\n",
        "  print(x)\n",
        "\n",
        "x = 5\n",
        "f(x)\n",
        "print(x)\n",
        "\n",
        "'''\n",
        "here x is a local variable according to fummction defintion\n",
        "But at the same time we are declaring it global\n",
        "When you define a function like def f(x): then x becomes a local variable within that function's scope.\n",
        "It exists only while the function is executing and\n",
        "is not accessible outside of it unless explicitly returned or manipulated in a way that affects a global variable.\n",
        "'''"
      ],
      "metadata": {
        "colab": {
          "base_uri": "https://localhost:8080/",
          "height": 110
        },
        "id": "1s7rNzDgc6g_",
        "outputId": "e1fd3605-768e-467b-c7ec-c0c53c8c7ca4"
      },
      "execution_count": 29,
      "outputs": [
        {
          "output_type": "error",
          "ename": "SyntaxError",
          "evalue": "name 'x' is parameter and global (ipython-input-1243796729.py, line 2)",
          "traceback": [
            "\u001b[0;36m  File \u001b[0;32m\"/tmp/ipython-input-1243796729.py\"\u001b[0;36m, line \u001b[0;32m2\u001b[0m\n\u001b[0;31m    global x\u001b[0m\n\u001b[0m    ^\u001b[0m\n\u001b[0;31mSyntaxError\u001b[0m\u001b[0;31m:\u001b[0m name 'x' is parameter and global\n"
          ]
        }
      ]
    },
    {
      "cell_type": "markdown",
      "source": [
        "#**Nested Function**\n"
      ],
      "metadata": {
        "id": "rZCQISUZeltG"
      }
    },
    {
      "cell_type": "code",
      "source": [
        "def f():\n",
        "  def g():\n",
        "    print(\"Inside function g\")\n",
        "  print(\"Inside function f\")\n",
        "\n",
        "f()     # calling f function does not print the function g\n",
        "g()     #throwing error because g function's scope is limited inside the function f"
      ],
      "metadata": {
        "colab": {
          "base_uri": "https://localhost:8080/",
          "height": 201
        },
        "id": "AxWwjxavdmWl",
        "outputId": "d756be84-2977-495b-a23d-58bdcdc34342"
      },
      "execution_count": 31,
      "outputs": [
        {
          "output_type": "stream",
          "name": "stdout",
          "text": [
            "Inside function f\n"
          ]
        },
        {
          "output_type": "error",
          "ename": "NameError",
          "evalue": "name 'g' is not defined",
          "traceback": [
            "\u001b[0;31m---------------------------------------------------------------------------\u001b[0m",
            "\u001b[0;31mNameError\u001b[0m                                 Traceback (most recent call last)",
            "\u001b[0;32m/tmp/ipython-input-1497094965.py\u001b[0m in \u001b[0;36m<cell line: 0>\u001b[0;34m()\u001b[0m\n\u001b[1;32m      5\u001b[0m \u001b[0;34m\u001b[0m\u001b[0m\n\u001b[1;32m      6\u001b[0m \u001b[0mf\u001b[0m\u001b[0;34m(\u001b[0m\u001b[0;34m)\u001b[0m\u001b[0;34m\u001b[0m\u001b[0;34m\u001b[0m\u001b[0m\n\u001b[0;32m----> 7\u001b[0;31m \u001b[0mg\u001b[0m\u001b[0;34m(\u001b[0m\u001b[0;34m)\u001b[0m\u001b[0;34m\u001b[0m\u001b[0;34m\u001b[0m\u001b[0m\n\u001b[0m",
            "\u001b[0;31mNameError\u001b[0m: name 'g' is not defined"
          ]
        }
      ]
    },
    {
      "cell_type": "code",
      "source": [
        "def f():\n",
        "  def g():    #nested function can be used to hide the functionality from others, as it is accessible only inside f()\n",
        "    print(\"Inside function g\")\n",
        "  g()       #here g is printed bcz g is called within the scope\n",
        "  print(\"Inside function f\")\n",
        "\n",
        "f()"
      ],
      "metadata": {
        "colab": {
          "base_uri": "https://localhost:8080/"
        },
        "id": "U932iVPAe2oH",
        "outputId": "70f82415-8c4d-430e-8476-813a822caa3d"
      },
      "execution_count": 33,
      "outputs": [
        {
          "output_type": "stream",
          "name": "stdout",
          "text": [
            "Inside function g\n",
            "Inside function f\n"
          ]
        }
      ]
    },
    {
      "cell_type": "code",
      "source": [],
      "metadata": {
        "id": "zcowUIQ3fQWb"
      },
      "execution_count": null,
      "outputs": []
    }
  ]
}