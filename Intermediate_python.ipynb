{
  "nbformat": 4,
  "nbformat_minor": 0,
  "metadata": {
    "colab": {
      "provenance": [],
      "authorship_tag": "ABX9TyPtnlEchP0Pl4mGWwtnEar7",
      "include_colab_link": true
    },
    "kernelspec": {
      "name": "python3",
      "display_name": "Python 3"
    },
    "language_info": {
      "name": "python"
    }
  },
  "cells": [
    {
      "cell_type": "markdown",
      "metadata": {
        "id": "view-in-github",
        "colab_type": "text"
      },
      "source": [
        "<a href=\"https://colab.research.google.com/github/ShauryaPrakashVerma/Python_for_AI/blob/main/Intermediate_python.ipynb\" target=\"_parent\"><img src=\"https://colab.research.google.com/assets/colab-badge.svg\" alt=\"Open In Colab\"/></a>"
      ]
    },
    {
      "cell_type": "markdown",
      "source": [
        "#**Functions in Python**\n",
        "- Benefit of function is code reusability.\n",
        "- created by using the keyword def.\n",
        "\n",
        "Two types of functions:\n",
        "1. Built-in\n",
        "2. User Defined\n",
        "\n",
        "\n",
        "\n",
        "\n",
        "\n",
        "Principles of Functions:\n",
        "1. Abstraction\n",
        "2. Decomposition"
      ],
      "metadata": {
        "id": "TDMSeQzpCOTC"
      }
    },
    {
      "cell_type": "code",
      "execution_count": null,
      "metadata": {
        "id": "O8zrjgJ5BfMi"
      },
      "outputs": [],
      "source": [
        "'''\n",
        "Creating function\n",
        "'''\n",
        "\n",
        "def greet():\n",
        "  name = input(\"Enter your name: \")\n",
        "  print(f\"Hello {name}\")\n",
        "\n",
        "greet()"
      ]
    },
    {
      "cell_type": "markdown",
      "source": [
        "\n",
        "\n",
        "---\n",
        "\n"
      ],
      "metadata": {
        "id": "b4dMn2MRNG5U"
      }
    },
    {
      "cell_type": "markdown",
      "source": [
        "#**Docstring in Python**\n",
        "- used to provide info about the function\n"
      ],
      "metadata": {
        "id": "EeGIodIJNIAS"
      }
    },
    {
      "cell_type": "code",
      "source": [
        "def odd_even(num):\n",
        "  \"\"\"\n",
        "  This function is used to check if a given number is odd or even.\n",
        "  Input - any valid integer\n",
        "  Output - odd/even\n",
        "  \"\"\"\n",
        "  if num%2 == 0:\n",
        "    print(f\"{num} is even\")\n",
        "  else:\n",
        "    print(f\"{num} is odd\")\n",
        "\n",
        "odd_even(10)"
      ],
      "metadata": {
        "colab": {
          "base_uri": "https://localhost:8080/"
        },
        "id": "CQHEPsRnNyXc",
        "outputId": "7691b285-7b14-4103-f0b8-a7b7f55bba3d"
      },
      "execution_count": null,
      "outputs": [
        {
          "output_type": "stream",
          "name": "stdout",
          "text": [
            "10 is even\n"
          ]
        }
      ]
    },
    {
      "cell_type": "code",
      "source": [
        "print(odd_even.__doc__)      # function to print the docstring of the function"
      ],
      "metadata": {
        "colab": {
          "base_uri": "https://localhost:8080/"
        },
        "id": "NXNFtbxyOXBP",
        "outputId": "1853b2f8-9d72-4350-9acb-d6612942ea5f"
      },
      "execution_count": null,
      "outputs": [
        {
          "output_type": "stream",
          "name": "stdout",
          "text": [
            "\n",
            "  This function is used to check if a given number is odd or even.\n",
            "  Input - any valid integer\n",
            "  Output - odd/even\n",
            "  \n"
          ]
        }
      ]
    },
    {
      "cell_type": "markdown",
      "source": [
        "\n",
        "\n",
        "---\n",
        "\n"
      ],
      "metadata": {
        "id": "BHJxqU6tO-6K"
      }
    },
    {
      "cell_type": "markdown",
      "source": [
        "#**Parameters v/s Arguments**\n",
        "- parameters in function definition\n",
        "- arguments in function call"
      ],
      "metadata": {
        "id": "Ki_6GyubO_u4"
      }
    },
    {
      "cell_type": "code",
      "source": [
        "def odd_even(num):      #Parameters\n",
        "  \"\"\"\n",
        "  This function is used to check if a given number is odd or even.\n",
        "  Input - any valid integer\n",
        "  Output - odd/even\n",
        "  \"\"\"\n",
        "  if num%2 == 0:\n",
        "    print(f\"{num} is even\")\n",
        "  else:\n",
        "    print(f\"{num} is odd\")\n",
        "\n",
        "odd_even(10)      #Arguments"
      ],
      "metadata": {
        "colab": {
          "base_uri": "https://localhost:8080/"
        },
        "id": "kQdZZhC7OmCC",
        "outputId": "d895eb82-1163-4b18-8621-6b5ac41f9cd6"
      },
      "execution_count": null,
      "outputs": [
        {
          "output_type": "stream",
          "name": "stdout",
          "text": [
            "10 is even\n"
          ]
        }
      ]
    },
    {
      "cell_type": "markdown",
      "source": [
        "#**Types of Arguments**\n",
        "- Default Arguments\n",
        "- Positional Arguments\n",
        "- Keyword Arguments"
      ],
      "metadata": {
        "id": "9AiVqSlNP0Nq"
      }
    },
    {
      "cell_type": "code",
      "source": [
        "'''\n",
        "Default arguments\n",
        "'''\n",
        "\n",
        "def power(a,b):\n",
        "  return a**b\n",
        "\n",
        "print(power(2,3))\n",
        "#It takes two inputs , but if we take less than 2 arguments it will throw error, so we use default arguments.\n",
        "\n",
        "print(\"---------------------------------------------------------------------\")\n",
        "\n",
        "def power(a=2,b=2):\n",
        "  return a**b\n",
        "\n",
        "print(power(2))\n",
        "\n",
        "#now if we take less than two arguments it will still work"
      ],
      "metadata": {
        "colab": {
          "base_uri": "https://localhost:8080/"
        },
        "id": "tm9_P9BHPrOt",
        "outputId": "81332fbf-a76d-4bab-c74a-f27fdce142ce"
      },
      "execution_count": null,
      "outputs": [
        {
          "output_type": "stream",
          "name": "stdout",
          "text": [
            "8\n",
            "---------------------------------------------------------------------\n",
            "4\n"
          ]
        }
      ]
    },
    {
      "cell_type": "code",
      "source": [
        "'''\n",
        "positional arguments\n",
        "'''\n",
        "#Values are copied to the parameters in the respective position of the arguments provided.\n",
        "def power (a,b):\n",
        "  return(a**b)\n",
        "\n",
        "print(power(2,3))\n",
        "print(power(3,2))"
      ],
      "metadata": {
        "colab": {
          "base_uri": "https://localhost:8080/"
        },
        "id": "PZuUd2T2Q20b",
        "outputId": "6c155254-49f4-4a5f-e682-674e71a3caa0"
      },
      "execution_count": null,
      "outputs": [
        {
          "output_type": "stream",
          "name": "stdout",
          "text": [
            "8\n",
            "9\n"
          ]
        }
      ]
    },
    {
      "cell_type": "code",
      "source": [
        "'''\n",
        "Keyword arguments\n",
        "'''\n",
        "#here postion doesn't matter , the values are assigned automatically\n",
        "def power (a,b):\n",
        "  return(a**b)\n",
        "\n",
        "print(power(a=2,b=3))\n",
        "print(power(b=3,a=2))\n"
      ],
      "metadata": {
        "colab": {
          "base_uri": "https://localhost:8080/"
        },
        "id": "8j-gD8UPRxpK",
        "outputId": "ba231fcb-85f0-4df0-8aed-971d52dc0465"
      },
      "execution_count": null,
      "outputs": [
        {
          "output_type": "stream",
          "name": "stdout",
          "text": [
            "8\n",
            "8\n"
          ]
        }
      ]
    },
    {
      "cell_type": "markdown",
      "source": [
        "\n",
        "\n",
        "---\n",
        "\n"
      ],
      "metadata": {
        "id": "TBAXoOWKSPyH"
      }
    },
    {
      "cell_type": "markdown",
      "source": [
        "# **args and *  **kwargs in Python\n",
        "\n",
        "- *args allows us to pass variable length of non-keyword arguments to a function.\n",
        "- **kwargs allows us to pass variable length of keyword arguments to a function."
      ],
      "metadata": {
        "id": "k4LGfDO5SRFU"
      }
    },
    {
      "cell_type": "code",
      "source": [
        "def multiply(a,b,c):\n",
        "  return a*b*c\n",
        "\n",
        "multiply(2,3,4)"
      ],
      "metadata": {
        "colab": {
          "base_uri": "https://localhost:8080/"
        },
        "id": "XTongQnuSH0h",
        "outputId": "99e1af11-b548-4a69-d7b4-1dfa480acaa6"
      },
      "execution_count": null,
      "outputs": [
        {
          "output_type": "execute_result",
          "data": {
            "text/plain": [
              "24"
            ]
          },
          "metadata": {},
          "execution_count": 10
        }
      ]
    },
    {
      "cell_type": "code",
      "source": [
        "def multiply(*args):\n",
        "  print(args)\n",
        "\n",
        "multiply(2,3,4)"
      ],
      "metadata": {
        "colab": {
          "base_uri": "https://localhost:8080/"
        },
        "id": "9Nvax83yWYPI",
        "outputId": "98764a11-a2c0-428c-9b97-c667f4cd7f67"
      },
      "execution_count": null,
      "outputs": [
        {
          "output_type": "stream",
          "name": "stdout",
          "text": [
            "(2, 3, 4)\n"
          ]
        }
      ]
    },
    {
      "cell_type": "code",
      "source": [
        "def multiply(*args):   #*args converts all the inputs provided into a tuple, so npw to multiple multiple inputs we have to deal with tuple.\n",
        "  product = 1          # args is just a name can use other names also for e.g.- *shaurya\n",
        "  for i in args:\n",
        "    product = product * i\n",
        "  print(product)\n",
        "multiply(2,3,4)"
      ],
      "metadata": {
        "colab": {
          "base_uri": "https://localhost:8080/"
        },
        "id": "4wBtoLQRTLcf",
        "outputId": "66634a1a-3445-436b-a8b9-ceec0f2effc7"
      },
      "execution_count": null,
      "outputs": [
        {
          "output_type": "stream",
          "name": "stdout",
          "text": [
            "24\n"
          ]
        }
      ]
    },
    {
      "cell_type": "code",
      "source": [
        "def multiply(**kwargs):    #keyword arguments mean that they contain a key-value pair, just like a python dictionary.\n",
        "  print(kwargs)            # in place of kwargs we can use any name like in args\n",
        "\n",
        "multiply(a=2, b=3, c=4)"
      ],
      "metadata": {
        "colab": {
          "base_uri": "https://localhost:8080/"
        },
        "id": "0K8-h2V7UF3-",
        "outputId": "1fbb9ccf-4def-4174-cc45-9da74a35b303"
      },
      "execution_count": null,
      "outputs": [
        {
          "output_type": "stream",
          "name": "stdout",
          "text": [
            "{'a': 2, 'b': 3, 'c': 4}\n"
          ]
        }
      ]
    },
    {
      "cell_type": "code",
      "source": [
        "def multiply(**kwargs):\n",
        "    for (key,value) in kwargs.items():\n",
        "        print(f\"{key} = {value}\")\n",
        "multiply(a=2, b=3, c=4)"
      ],
      "metadata": {
        "colab": {
          "base_uri": "https://localhost:8080/"
        },
        "id": "J3Sl0xGXUdT6",
        "outputId": "a2b5d429-fff0-4b03-f0c6-3050c4468291"
      },
      "execution_count": null,
      "outputs": [
        {
          "output_type": "stream",
          "name": "stdout",
          "text": [
            "a = 2\n",
            "b = 3\n",
            "c = 4\n"
          ]
        }
      ]
    },
    {
      "cell_type": "markdown",
      "source": [
        "\n",
        "\n",
        "---\n",
        "\n"
      ],
      "metadata": {
        "id": "Of0NAWmkXEPf"
      }
    },
    {
      "cell_type": "markdown",
      "source": [
        "- If no return statement is used in function, by default it will return none\n"
      ],
      "metadata": {
        "id": "lsZH4bSaZQhM"
      }
    },
    {
      "cell_type": "markdown",
      "source": [
        "\n",
        "\n",
        "---\n",
        "\n"
      ],
      "metadata": {
        "id": "k1cdn_9GZasI"
      }
    },
    {
      "cell_type": "markdown",
      "source": [
        "#**Variable Scopes**\n",
        "- Global Variable --- It is accessible in all parts of the program.\n",
        "\n",
        "- Local Variable --- scope is limited to that particular block\n",
        "\n",
        "Local variable has more priority than global variable.\n",
        "\n"
      ],
      "metadata": {
        "id": "TGbR_LxnZnWq"
      }
    },
    {
      "cell_type": "code",
      "source": [
        "def f(x):\n",
        "  x = 1\n",
        "  x += 1  #global variable can be accessed but can't be changed from inside a function , here this x is referring to the x initialized before it.\n",
        "  print(x)\n",
        "x=5\n",
        "f(x)\n",
        "print(x)"
      ],
      "metadata": {
        "colab": {
          "base_uri": "https://localhost:8080/"
        },
        "id": "TJNgwTN-W6mu",
        "outputId": "e4c51e62-e2a1-4b99-95b7-39d708a60395"
      },
      "execution_count": null,
      "outputs": [
        {
          "output_type": "stream",
          "name": "stdout",
          "text": [
            "2\n",
            "5\n"
          ]
        }
      ]
    },
    {
      "cell_type": "code",
      "source": [
        "def f(x):\n",
        "  x += 1      #global variable can't be changed from inside a function, here this x is referring to the global variable.\n",
        "  print(x)    #earlier the x was referring to the local variable bcz local variable is given more preference than the gobal variable.\n",
        "x=5\n",
        "f(x)\n",
        "print(x)"
      ],
      "metadata": {
        "colab": {
          "base_uri": "https://localhost:8080/"
        },
        "id": "vtRSwK-Kbj2b",
        "outputId": "16f02165-4502-4a8e-e731-a0691958658f"
      },
      "execution_count": null,
      "outputs": [
        {
          "output_type": "stream",
          "name": "stdout",
          "text": [
            "6\n",
            "5\n"
          ]
        }
      ]
    },
    {
      "cell_type": "code",
      "source": [
        "'''\n",
        "Suppose i want to change the value in the global variable\n",
        "'''\n",
        "\n",
        "def f(y):\n",
        "  global x\n",
        "  x += 1\n",
        "  print(x)\n",
        "\n",
        "x = 5\n",
        "f(x)\n",
        "print(x)"
      ],
      "metadata": {
        "colab": {
          "base_uri": "https://localhost:8080/"
        },
        "id": "zVo7V5focfoY",
        "outputId": "19f4f5b4-09c4-4603-f3fa-8bf1b58b7805"
      },
      "execution_count": null,
      "outputs": [
        {
          "output_type": "stream",
          "name": "stdout",
          "text": [
            "6\n",
            "6\n"
          ]
        }
      ]
    },
    {
      "cell_type": "code",
      "source": [
        "def f(x):\n",
        "  global x\n",
        "  x += 1\n",
        "  print(x)\n",
        "\n",
        "x = 5\n",
        "f(x)\n",
        "print(x)\n",
        "\n",
        "'''\n",
        "here x is a local variable according to fummction defintion\n",
        "But at the same time we are declaring it global\n",
        "When you define a function like def f(x): then x becomes a local variable within that function's scope.\n",
        "It exists only while the function is executing and\n",
        "is not accessible outside of it unless explicitly returned or manipulated in a way that affects a global variable.\n",
        "'''"
      ],
      "metadata": {
        "colab": {
          "base_uri": "https://localhost:8080/",
          "height": 110
        },
        "id": "1s7rNzDgc6g_",
        "outputId": "e1fd3605-768e-467b-c7ec-c0c53c8c7ca4"
      },
      "execution_count": null,
      "outputs": [
        {
          "output_type": "error",
          "ename": "SyntaxError",
          "evalue": "name 'x' is parameter and global (ipython-input-1243796729.py, line 2)",
          "traceback": [
            "\u001b[0;36m  File \u001b[0;32m\"/tmp/ipython-input-1243796729.py\"\u001b[0;36m, line \u001b[0;32m2\u001b[0m\n\u001b[0;31m    global x\u001b[0m\n\u001b[0m    ^\u001b[0m\n\u001b[0;31mSyntaxError\u001b[0m\u001b[0;31m:\u001b[0m name 'x' is parameter and global\n"
          ]
        }
      ]
    },
    {
      "cell_type": "markdown",
      "source": [
        "#**Nested Function**\n"
      ],
      "metadata": {
        "id": "rZCQISUZeltG"
      }
    },
    {
      "cell_type": "code",
      "source": [
        "def f():\n",
        "  def g():\n",
        "    print(\"Inside function g\")\n",
        "  print(\"Inside function f\")\n",
        "\n",
        "f()     # calling f function does not print the function g\n",
        "g()     #throwing error because g function's scope is limited inside the function f"
      ],
      "metadata": {
        "colab": {
          "base_uri": "https://localhost:8080/",
          "height": 201
        },
        "id": "AxWwjxavdmWl",
        "outputId": "d756be84-2977-495b-a23d-58bdcdc34342"
      },
      "execution_count": null,
      "outputs": [
        {
          "output_type": "stream",
          "name": "stdout",
          "text": [
            "Inside function f\n"
          ]
        },
        {
          "output_type": "error",
          "ename": "NameError",
          "evalue": "name 'g' is not defined",
          "traceback": [
            "\u001b[0;31m---------------------------------------------------------------------------\u001b[0m",
            "\u001b[0;31mNameError\u001b[0m                                 Traceback (most recent call last)",
            "\u001b[0;32m/tmp/ipython-input-1497094965.py\u001b[0m in \u001b[0;36m<cell line: 0>\u001b[0;34m()\u001b[0m\n\u001b[1;32m      5\u001b[0m \u001b[0;34m\u001b[0m\u001b[0m\n\u001b[1;32m      6\u001b[0m \u001b[0mf\u001b[0m\u001b[0;34m(\u001b[0m\u001b[0;34m)\u001b[0m\u001b[0;34m\u001b[0m\u001b[0;34m\u001b[0m\u001b[0m\n\u001b[0;32m----> 7\u001b[0;31m \u001b[0mg\u001b[0m\u001b[0;34m(\u001b[0m\u001b[0;34m)\u001b[0m\u001b[0;34m\u001b[0m\u001b[0;34m\u001b[0m\u001b[0m\n\u001b[0m",
            "\u001b[0;31mNameError\u001b[0m: name 'g' is not defined"
          ]
        }
      ]
    },
    {
      "cell_type": "code",
      "source": [
        "def f():\n",
        "  def g():    #nested function can be used to hide the functionality from others, as it is accessible only inside f()\n",
        "    print(\"Inside function g\")\n",
        "  g()       #here g is printed bcz g is called within the scope\n",
        "  print(\"Inside function f\")\n",
        "\n",
        "f()"
      ],
      "metadata": {
        "colab": {
          "base_uri": "https://localhost:8080/"
        },
        "id": "U932iVPAe2oH",
        "outputId": "70f82415-8c4d-430e-8476-813a822caa3d"
      },
      "execution_count": null,
      "outputs": [
        {
          "output_type": "stream",
          "name": "stdout",
          "text": [
            "Inside function g\n",
            "Inside function f\n"
          ]
        }
      ]
    },
    {
      "cell_type": "markdown",
      "source": [
        "#**Functions are 1st class citizens**\n",
        "- It acts like data types.\n",
        "- it can be passed as an argument, returned from a location, and assigned to variables."
      ],
      "metadata": {
        "id": "hY05-7onm__g"
      }
    },
    {
      "cell_type": "code",
      "source": [
        "#type and id\n",
        "\n",
        "def square(num):\n",
        "  return num**2\n",
        "\n",
        "print(type(square))\n",
        "print(id(square))"
      ],
      "metadata": {
        "id": "zcowUIQ3fQWb",
        "colab": {
          "base_uri": "https://localhost:8080/"
        },
        "outputId": "272f2cbe-5a8f-4895-860e-37a05b4cee35"
      },
      "execution_count": null,
      "outputs": [
        {
          "output_type": "stream",
          "name": "stdout",
          "text": [
            "<class 'function'>\n",
            "137122636514304\n"
          ]
        }
      ]
    },
    {
      "cell_type": "code",
      "source": [
        "#reassign\n",
        "\n",
        "x = square\n",
        "print(id(x))\n",
        "x(4)    #now x has also become a square"
      ],
      "metadata": {
        "colab": {
          "base_uri": "https://localhost:8080/"
        },
        "id": "9EaX5kKuscVY",
        "outputId": "26f5567f-6710-455c-cfbf-df960157a55b"
      },
      "execution_count": null,
      "outputs": [
        {
          "output_type": "stream",
          "name": "stdout",
          "text": [
            "137122636514304\n"
          ]
        },
        {
          "output_type": "execute_result",
          "data": {
            "text/plain": [
              "16"
            ]
          },
          "metadata": {},
          "execution_count": 4
        }
      ]
    },
    {
      "cell_type": "code",
      "source": [
        "#deleting\n",
        "del square\n",
        "print(square)"
      ],
      "metadata": {
        "colab": {
          "base_uri": "https://localhost:8080/",
          "height": 183
        },
        "id": "NJOu8Fq2s9kj",
        "outputId": "4cc9ea66-8c69-4ff9-fba0-75ff31d885ff"
      },
      "execution_count": null,
      "outputs": [
        {
          "output_type": "error",
          "ename": "NameError",
          "evalue": "name 'square' is not defined",
          "traceback": [
            "\u001b[0;31m---------------------------------------------------------------------------\u001b[0m",
            "\u001b[0;31mNameError\u001b[0m                                 Traceback (most recent call last)",
            "\u001b[0;32m/tmp/ipython-input-2229637437.py\u001b[0m in \u001b[0;36m<cell line: 0>\u001b[0;34m()\u001b[0m\n\u001b[1;32m      1\u001b[0m \u001b[0;31m#deleting\u001b[0m\u001b[0;34m\u001b[0m\u001b[0;34m\u001b[0m\u001b[0m\n\u001b[1;32m      2\u001b[0m \u001b[0;32mdel\u001b[0m \u001b[0msquare\u001b[0m\u001b[0;34m\u001b[0m\u001b[0;34m\u001b[0m\u001b[0m\n\u001b[0;32m----> 3\u001b[0;31m \u001b[0mprint\u001b[0m\u001b[0;34m(\u001b[0m\u001b[0msquare\u001b[0m\u001b[0;34m)\u001b[0m\u001b[0;34m\u001b[0m\u001b[0;34m\u001b[0m\u001b[0m\n\u001b[0m",
            "\u001b[0;31mNameError\u001b[0m: name 'square' is not defined"
          ]
        }
      ]
    },
    {
      "cell_type": "code",
      "source": [
        "#storing\n",
        "def square(num):\n",
        "  return num**2\n",
        "\n",
        "l = [1,2,3,4,5,square]\n",
        "l[-1](4)"
      ],
      "metadata": {
        "colab": {
          "base_uri": "https://localhost:8080/"
        },
        "id": "rfDvI5jLwseF",
        "outputId": "5b835257-6df5-4c60-bf4f-7d70158d254d"
      },
      "execution_count": null,
      "outputs": [
        {
          "output_type": "execute_result",
          "data": {
            "text/plain": [
              "16"
            ]
          },
          "metadata": {},
          "execution_count": 9
        }
      ]
    },
    {
      "cell_type": "code",
      "source": [
        "s = {square}\n",
        "print(s)      #function is immutable obect"
      ],
      "metadata": {
        "colab": {
          "base_uri": "https://localhost:8080/"
        },
        "id": "Z8hlIwyaxMj7",
        "outputId": "4966d5e1-b52b-445e-e5fe-cb31009343cd"
      },
      "execution_count": null,
      "outputs": [
        {
          "output_type": "stream",
          "name": "stdout",
          "text": [
            "{<function square at 0x7cb638e46de0>}\n"
          ]
        }
      ]
    },
    {
      "cell_type": "code",
      "source": [
        "#returning a function from another function\n",
        "\n",
        "def f():\n",
        "  def g (a,b):\n",
        "    return a+b\n",
        "  return g\n",
        "val = f()(2,3)\n",
        "print(val)"
      ],
      "metadata": {
        "colab": {
          "base_uri": "https://localhost:8080/"
        },
        "id": "Ny5slUaHyRDL",
        "outputId": "e4ac8481-d4b6-468e-dd24-21a4fb7d08c2"
      },
      "execution_count": null,
      "outputs": [
        {
          "output_type": "stream",
          "name": "stdout",
          "text": [
            "5\n"
          ]
        }
      ]
    },
    {
      "cell_type": "code",
      "source": [
        "#function as an argumment\n",
        "def func_a():\n",
        "  print(\"inside func_a\")\n",
        "\n",
        "def func_b(z):\n",
        "  print(\"inside func_b\")\n",
        "  return z()\n",
        "\n",
        "print(func_b(func_a))   # Printing none bcz function a is not returning anything."
      ],
      "metadata": {
        "colab": {
          "base_uri": "https://localhost:8080/"
        },
        "id": "EK0X1lk2zR6y",
        "outputId": "a586e715-c1bf-414a-b696-463cbccf1a49"
      },
      "execution_count": null,
      "outputs": [
        {
          "output_type": "stream",
          "name": "stdout",
          "text": [
            "inside func_b\n",
            "inside func_a\n",
            "None\n"
          ]
        }
      ]
    },
    {
      "cell_type": "markdown",
      "source": [
        "#**Benefits of using a Function**\n",
        "- Code Modularity\n",
        "- Code Readability\n",
        "- Code Reusability"
      ],
      "metadata": {
        "id": "RPHmR7ZT0mpd"
      }
    },
    {
      "cell_type": "markdown",
      "source": [
        "#**Lambda Functions in Python**\n",
        "- small, anonymous function.\n",
        "- Lambda function can take any number of arguments, but can only have one expression.\n",
        "\n",
        "\n",
        "e.g- lambda a,b: a+b"
      ],
      "metadata": {
        "id": "QK4Mcihk2vJ6"
      }
    },
    {
      "cell_type": "code",
      "source": [
        " a = lambda x:x**2\n",
        " a(4)"
      ],
      "metadata": {
        "colab": {
          "base_uri": "https://localhost:8080/"
        },
        "id": "-rEUtTfF2uVT",
        "outputId": "e40f6511-39a7-4f46-bc6a-5ed7699919e7"
      },
      "execution_count": null,
      "outputs": [
        {
          "output_type": "execute_result",
          "data": {
            "text/plain": [
              "16"
            ]
          },
          "metadata": {},
          "execution_count": 13
        }
      ]
    },
    {
      "cell_type": "markdown",
      "source": [
        "#**Difference b/w Lambda and normal function**\n",
        "- no name\n",
        "- lambda has no return value (infact, return a function)\n",
        "- lambbda is written in 1 line\n",
        "- not reusable\n",
        "\n",
        "\n",
        "\n",
        "Then why are lambda function used?\n",
        "- **They are used with HOF**."
      ],
      "metadata": {
        "id": "mbbjPHI5Hz8b"
      }
    },
    {
      "cell_type": "code",
      "source": [
        "#Check if a string has 'a'\n",
        "a = lambda s:'a' in s\n",
        "a('hello')"
      ],
      "metadata": {
        "colab": {
          "base_uri": "https://localhost:8080/"
        },
        "id": "okBmzjIzJRvV",
        "outputId": "e086ea22-5cf8-4a8d-9073-b1302c7523ba"
      },
      "execution_count": null,
      "outputs": [
        {
          "output_type": "execute_result",
          "data": {
            "text/plain": [
              "False"
            ]
          },
          "metadata": {},
          "execution_count": 14
        }
      ]
    },
    {
      "cell_type": "markdown",
      "source": [
        "#**Higher Order Functions**\n",
        " - if a function takes another functions as argument or it returns another function, then also it is a Higher order function."
      ],
      "metadata": {
        "id": "4au8Eh2mJsrX"
      }
    },
    {
      "cell_type": "code",
      "source": [
        "L = [1,2,3,4,5]\n",
        "\n",
        "def square(x):\n",
        "  return x**2\n",
        "\n",
        "def transform(f, L):    #HOF\n",
        "  output = []\n",
        "  for i in L:\n",
        "    output.append(f(i))\n",
        "  print(output)\n",
        "\n",
        "transform(square, L)"
      ],
      "metadata": {
        "colab": {
          "base_uri": "https://localhost:8080/"
        },
        "id": "Lz7D5PVrJiEb",
        "outputId": "bf4b6705-c0db-43a9-ad7a-0fbed48fae5a"
      },
      "execution_count": null,
      "outputs": [
        {
          "output_type": "stream",
          "name": "stdout",
          "text": [
            "[1, 4, 9, 16, 25]\n"
          ]
        }
      ]
    },
    {
      "cell_type": "markdown",
      "source": [
        "#**map, filter, reduce higher order functions**"
      ],
      "metadata": {
        "id": "vo-J3iW1MAoT"
      }
    },
    {
      "cell_type": "markdown",
      "source": [
        "##map"
      ],
      "metadata": {
        "id": "5gP_9mi2NWrS"
      }
    },
    {
      "cell_type": "code",
      "source": [
        "#square the items of a list\n",
        "a = lambda x:x**2\n",
        "l = [1,2,3,4,5]\n",
        "list(map(a, L))"
      ],
      "metadata": {
        "colab": {
          "base_uri": "https://localhost:8080/"
        },
        "id": "sD5OYfwqMABF",
        "outputId": "c4b76d38-bcdc-4d83-8245-599bbc8b1e64"
      },
      "execution_count": null,
      "outputs": [
        {
          "output_type": "execute_result",
          "data": {
            "text/plain": [
              "[1, 4, 9, 16, 25]"
            ]
          },
          "metadata": {},
          "execution_count": 19
        }
      ]
    },
    {
      "cell_type": "code",
      "source": [
        "#Odd/Even labelling of list items\n",
        "a = lambda x:'even' if x%2==0 else 'odd'\n",
        "l = [1,2,3,4,5,6,7,8,9,10]\n",
        "list(map(a,l))      #1st argument should be function. 2nd argument should be any iterable."
      ],
      "metadata": {
        "colab": {
          "base_uri": "https://localhost:8080/"
        },
        "id": "6cZJlD_NK5Bv",
        "outputId": "f184ace0-e0d8-4435-d266-1557bf27781b"
      },
      "execution_count": null,
      "outputs": [
        {
          "output_type": "execute_result",
          "data": {
            "text/plain": [
              "['odd', 'even', 'odd', 'even', 'odd', 'even', 'odd', 'even', 'odd', 'even']"
            ]
          },
          "metadata": {},
          "execution_count": 20
        }
      ]
    },
    {
      "cell_type": "code",
      "source": [
        "#fetch names from a list of Dictionary\n",
        "l = [{'Name':'Nandini', 'Age':20},{'Name':'Manjeet','Age':20},{'Name':'Nikhil','Age':19}]\n",
        "a = lambda x : x['Name']\n",
        "list(map(a,l))"
      ],
      "metadata": {
        "colab": {
          "base_uri": "https://localhost:8080/"
        },
        "id": "8cIg5fb4PMyA",
        "outputId": "a9aee4c3-1950-4b70-8eb9-b91b449074ae"
      },
      "execution_count": null,
      "outputs": [
        {
          "output_type": "execute_result",
          "data": {
            "text/plain": [
              "['Nandini', 'Manjeet', 'Nikhil']"
            ]
          },
          "metadata": {},
          "execution_count": 21
        }
      ]
    },
    {
      "cell_type": "markdown",
      "source": [
        "##filter function"
      ],
      "metadata": {
        "id": "iRvZSk8CRJLD"
      }
    },
    {
      "cell_type": "code",
      "source": [
        "#numbers greater than 5\n",
        "l = [12,13,4,5,6,17,18,19,20]\n",
        "a = lambda x:x>5\n",
        "list(filter(a,l))"
      ],
      "metadata": {
        "colab": {
          "base_uri": "https://localhost:8080/"
        },
        "id": "EiAJlIVbQzA9",
        "outputId": "069e721c-f489-4098-fc25-66c572b99619"
      },
      "execution_count": null,
      "outputs": [
        {
          "output_type": "execute_result",
          "data": {
            "text/plain": [
              "[12, 13, 6, 17, 18, 19, 20]"
            ]
          },
          "metadata": {},
          "execution_count": 22
        }
      ]
    },
    {
      "cell_type": "code",
      "source": [
        "#fetch fruits starting with 'a'\n",
        "l = ['apple','banana','cherry','date']\n",
        "a = lambda x:x[0]=='a'\n",
        "list(filter(a,l))"
      ],
      "metadata": {
        "colab": {
          "base_uri": "https://localhost:8080/"
        },
        "id": "sPSI-xshRXWa",
        "outputId": "3a5b791b-ccf4-42ba-b92b-8db91e30675a"
      },
      "execution_count": null,
      "outputs": [
        {
          "output_type": "execute_result",
          "data": {
            "text/plain": [
              "['apple']"
            ]
          },
          "metadata": {},
          "execution_count": 23
        }
      ]
    },
    {
      "cell_type": "markdown",
      "source": [
        "##reduce function\n",
        "- can't directly use reduce function, we have to import functools"
      ],
      "metadata": {
        "id": "jOcvMSH4Sptb"
      }
    },
    {
      "cell_type": "code",
      "source": [
        "#sum of all items\n",
        "import functools\n",
        "l = [1,2,3,4,5]\n",
        "functools.reduce(lambda x,y:x+y, l)"
      ],
      "metadata": {
        "colab": {
          "base_uri": "https://localhost:8080/"
        },
        "id": "ENLr5smqSpDm",
        "outputId": "4050a6d1-89a5-4cb9-bdf7-6f5dbfb1b39e"
      },
      "execution_count": null,
      "outputs": [
        {
          "output_type": "execute_result",
          "data": {
            "text/plain": [
              "15"
            ]
          },
          "metadata": {},
          "execution_count": 24
        }
      ]
    },
    {
      "cell_type": "code",
      "source": [
        "#find minimum number from list\n",
        "functools.reduce(lambda x,y:x if x<y else y, [23,11,45,1,10])"
      ],
      "metadata": {
        "colab": {
          "base_uri": "https://localhost:8080/"
        },
        "id": "ZDphZwqESRhP",
        "outputId": "6f8a34ff-c2bc-4bb0-ca78-873265431dfe"
      },
      "execution_count": null,
      "outputs": [
        {
          "output_type": "execute_result",
          "data": {
            "text/plain": [
              "1"
            ]
          },
          "metadata": {},
          "execution_count": 25
        }
      ]
    },
    {
      "cell_type": "markdown",
      "source": [
        "#**Enumerate fumction in Python**\n",
        "- it will assign index to each element\n",
        "- returns a tuple\n"
      ],
      "metadata": {
        "id": "kDTf9hg0UD21"
      }
    },
    {
      "cell_type": "code",
      "source": [
        "l = ['SHaurya', 'Prakash', 'Verma', 'Shaurya Prakash Verma']\n",
        "for i in enumerate(l):\n",
        "  print(i)"
      ],
      "metadata": {
        "colab": {
          "base_uri": "https://localhost:8080/"
        },
        "id": "tHwrbm6-TyWg",
        "outputId": "20486caa-7224-4491-d882-7b07efc42501"
      },
      "execution_count": null,
      "outputs": [
        {
          "output_type": "stream",
          "name": "stdout",
          "text": [
            "(0, 'SHaurya')\n",
            "(1, 'Prakash')\n",
            "(2, 'Verma')\n",
            "(3, 'Shaurya Prakash Verma')\n"
          ]
        }
      ]
    },
    {
      "cell_type": "code",
      "source": [
        "l = ['SHaurya', 'Prakash', 'Verma', 'Shaurya Prakash Verma']\n",
        "for index,name in enumerate(l):\n",
        "  print(index, name)"
      ],
      "metadata": {
        "colab": {
          "base_uri": "https://localhost:8080/"
        },
        "id": "TaQdRV9IUXwj",
        "outputId": "2ae60df9-21f8-49d3-974e-8b4ea13f454a"
      },
      "execution_count": null,
      "outputs": [
        {
          "output_type": "stream",
          "name": "stdout",
          "text": [
            "0 SHaurya\n",
            "1 Prakash\n",
            "2 Verma\n",
            "3 Shaurya Prakash Verma\n"
          ]
        }
      ]
    },
    {
      "cell_type": "code",
      "source": [
        "l = ['SHaurya', 'Prakash', 'Verma', 'Shaurya Prakash Verma']\n",
        "for index,name in enumerate(l, start = 1):\n",
        "  print(index, name)"
      ],
      "metadata": {
        "colab": {
          "base_uri": "https://localhost:8080/"
        },
        "id": "hW4CMIhoUvMl",
        "outputId": "99d69d6b-29ab-4a61-9453-288f1b05cf7b"
      },
      "execution_count": null,
      "outputs": [
        {
          "output_type": "stream",
          "name": "stdout",
          "text": [
            "1 SHaurya\n",
            "2 Prakash\n",
            "3 Verma\n",
            "4 Shaurya Prakash Verma\n"
          ]
        }
      ]
    },
    {
      "cell_type": "code",
      "source": [
        "l = ['SHaurya', 'Prakash', 'Verma', 'Shaurya Prakash Verma']\n",
        "for index,name in enumerate(l, start = 1):\n",
        "  if index%2!=0:\n",
        "    print(index, name)"
      ],
      "metadata": {
        "colab": {
          "base_uri": "https://localhost:8080/"
        },
        "id": "j3mgdZ4mUzWc",
        "outputId": "255ef3e9-b81e-4c78-f850-90f632b9e33f"
      },
      "execution_count": null,
      "outputs": [
        {
          "output_type": "stream",
          "name": "stdout",
          "text": [
            "1 SHaurya\n",
            "3 Verma\n"
          ]
        }
      ]
    },
    {
      "cell_type": "markdown",
      "source": [
        "\n",
        "\n",
        "---\n",
        "\n"
      ],
      "metadata": {
        "id": "XWEaylAbVQrB"
      }
    },
    {
      "cell_type": "markdown",
      "source": [
        "#**Function Exercise**"
      ],
      "metadata": {
        "id": "OTd_ewoUVSUe"
      }
    },
    {
      "cell_type": "markdown",
      "source": [
        "###Write a Python function that takes a list and returns a new list with unique elements of the first list."
      ],
      "metadata": {
        "id": "_ozP0oKsV9Db"
      }
    },
    {
      "cell_type": "code",
      "source": [
        "from itertools import count\n",
        "def unique_list(l):\n",
        "  for i in l:\n",
        "    count = 0\n",
        "    for j in l:\n",
        "      if i == j:\n",
        "        count += 1\n",
        "        if count > 1:\n",
        "          l.remove(j)\n",
        "  print(l)\n",
        "\n",
        "unique_list([1,2,3,3,3,3,4,5])\n",
        "\n",
        "print(\"---------------------------------------------------------------------\")\n",
        "\n",
        "unique_elements = list(set([1,2,3,3,3,3,4,5]))\n",
        "print(unique_elements)\n",
        "\n",
        "print(\"---------------------------------------------------------------------\")\n",
        "\n",
        "def unique_list(l):\n",
        "  x = []\n",
        "  for i in l:\n",
        "    if i not in x:\n",
        "      x.append(i)\n",
        "  print(x)\n",
        "\n",
        "unique_list([1,2,3,3,3,3,4,5])\n"
      ],
      "metadata": {
        "colab": {
          "base_uri": "https://localhost:8080/"
        },
        "id": "6SV88Z1kVDj7",
        "outputId": "fb43a169-d6ce-4b6a-bd54-10c302b30057"
      },
      "execution_count": null,
      "outputs": [
        {
          "output_type": "stream",
          "name": "stdout",
          "text": [
            "[1, 2, 3, 4, 5]\n",
            "---------------------------------------------------------------------\n",
            "[1, 2, 3, 4, 5]\n",
            "---------------------------------------------------------------------\n",
            "[1, 2, 3, 4, 5]\n"
          ]
        }
      ]
    },
    {
      "cell_type": "markdown",
      "source": [
        "##Write a Python function that accepts a hyphen-seperated sequence of words as parameters and return the words in a hyphen-seperated sequence after sorting them alphabetically.\n",
        "\n",
        "Examples:\n",
        "\n",
        "Input- green-red-yellow-white\n",
        "\n",
        "Output- black-green-red-white-yellow"
      ],
      "metadata": {
        "id": "RdnxQ6TCB4_L"
      }
    },
    {
      "cell_type": "code",
      "source": [
        "def arrange(input_string):\n",
        "  split_word = input_string.split(\"-\")\n",
        "  print(split_word)\n",
        "  sorted_split_word = sorted(split_word)\n",
        "  print(sorted_split_word)\n",
        "  output_string = \"-\".join(sorted_split_word)\n",
        "  print(output_string)\n",
        "\n",
        "\n",
        "input_string = \"green-red-yellow-black-white\"\n",
        "arrange(input_string)"
      ],
      "metadata": {
        "id": "afsG5wT9YLNA",
        "colab": {
          "base_uri": "https://localhost:8080/"
        },
        "outputId": "f2e7b2c9-49aa-4883-b978-15c4b3ae570e"
      },
      "execution_count": null,
      "outputs": [
        {
          "output_type": "stream",
          "name": "stdout",
          "text": [
            "['green', 'red', 'yellow', 'black', 'white']\n",
            "['black', 'green', 'red', 'white', 'yellow']\n",
            "black-green-red-white-yellow\n"
          ]
        }
      ]
    },
    {
      "cell_type": "markdown",
      "source": [
        "##A Dictionary contains the following info about 5 employees\n",
        "- First name\n",
        "- Last name\n",
        "- Age\n",
        "- Grade (Skilled, Semi-skilled, Highly skilled)\n",
        "\n",
        "  Write a program using map/filter/reduce to a list of employees (first name + last name) who are higly skilled."
      ],
      "metadata": {
        "id": "iXzJoJ8uGHG8"
      }
    },
    {
      "cell_type": "code",
      "source": [
        "employees = [\n",
        "    {\n",
        "        'first_name': 'Nandini',\n",
        "        'last_name': 'Shastri',\n",
        "        'age': 20,\n",
        "        'grade': 'skilled'\n",
        "    },\n",
        "    {\n",
        "        'first_name': 'Shaurya',\n",
        "        'last_name': 'Prakash',\n",
        "        'age': 21,\n",
        "        'grade': 'semi-skilled'\n",
        "    },\n",
        "    {\n",
        "        'first_name': 'Verma',\n",
        "        'last_name': 'Singh',\n",
        "        'age': 21,\n",
        "        'grade': 'highly skilled'\n",
        "    }\n",
        "]\n",
        "\n",
        "\n",
        "filtered_employees = list(filter(lambda employee: employee['grade'] == 'highly skilled', employees))\n",
        "print(filtered_employees)\n",
        "\n",
        "filtered_names = list(map(lambda employee: employee['first_name'] + \" \" + employee['last_name'], filtered_employees))\n",
        "print(filtered_names)"
      ],
      "metadata": {
        "colab": {
          "base_uri": "https://localhost:8080/"
        },
        "id": "iwqzKBBVEc-o",
        "outputId": "80fb221d-3ccb-4359-a1af-63f69725aadb"
      },
      "execution_count": null,
      "outputs": [
        {
          "output_type": "stream",
          "name": "stdout",
          "text": [
            "[{'first_name': 'Verma', 'last_name': 'Singh', 'age': 21, 'grade': 'highly skilled'}]\n",
            "['Verma Singh']\n"
          ]
        }
      ]
    },
    {
      "cell_type": "markdown",
      "source": [
        "#**Virtual Environments in Python**"
      ],
      "metadata": {
        "id": "DNoknkRZSb2T"
      }
    },
    {
      "cell_type": "code",
      "source": [
        "# creating environment in python anaconda\n",
        "conda create -n project1 python=3.8 -y"
      ],
      "metadata": {
        "id": "44ljkwZoIIAu"
      },
      "execution_count": null,
      "outputs": []
    },
    {
      "cell_type": "code",
      "source": [
        "#To activate the virtual environment\n",
        "conda activate project1"
      ],
      "metadata": {
        "id": "DaPcAXGaS6L2"
      },
      "execution_count": null,
      "outputs": []
    },
    {
      "cell_type": "code",
      "source": [
        "#to check python version inside the virtual env\n",
        "python --version OR python"
      ],
      "metadata": {
        "id": "5ToPbS95Um0-"
      },
      "execution_count": null,
      "outputs": []
    },
    {
      "cell_type": "code",
      "source": [
        "#To install speciic version of any library\n",
        "pip install pandas==2.1.1"
      ],
      "metadata": {
        "id": "bWsIloEoTG4f"
      },
      "execution_count": null,
      "outputs": []
    },
    {
      "cell_type": "code",
      "source": [
        "#To check the number of environments in the system\n",
        "conda env list"
      ],
      "metadata": {
        "id": "exmM8euNTojB"
      },
      "execution_count": null,
      "outputs": []
    },
    {
      "cell_type": "code",
      "source": [
        "#To delete the virtual env\n",
        "anaconda installation location--->env---->you will see all env----->delete folder"
      ],
      "metadata": {
        "id": "HkgOmpm3T8WZ"
      },
      "execution_count": null,
      "outputs": []
    },
    {
      "cell_type": "code",
      "source": [
        "#To exit unwanted terminal\n",
        "exit()"
      ],
      "metadata": {
        "id": "waxBgT_8VAbN"
      },
      "execution_count": null,
      "outputs": []
    },
    {
      "cell_type": "code",
      "source": [
        "#To clear terminal\n",
        "cls"
      ],
      "metadata": {
        "id": "JZFbN72RWHzA"
      },
      "execution_count": null,
      "outputs": []
    },
    {
      "cell_type": "markdown",
      "source": [
        "# **requirements.txt in Pyhton**\n",
        "- list down all the libraries needed to be installed\n",
        "- can be any other name e.g.- required.txt , should be txt file"
      ],
      "metadata": {
        "id": "B_NPgFkbVcJz"
      }
    },
    {
      "cell_type": "code",
      "source": [
        "from typing_extensions import LiteralString\n",
        "eg.\n",
        "\n",
        "pandas==1.1.1\n",
        "numpy\n",
        "scikit-learn\n",
        "\n",
        "\n",
        "#To install command\n",
        "pip install -r requirements.txt"
      ],
      "metadata": {
        "id": "CttKzeiBXl4Y"
      },
      "execution_count": null,
      "outputs": []
    },
    {
      "cell_type": "markdown",
      "source": [
        "#**File Handling in Python**\n",
        "\n",
        "Types of data used for I/O\n",
        " - Text - '12345' as a sequence of unicode chars\n",
        " - Binay - 12345 as a sequence of bytes of its binary equivalent\n",
        "\n",
        "hence there are 2 file types to deal with\n",
        "- Text files - All program files are text files\n",
        "- Binary files - Images, music, video, exe files\n",
        "\n",
        "How file I/O is done in most programming languages\n",
        "- Opening a file\n",
        "- Read/Write data\n",
        "- Close the file"
      ],
      "metadata": {
        "id": "6oPLc8CRYpQJ"
      }
    },
    {
      "cell_type": "markdown",
      "source": [
        "##Writing to a file\n",
        "- replaces all previously present content.\n",
        "- to solve this open file in append mode."
      ],
      "metadata": {
        "id": "SJ1Xg-9RZpK8"
      }
    },
    {
      "cell_type": "code",
      "source": [
        "#if the file is not present\n",
        "f = open(\"sample_data/sample.txt\", \"w\")    #specify the path, mode\n",
        "f.write(\"Hello World\")\n",
        "f.close()"
      ],
      "metadata": {
        "id": "odQWyG1FXuEG"
      },
      "execution_count": null,
      "outputs": []
    },
    {
      "cell_type": "code",
      "source": [
        "#write multiline strings\n",
        "f = open(\"sample_data/sample.txt\", \"w\")\n",
        "f.write(\"Hello Python\\n\")\n",
        "f.write(\"How are you?\\n\")\n",
        "f.close()"
      ],
      "metadata": {
        "id": "sZI9KfJ5aCbb"
      },
      "execution_count": null,
      "outputs": []
    },
    {
      "cell_type": "code",
      "source": [
        "#Write lines\n",
        "L = ['hello\\n', 'how are you?\\n', 'I am fine']\n",
        "f = open(\"sample_data/sample.txt\", \"w\")\n",
        "f.writelines(L)\n",
        "f.close()"
      ],
      "metadata": {
        "id": "p3IzDCdiayHp"
      },
      "execution_count": null,
      "outputs": []
    },
    {
      "cell_type": "markdown",
      "source": [
        "##Reading from a file"
      ],
      "metadata": {
        "id": "kgxkN_ZNbnNL"
      }
    },
    {
      "cell_type": "code",
      "source": [
        "f = open(\"sample_data/sample.txt\", \"r\")\n",
        "print(f.read())\n",
        "f.close()"
      ],
      "metadata": {
        "colab": {
          "base_uri": "https://localhost:8080/"
        },
        "id": "LFXOk4S0bipV",
        "outputId": "c08b2ec1-d692-4e5a-b38c-37ad52cfd1fa"
      },
      "execution_count": null,
      "outputs": [
        {
          "output_type": "stream",
          "name": "stdout",
          "text": [
            "hello\n",
            "how are you?\n",
            "I am fine\n",
            "\n"
          ]
        }
      ]
    },
    {
      "cell_type": "code",
      "source": [
        "f = open('sample_data/sample.txt', 'r')\n",
        "print(f.readline(),end = ' ')\n",
        "print(f.readline(),end = ' ')\n",
        "f.close()"
      ],
      "metadata": {
        "colab": {
          "base_uri": "https://localhost:8080/"
        },
        "id": "UZMwFvcLeFCj",
        "outputId": "30af34c8-00af-417a-f8f4-12fed8e3d243"
      },
      "execution_count": null,
      "outputs": [
        {
          "output_type": "stream",
          "name": "stdout",
          "text": [
            "hello\n",
            " how are you?\n",
            " "
          ]
        }
      ]
    },
    {
      "cell_type": "code",
      "source": [
        "#Read entire using readline\n",
        "f = open('sample_data/sample.txt', 'r')\n",
        "# while True:\n",
        "#   line = f.readline()\n",
        "#   if not line:\n",
        "#     break\n",
        "#   print(line)\n",
        "# f.close()\n",
        "\n",
        "\n",
        "while True:\n",
        "  line = f.readline()\n",
        "  if line == \"\":\n",
        "    break\n",
        "  else:\n",
        "    print(line, end='')\n",
        "f.close()"
      ],
      "metadata": {
        "colab": {
          "base_uri": "https://localhost:8080/"
        },
        "id": "XUz__anJegTM",
        "outputId": "e8629de8-6ddd-4f38-9196-6d1094617eba"
      },
      "execution_count": null,
      "outputs": [
        {
          "output_type": "stream",
          "name": "stdout",
          "text": [
            "hello\n",
            "how are you?\n",
            "I am fine"
          ]
        }
      ]
    },
    {
      "cell_type": "code",
      "source": [
        "f = open(\"sample_data/sample.txt\", \"r\")\n",
        "print(f.readlines())\n",
        "f.close()"
      ],
      "metadata": {
        "colab": {
          "base_uri": "https://localhost:8080/"
        },
        "id": "dX26iV4HbvgQ",
        "outputId": "4ea5923f-4884-4ec8-e03c-13255312a684"
      },
      "execution_count": null,
      "outputs": [
        {
          "output_type": "stream",
          "name": "stdout",
          "text": [
            "['hello\\n', 'how are you?\\n', 'I am fine']\n"
          ]
        }
      ]
    },
    {
      "cell_type": "markdown",
      "source": [
        "#**File Handling using Context Manager (with)**\n",
        "Using Context Manager (with)\n",
        "- It is a good idea to close a file after usage as it will free up the resources.\n",
        "- If we don't close it , the garbage collector will close it.\n",
        "- with keyword closes the file as soon as the usage is over."
      ],
      "metadata": {
        "id": "XpqXOVpmfWV9"
      }
    },
    {
      "cell_type": "code",
      "source": [
        "with open (\"sample_data/sample.txt\", \"w\") as f:\n",
        "  f.write(\"Shaurya\")"
      ],
      "metadata": {
        "id": "XwBksuLkc-bO"
      },
      "execution_count": null,
      "outputs": []
    },
    {
      "cell_type": "code",
      "source": [
        "with open (\"sample_data/sample.txt\", \"w\") as f:\n",
        "  f.write(\"Sha\")"
      ],
      "metadata": {
        "id": "hyuSNKi6goxs"
      },
      "execution_count": null,
      "outputs": []
    },
    {
      "cell_type": "code",
      "source": [
        "with open (\"sample_data/sample.txt\", \"a\") as f:\n",
        "  f.write(\"Shaurya\")"
      ],
      "metadata": {
        "id": "ytRSUsEsg4-_"
      },
      "execution_count": null,
      "outputs": []
    },
    {
      "cell_type": "code",
      "source": [
        "with open (\"sample_data/sample.txt\", \"r\") as f:\n",
        "  print(f.read())"
      ],
      "metadata": {
        "colab": {
          "base_uri": "https://localhost:8080/"
        },
        "id": "tV4jSEJxhjDc",
        "outputId": "f9d00300-9f73-44db-c18a-b497eedc8e9c"
      },
      "execution_count": null,
      "outputs": [
        {
          "output_type": "stream",
          "name": "stdout",
          "text": [
            "ShaShaurya\n",
            "sjcsn\n"
          ]
        }
      ]
    },
    {
      "cell_type": "code",
      "source": [
        "with open (\"sample_data/sample.txt\", \"r\") as f:\n",
        "  print(f.read(4))      #reads only 4 characters\n",
        "  print(f.read(5))      #reads next 5 characters"
      ],
      "metadata": {
        "colab": {
          "base_uri": "https://localhost:8080/"
        },
        "id": "kKLB0Qfuht3g",
        "outputId": "33c34289-a49d-4e6d-c27b-7d537f2bb8ed"
      },
      "execution_count": null,
      "outputs": [
        {
          "output_type": "stream",
          "name": "stdout",
          "text": [
            "ShaS\n",
            "haury\n"
          ]
        }
      ]
    },
    {
      "cell_type": "code",
      "source": [
        "# if the data to be read is larger in size than the buffer memory, then the data is read in chunks such that the size of each chunk is smaller than the buffer size.\n",
        "\n",
        "big_l = ['hello world' for i in range(1000)]\n",
        "\n",
        "with open('sample_data/big_data.txt', 'w') as f:\n",
        "  f.writelines(big_l)             #to load such big data in memory , we will use concept of chunking\n",
        "\n",
        "with open('sample_data/big_data.txt', 'r') as f:\n",
        "  chunk_size = 100\n",
        "  while len(f.read(chunk_size))>0:\n",
        "    print(f.read(chunk_size), end = \"\")"
      ],
      "metadata": {
        "colab": {
          "base_uri": "https://localhost:8080/"
        },
        "id": "Tb7QMZC1h3xB",
        "outputId": "b74f9036-f036-4ff4-81dc-5f4ef444a2b3"
      },
      "execution_count": null,
      "outputs": [
        {
          "output_type": "stream",
          "name": "stdout",
          "text": [
            "ello worldhello worldhello worldhello worldhello worldhello worldhello worldhello worldhello worldheo worldhello worldhello worldhello worldhello worldhello worldhello worldhello worldhello worldhelloorldhello worldhello worldhello worldhello worldhello worldhello worldhello worldhello worldhello wodhello worldhello worldhello worldhello worldhello worldhello worldhello worldhello worldhello worldllo worldhello worldhello worldhello worldhello worldhello worldhello worldhello worldhello worldhel worldhello worldhello worldhello worldhello worldhello worldhello worldhello worldhello worldhello rldhello worldhello worldhello worldhello worldhello worldhello worldhello worldhello worldhello worhello worldhello worldhello worldhello worldhello worldhello worldhello worldhello worldhello worldhlo worldhello worldhello worldhello worldhello worldhello worldhello worldhello worldhello worldhellworldhello worldhello worldhello worldhello worldhello worldhello worldhello worldhello worldhello wldhello worldhello worldhello worldhello worldhello worldhello worldhello worldhello worldhello worlello worldhello worldhello worldhello worldhello worldhello worldhello worldhello worldhello worldheo worldhello worldhello worldhello worldhello worldhello worldhello worldhello worldhello worldhelloorldhello worldhello worldhello worldhello worldhello worldhello worldhello worldhello worldhello wodhello worldhello worldhello worldhello worldhello worldhello worldhello worldhello worldhello worldllo worldhello worldhello worldhello worldhello worldhello worldhello worldhello worldhello worldhel worldhello worldhello worldhello worldhello worldhello worldhello worldhello worldhello worldhello rldhello worldhello worldhello worldhello worldhello worldhello worldhello worldhello worldhello worhello worldhello worldhello worldhello worldhello worldhello worldhello worldhello worldhello worldhlo worldhello worldhello worldhello worldhello worldhello worldhello worldhello worldhello worldhellworldhello worldhello worldhello worldhello worldhello worldhello worldhello worldhello worldhello wldhello worldhello worldhello worldhello worldhello worldhello worldhello worldhello worldhello worlello worldhello worldhello worldhello worldhello worldhello worldhello worldhello worldhello worldheo worldhello worldhello worldhello worldhello worldhello worldhello worldhello worldhello worldhelloorldhello worldhello worldhello worldhello worldhello worldhello worldhello worldhello worldhello wodhello worldhello worldhello worldhello worldhello worldhello worldhello worldhello worldhello worldllo worldhello worldhello worldhello worldhello worldhello worldhello worldhello worldhello worldhel worldhello worldhello worldhello worldhello worldhello worldhello worldhello worldhello worldhello rldhello worldhello worldhello worldhello worldhello worldhello worldhello worldhello worldhello worhello worldhello worldhello worldhello worldhello worldhello worldhello worldhello worldhello worldhlo worldhello worldhello worldhello worldhello worldhello worldhello worldhello worldhello worldhellworldhello worldhello worldhello worldhello worldhello worldhello worldhello worldhello worldhello wldhello worldhello worldhello worldhello worldhello worldhello worldhello worldhello worldhello worlello worldhello worldhello worldhello worldhello worldhello worldhello worldhello worldhello worldheo worldhello worldhello worldhello worldhello worldhello worldhello worldhello worldhello worldhelloorldhello worldhello worldhello worldhello worldhello worldhello worldhello worldhello worldhello wodhello worldhello worldhello worldhello worldhello worldhello worldhello worldhello worldhello world"
          ]
        }
      ]
    },
    {
      "cell_type": "code",
      "source": [
        "'''\n",
        "seek() and tell() function\n",
        "'''\n",
        "\n",
        "with open(\"sample_data/sample.txt\", \"r\") as f:\n",
        "  print(f.read(5))\n",
        "  print(f.tell())\n",
        "  f.seek(0)\n",
        "  print(f.read())"
      ],
      "metadata": {
        "colab": {
          "base_uri": "https://localhost:8080/"
        },
        "id": "JhU_jaHwjdXS",
        "outputId": "0e5030aa-284a-4fa8-f960-38d11def4c10"
      },
      "execution_count": null,
      "outputs": [
        {
          "output_type": "stream",
          "name": "stdout",
          "text": [
            "ShaSh\n",
            "5\n",
            "ShaShaurya\n",
            "sjcsn\n"
          ]
        }
      ]
    },
    {
      "cell_type": "code",
      "source": [
        "with open(\"sample_data/sample.txt\", \"r\") as f:\n",
        "  print(f.read())\n",
        "  f.seek(0)\n",
        "  print(f.read(4))"
      ],
      "metadata": {
        "colab": {
          "base_uri": "https://localhost:8080/"
        },
        "id": "5_ts3g4Zlpf-",
        "outputId": "a87d4a0d-28d4-4d3b-e5f1-c308e2b819a7"
      },
      "execution_count": null,
      "outputs": [
        {
          "output_type": "stream",
          "name": "stdout",
          "text": [
            "ShaShaurya\n",
            "sjcsn\n",
            "ShaS\n"
          ]
        }
      ]
    },
    {
      "cell_type": "code",
      "source": [
        "with open(\"sample_data/sample.txt\", \"w+\") as f:\n",
        "  f.write('Hello')\n",
        "  f.seek(0)\n",
        "  f.write(\"Da\")\n",
        "  print(f.tell())\n",
        "  f.seek(0)\n",
        "  print(f.read())"
      ],
      "metadata": {
        "colab": {
          "base_uri": "https://localhost:8080/"
        },
        "id": "j_0KKL_xmB3A",
        "outputId": "b2b61604-e359-43f4-ab15-2b8eb77c1e46"
      },
      "execution_count": null,
      "outputs": [
        {
          "output_type": "stream",
          "name": "stdout",
          "text": [
            "2\n",
            "Dallo\n"
          ]
        }
      ]
    },
    {
      "cell_type": "markdown",
      "source": [
        "#Problems with working text mode\n",
        "- can't work with binary files like images\n",
        "- not good for other data types like int/float/list/tuples"
      ],
      "metadata": {
        "id": "l5qJb5KCnG0N"
      }
    },
    {
      "cell_type": "code",
      "source": [
        "#working with binary file\n",
        "with open (\"angry bird.png\",'rb') as f:\n",
        "  f.read()"
      ],
      "metadata": {
        "id": "icZYYCFpmcWl"
      },
      "execution_count": null,
      "outputs": []
    },
    {
      "cell_type": "code",
      "source": [
        "# copying content of one file into another file. If the copy file doesn't exist, it creates a new one.\n",
        "with open(\"angry bird.png\", \"rb\") as f:\n",
        "  with open(\"angry bird_copy.png\", \"wb\") as f1:\n",
        "    f1.write(f.read())"
      ],
      "metadata": {
        "id": "JpxTm02doY10"
      },
      "execution_count": null,
      "outputs": []
    },
    {
      "cell_type": "code",
      "source": [
        "#more complex data\n",
        "d = {\n",
        "    'name': \"Shaurya\",\n",
        "    'age' : 21,\n",
        "    'gender' : 'male'\n",
        "}\n",
        "\n",
        "with open (\"sample_data/sample.txt\", 'w') as f:\n",
        "  f.write(str(d))           # will throw error if the dictionary is not converted into string."
      ],
      "metadata": {
        "id": "DTbO29Q-o2z-"
      },
      "execution_count": null,
      "outputs": []
    },
    {
      "cell_type": "markdown",
      "source": [
        "#**Serialization and Deserialization**\n",
        "This enables us to store other data types like dictionary, list etc. without converting them into string. They retain their original nature.\n",
        "\n",
        "- **Serialization** - process of converting ***python data types to JSON*** format.\n",
        "- **Deserialzation** - process of converting ***JSON to python data types***.\n",
        "\n",
        "\n",
        "Full form of JSON is JavaScript Object Notation."
      ],
      "metadata": {
        "id": "mQuGnD9HqmT-"
      }
    },
    {
      "cell_type": "code",
      "source": [
        "#serialization using json module\n",
        "\n",
        "#list\n",
        "\n",
        "import json\n",
        "\n",
        "l = [1,2,3,4,5,6,7,8]\n",
        "\n",
        "with open(\"test.json\", 'w') as f:\n",
        "  json.dump(l, f)               # .dump function is used to write into json file. It takes two arguments. 1st-list 2nd-file object"
      ],
      "metadata": {
        "id": "3exr2FfgqCrL"
      },
      "execution_count": null,
      "outputs": []
    },
    {
      "cell_type": "code",
      "source": [
        "#dictionary\n",
        "d = {\n",
        "    'name': \"Shaurya\",\n",
        "    'age' : 21,\n",
        "    'gender' : 'male'\n",
        "}\n",
        "\n",
        "with open (\"test.json\", 'w') as f:\n",
        "  json.dump(d, f, indent =2)    #on giving indent parameter it will store dictionary like given in this example above, otherwise it will store the whole dictionary in a line."
      ],
      "metadata": {
        "id": "Fzp5DMCpsvNm"
      },
      "execution_count": null,
      "outputs": []
    },
    {
      "cell_type": "code",
      "source": [
        "#desrialization\n",
        "\n",
        "import json\n",
        "\n",
        "with open('test.json', 'r') as f:\n",
        "  d = json.load(f)      #.load function is used to load data from json file into program\n",
        "  print(d)\n",
        "  print(type(d))"
      ],
      "metadata": {
        "colab": {
          "base_uri": "https://localhost:8080/"
        },
        "id": "LivMeSxatJRB",
        "outputId": "99421553-985f-4875-ef59-13c9664e31a3"
      },
      "execution_count": null,
      "outputs": [
        {
          "output_type": "stream",
          "name": "stdout",
          "text": [
            "{'name': 'Shaurya', 'age': 21, 'gender': 'male'}\n",
            "<class 'dict'>\n"
          ]
        }
      ]
    },
    {
      "cell_type": "markdown",
      "source": [
        "#**Pickling in Python**\n",
        "- Process whereby a Python object heirarchy is converted into a byte stream, and unpickling is the reverse operation, whereby a byte stream (from a binary file or byte-like object) is converted back into an object heirarchy\n",
        "\n",
        "- useful in ML where we can save our model to use it later."
      ],
      "metadata": {
        "id": "p3kCqJOdvsaZ"
      }
    },
    {
      "cell_type": "code",
      "source": [
        "def display_info():\n",
        "  return \"Hi! My name is Shaurya Prakash Verma\"\n",
        "\n",
        "d = display_info()\n",
        "\n",
        "#pickle dump (pickling)\n",
        "import pickle\n",
        "with open(\"function.pkl\", \"wb\") as f:\n",
        "  pickle.dump(d, f)"
      ],
      "metadata": {
        "id": "XlbrE5Hft-xS"
      },
      "execution_count": null,
      "outputs": []
    },
    {
      "cell_type": "code",
      "source": [
        "#pickle load (unpickling)\n",
        "import pickle\n",
        "with open(\"function.pkl\", \"rb\") as f:\n",
        "  d = pickle.load(f)\n",
        "  print(d)"
      ],
      "metadata": {
        "colab": {
          "base_uri": "https://localhost:8080/"
        },
        "id": "xpDTGlfE09tB",
        "outputId": "77a60456-4bf0-4f8a-8143-1039819089c2"
      },
      "execution_count": null,
      "outputs": [
        {
          "output_type": "stream",
          "name": "stdout",
          "text": [
            "Hi! My name is Shaurya Prakash Verma\n"
          ]
        }
      ]
    },
    {
      "cell_type": "markdown",
      "source": [
        "#**Exception handling in Python**\n",
        "There are two stages where error may happen in a program-\n",
        "- During Compilation-> Syntax Error\n",
        "- During Execution-> Exceptions\n",
        "\n",
        "##Exceptions\n",
        "- If things go wromg during the execution of the program (runtime)\n",
        "\n",
        "e.g.-\n",
        "      1. Memory Overflow\n",
        "\n",
        "      2. Divide by 0 -> Logical Error\n",
        "      \n",
        "      3. Database Error\n",
        "\n",
        "\n",
        "- when error is displayed, code is also displayed.which can lead to  security issues due to exposed code."
      ],
      "metadata": {
        "id": "9hWGhwSD1s7G"
      }
    },
    {
      "cell_type": "code",
      "source": [
        "try:\n",
        "  with open(\"test.txt\", \"r\") as f:\n",
        "    f.read()\n",
        "except:\n",
        "  print(\"Something went wrong.\")"
      ],
      "metadata": {
        "colab": {
          "base_uri": "https://localhost:8080/"
        },
        "id": "dbqfZrQB1ONZ",
        "outputId": "230f304f-3498-47b2-e410-337558c32bb6"
      },
      "execution_count": null,
      "outputs": [
        {
          "output_type": "stream",
          "name": "stdout",
          "text": [
            "Something went wrong.\n"
          ]
        }
      ]
    },
    {
      "cell_type": "markdown",
      "source": [
        "##Different types of Error Handling"
      ],
      "metadata": {
        "id": "X5Rhk5OCEBF-"
      }
    },
    {
      "cell_type": "code",
      "source": [
        "try:\n",
        "  with open(\"sample_data/sample.txt\", 'r') as f:\n",
        "    f.read()\n",
        "    a = 4\n",
        "    b = 5\n",
        "    print(a+m)\n",
        "except:\n",
        "  print(\"Something went wrong\")     #sometimes it gives both f.read() and then something went wrong bcz probably code after f.read() has an error here [print(a+m)]"
      ],
      "metadata": {
        "colab": {
          "base_uri": "https://localhost:8080/"
        },
        "id": "UEIX8PnCDi6O",
        "outputId": "b262c89f-e0f8-488f-aee1-c2012949e7af"
      },
      "execution_count": null,
      "outputs": [
        {
          "output_type": "stream",
          "name": "stdout",
          "text": [
            "Something went wrong\n"
          ]
        }
      ]
    },
    {
      "cell_type": "code",
      "source": [
        "try:\n",
        "  with open(\"sample.txt\",\"r\") as f:\n",
        "    f.read()\n",
        "    a = 4\n",
        "    b = 5\n",
        "    print(a + m)\n",
        "except Exception as e:      #Handles all error automatically, if specific error is not known.\n",
        "  print(e)\n",
        "  print(e.with_traceback)   #To know the exact error type\n"
      ],
      "metadata": {
        "colab": {
          "base_uri": "https://localhost:8080/"
        },
        "id": "vcfAals2Ewym",
        "outputId": "ae5a0c77-b87c-48be-d2ec-9b716561b1d0"
      },
      "execution_count": null,
      "outputs": [
        {
          "output_type": "stream",
          "name": "stdout",
          "text": [
            "[Errno 2] No such file or directory: 'sample.txt'\n",
            "<built-in method with_traceback of FileNotFoundError object at 0x7f1e88ccd1c0>\n"
          ]
        }
      ]
    },
    {
      "cell_type": "code",
      "source": [
        "#else in exception handling\n",
        "\n",
        "try:\n",
        "  f = open(\"sample.txt\", \"r\")\n",
        "except FileNotFoundError as e:\n",
        "  print(e)\n",
        "else:\n",
        "  print(f.read())\n",
        "  f.close()\n",
        "\n",
        "'''\n",
        "In Python, the else block in a try...except...else statement is executed only if the code in the try block runs without raising an exception. It's a way to put code that should run when the try block is successful, separate from the try block itself.\n",
        "\n",
        "In Java, the finally block is executed regardless of whether an exception was thrown or caught. It's typically used for cleanup operations, such as closing files or network connections, that should always happen.\n",
        "\n",
        "So, the main difference is:\n",
        "\n",
        "Python else: Executes only on successful execution of the try block.\n",
        "Java finally: Executes always, regardless of exceptions.\n",
        "Python also has a finally block, which behaves similarly to Java's finally block, executing in all cases (whether an exception occurred or not). You can see an example of Python's else block in the cell UuQH-8bMG2_5.\n",
        "'''"
      ],
      "metadata": {
        "colab": {
          "base_uri": "https://localhost:8080/",
          "height": 145
        },
        "id": "UuQH-8bMG2_5",
        "outputId": "fae01981-1173-47d7-e9b3-1091552b1cbd"
      },
      "execution_count": null,
      "outputs": [
        {
          "output_type": "stream",
          "name": "stdout",
          "text": [
            "[Errno 2] No such file or directory: 'sample.txt'\n"
          ]
        },
        {
          "output_type": "execute_result",
          "data": {
            "text/plain": [
              "\"\\nIn Python, the else block in a try...except...else statement is executed only if the code in the try block runs without raising an exception. It's a way to put code that should run when the try block is successful, separate from the try block itself.\\n\\nIn Java, the finally block is executed regardless of whether an exception was thrown or caught. It's typically used for cleanup operations, such as closing files or network connections, that should always happen.\\n\\nSo, the main difference is:\\n\\nPython else: Executes only on successful execution of the try block.\\nJava finally: Executes always, regardless of exceptions.\\nPython also has a finally block, which behaves similarly to Java's finally block, executing in all cases (whether an exception occurred or not). You can see an example of Python's else block in the cell UuQH-8bMG2_5.\\n\""
            ],
            "application/vnd.google.colaboratory.intrinsic+json": {
              "type": "string"
            }
          },
          "metadata": {},
          "execution_count": 47
        }
      ]
    },
    {
      "cell_type": "code",
      "source": [
        "#finally in exception handling\n",
        "\n",
        "try:\n",
        "  f = open(\"sample.txt\", \"r\")\n",
        "except FileNotFoundError as e:\n",
        "  print(e)\n",
        "else:\n",
        "  print(f.read())\n",
        "finally:              #Always runs no matter whether an exception is caught or not\n",
        "  print(\"Very important code.\")\n",
        "  f.close()"
      ],
      "metadata": {
        "colab": {
          "base_uri": "https://localhost:8080/"
        },
        "id": "5ttw7YhPIZwv",
        "outputId": "195f0248-f9b6-4f1d-a9b6-b579e9881403"
      },
      "execution_count": null,
      "outputs": [
        {
          "output_type": "stream",
          "name": "stdout",
          "text": [
            "[Errno 2] No such file or directory: 'sample.txt'\n",
            "Very important code.\n"
          ]
        }
      ]
    },
    {
      "cell_type": "code",
      "source": [
        "#raise in exception handling\n",
        "#It is use to throw a exception manually.\n",
        "\n",
        "def divide_numbers(a,b):\n",
        "  if b == 0:\n",
        "    raise Exception(\"Can't divide numbers with 0\")\n",
        "  else:\n",
        "    return a / b\n",
        "\n",
        "try:\n",
        "  result = divide_numbers(4,0)\n",
        "  print(result)\n",
        "except Exception as e:\n",
        "  print(e)"
      ],
      "metadata": {
        "colab": {
          "base_uri": "https://localhost:8080/"
        },
        "id": "Do0TY8QAIwYR",
        "outputId": "ee80b60e-7373-47cd-ba64-5cfc4d5fd719"
      },
      "execution_count": null,
      "outputs": [
        {
          "output_type": "stream",
          "name": "stdout",
          "text": [
            "Can't divide numbers with 0\n"
          ]
        }
      ]
    },
    {
      "cell_type": "markdown",
      "source": [
        "#**Logging in Python**"
      ],
      "metadata": {
        "id": "3z8rnLkxKjEP"
      }
    },
    {
      "cell_type": "code",
      "source": [
        "import logging\n",
        "import os     #to perform functions of OS via code"
      ],
      "metadata": {
        "id": "w31VL0Z8KRfe"
      },
      "execution_count": null,
      "outputs": []
    },
    {
      "cell_type": "code",
      "source": [
        "LOG_DIR = \"logs\"\n",
        "LOG_FILE_NAME = \"application.log\"    # .log file is used. it recommended\n",
        "\n",
        "os.makedirs(LOG_DIR, exist_ok = True)   #exist_ok =TRUE ensures that if a directory already exits it will not throw any error  #.makedirs is use to make a directory\n",
        "\n",
        "# log_path = LOG_DIR + \"/\" + LOG_FILE_NAME  OR\n",
        "\n",
        "log_path = os.path.join(LOG_DIR, LOG_FILE_NAME)\n",
        "\n",
        "# print(log_path)\n",
        "\n",
        "logging.basicConfig(\n",
        "    filename = log_path,\n",
        "    format = '[%(asctime)s] %(name)s - %(levelname)s - %(message)s',\n",
        "    level = logging.INFO\n",
        ")"
      ],
      "metadata": {
        "id": "P_3s4h6_LoQ3"
      },
      "execution_count": null,
      "outputs": []
    },
    {
      "cell_type": "code",
      "source": [
        "logging.info(\"Hello World\")"
      ],
      "metadata": {
        "id": "LF00bMZEMpjC"
      },
      "execution_count": null,
      "outputs": []
    },
    {
      "cell_type": "code",
      "source": [
        "try:\n",
        "  with open(\"sample.txt\",\"r\") as f:\n",
        "    f.read()\n",
        "except Exception as e:      #Handles all error automatically, if specific error is not known.\n",
        "  logging.info(e)"
      ],
      "metadata": {
        "id": "6S_hSQ14TtUd"
      },
      "execution_count": null,
      "outputs": []
    },
    {
      "cell_type": "code",
      "source": [],
      "metadata": {
        "id": "3G2n3IDDVOXA"
      },
      "execution_count": null,
      "outputs": []
    },
    {
      "cell_type": "code",
      "metadata": {
        "colab": {
          "base_uri": "https://localhost:8080/"
        },
        "id": "7acb3971",
        "outputId": "00ae0949-806d-4d19-9d96-5743ac046a35"
      },
      "source": [
        "import os\n",
        "\n",
        "LOG_DIR = \"logs\"\n",
        "\n",
        "if os.path.exists(LOG_DIR):\n",
        "    print(f\"The directory '{LOG_DIR}' exists.\")\n",
        "    print(\"Contents of the logs directory:\")\n",
        "    for item in os.listdir(LOG_DIR):\n",
        "        print(item)\n",
        "else:\n",
        "    print(f\"The directory '{LOG_DIR}' does not exist.\")"
      ],
      "execution_count": null,
      "outputs": [
        {
          "output_type": "stream",
          "name": "stdout",
          "text": [
            "The directory 'logs' exists.\n",
            "Contents of the logs directory:\n"
          ]
        }
      ]
    },
    {
      "cell_type": "code",
      "source": [],
      "metadata": {
        "id": "hCKragEUV8X4"
      },
      "execution_count": null,
      "outputs": []
    }
  ]
}