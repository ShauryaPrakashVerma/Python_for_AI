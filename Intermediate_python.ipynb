{
  "nbformat": 4,
  "nbformat_minor": 0,
  "metadata": {
    "colab": {
      "provenance": [],
      "authorship_tag": "ABX9TyOX+yocY7Zob7mNbqNF3vPt",
      "include_colab_link": true
    },
    "kernelspec": {
      "name": "python3",
      "display_name": "Python 3"
    },
    "language_info": {
      "name": "python"
    }
  },
  "cells": [
    {
      "cell_type": "markdown",
      "metadata": {
        "id": "view-in-github",
        "colab_type": "text"
      },
      "source": [
        "<a href=\"https://colab.research.google.com/github/ShauryaPrakashVerma/Python_for_AI/blob/main/Intermediate_python.ipynb\" target=\"_parent\"><img src=\"https://colab.research.google.com/assets/colab-badge.svg\" alt=\"Open In Colab\"/></a>"
      ]
    },
    {
      "cell_type": "markdown",
      "source": [
        "#**Functions in Python**\n",
        "- Benefit of function is code reusability.\n",
        "- created by using the keyword def.\n",
        "\n",
        "Two types of functions:\n",
        "1. Built-in\n",
        "2. User Defined\n",
        "\n",
        "\n",
        "\n",
        "\n",
        "\n",
        "Principles of Functions:\n",
        "1. Abstraction\n",
        "2. Decomposition"
      ],
      "metadata": {
        "id": "TDMSeQzpCOTC"
      }
    },
    {
      "cell_type": "code",
      "execution_count": null,
      "metadata": {
        "id": "O8zrjgJ5BfMi"
      },
      "outputs": [],
      "source": [
        "'''\n",
        "Creating function\n",
        "'''\n",
        "\n",
        "def greet():\n",
        "  name = input(\"Enter your name: \")\n",
        "  print(f\"Hello {name}\")\n",
        "\n",
        "greet()"
      ]
    },
    {
      "cell_type": "markdown",
      "source": [
        "\n",
        "\n",
        "---\n",
        "\n"
      ],
      "metadata": {
        "id": "b4dMn2MRNG5U"
      }
    },
    {
      "cell_type": "markdown",
      "source": [
        "#**Docstring in Python**\n",
        "- used to provide info about the function\n"
      ],
      "metadata": {
        "id": "EeGIodIJNIAS"
      }
    },
    {
      "cell_type": "code",
      "source": [
        "def odd_even(num):\n",
        "  \"\"\"\n",
        "  This function is used to check if a given number is odd or even.\n",
        "  Input - any valid integer\n",
        "  Output - odd/even\n",
        "  \"\"\"\n",
        "  if num%2 == 0:\n",
        "    print(f\"{num} is even\")\n",
        "  else:\n",
        "    print(f\"{num} is odd\")\n",
        "\n",
        "odd_even(10)"
      ],
      "metadata": {
        "colab": {
          "base_uri": "https://localhost:8080/"
        },
        "id": "CQHEPsRnNyXc",
        "outputId": "7691b285-7b14-4103-f0b8-a7b7f55bba3d"
      },
      "execution_count": null,
      "outputs": [
        {
          "output_type": "stream",
          "name": "stdout",
          "text": [
            "10 is even\n"
          ]
        }
      ]
    },
    {
      "cell_type": "code",
      "source": [
        "print(odd_even.__doc__)      # function to print the docstring of the function"
      ],
      "metadata": {
        "colab": {
          "base_uri": "https://localhost:8080/"
        },
        "id": "NXNFtbxyOXBP",
        "outputId": "1853b2f8-9d72-4350-9acb-d6612942ea5f"
      },
      "execution_count": null,
      "outputs": [
        {
          "output_type": "stream",
          "name": "stdout",
          "text": [
            "\n",
            "  This function is used to check if a given number is odd or even.\n",
            "  Input - any valid integer\n",
            "  Output - odd/even\n",
            "  \n"
          ]
        }
      ]
    },
    {
      "cell_type": "markdown",
      "source": [
        "\n",
        "\n",
        "---\n",
        "\n"
      ],
      "metadata": {
        "id": "BHJxqU6tO-6K"
      }
    },
    {
      "cell_type": "markdown",
      "source": [
        "#**Parameters v/s Arguments**\n",
        "- parameters in function definition\n",
        "- arguments in function call"
      ],
      "metadata": {
        "id": "Ki_6GyubO_u4"
      }
    },
    {
      "cell_type": "code",
      "source": [
        "def odd_even(num):      #Parameters\n",
        "  \"\"\"\n",
        "  This function is used to check if a given number is odd or even.\n",
        "  Input - any valid integer\n",
        "  Output - odd/even\n",
        "  \"\"\"\n",
        "  if num%2 == 0:\n",
        "    print(f\"{num} is even\")\n",
        "  else:\n",
        "    print(f\"{num} is odd\")\n",
        "\n",
        "odd_even(10)      #Arguments"
      ],
      "metadata": {
        "colab": {
          "base_uri": "https://localhost:8080/"
        },
        "id": "kQdZZhC7OmCC",
        "outputId": "d895eb82-1163-4b18-8621-6b5ac41f9cd6"
      },
      "execution_count": null,
      "outputs": [
        {
          "output_type": "stream",
          "name": "stdout",
          "text": [
            "10 is even\n"
          ]
        }
      ]
    },
    {
      "cell_type": "markdown",
      "source": [
        "#**Types of Arguments**\n",
        "- Default Arguments\n",
        "- Positional Arguments\n",
        "- Keyword Arguments"
      ],
      "metadata": {
        "id": "9AiVqSlNP0Nq"
      }
    },
    {
      "cell_type": "code",
      "source": [
        "'''\n",
        "Default arguments\n",
        "'''\n",
        "\n",
        "def power(a,b):\n",
        "  return a**b\n",
        "\n",
        "print(power(2,3))\n",
        "#It takes two inputs , but if we take less than 2 arguments it will throw error, so we use default arguments.\n",
        "\n",
        "print(\"---------------------------------------------------------------------\")\n",
        "\n",
        "def power(a=2,b=2):\n",
        "  return a**b\n",
        "\n",
        "print(power(2))\n",
        "\n",
        "#now if we take less than two arguments it will still work"
      ],
      "metadata": {
        "colab": {
          "base_uri": "https://localhost:8080/"
        },
        "id": "tm9_P9BHPrOt",
        "outputId": "81332fbf-a76d-4bab-c74a-f27fdce142ce"
      },
      "execution_count": null,
      "outputs": [
        {
          "output_type": "stream",
          "name": "stdout",
          "text": [
            "8\n",
            "---------------------------------------------------------------------\n",
            "4\n"
          ]
        }
      ]
    },
    {
      "cell_type": "code",
      "source": [
        "'''\n",
        "positional arguments\n",
        "'''\n",
        "#Values are copied to the parameters in the respective position of the arguments provided.\n",
        "def power (a,b):\n",
        "  return(a**b)\n",
        "\n",
        "print(power(2,3))\n",
        "print(power(3,2))"
      ],
      "metadata": {
        "colab": {
          "base_uri": "https://localhost:8080/"
        },
        "id": "PZuUd2T2Q20b",
        "outputId": "6c155254-49f4-4a5f-e682-674e71a3caa0"
      },
      "execution_count": null,
      "outputs": [
        {
          "output_type": "stream",
          "name": "stdout",
          "text": [
            "8\n",
            "9\n"
          ]
        }
      ]
    },
    {
      "cell_type": "code",
      "source": [
        "'''\n",
        "Keyword arguments\n",
        "'''\n",
        "#here postion doesn't matter , the values are assigned automatically\n",
        "def power (a,b):\n",
        "  return(a**b)\n",
        "\n",
        "print(power(a=2,b=3))\n",
        "print(power(b=3,a=2))\n"
      ],
      "metadata": {
        "colab": {
          "base_uri": "https://localhost:8080/"
        },
        "id": "8j-gD8UPRxpK",
        "outputId": "ba231fcb-85f0-4df0-8aed-971d52dc0465"
      },
      "execution_count": null,
      "outputs": [
        {
          "output_type": "stream",
          "name": "stdout",
          "text": [
            "8\n",
            "8\n"
          ]
        }
      ]
    },
    {
      "cell_type": "markdown",
      "source": [
        "\n",
        "\n",
        "---\n",
        "\n"
      ],
      "metadata": {
        "id": "TBAXoOWKSPyH"
      }
    },
    {
      "cell_type": "markdown",
      "source": [
        "# **args and *  **kwargs in Python\n",
        "\n",
        "- *args allows us to pass variable length of non-keyword arguments to a function.\n",
        "- **kwargs allows us to pass variable length of keyword arguments to a function."
      ],
      "metadata": {
        "id": "k4LGfDO5SRFU"
      }
    },
    {
      "cell_type": "code",
      "source": [
        "def multiply(a,b,c):\n",
        "  return a*b*c\n",
        "\n",
        "multiply(2,3,4)"
      ],
      "metadata": {
        "colab": {
          "base_uri": "https://localhost:8080/"
        },
        "id": "XTongQnuSH0h",
        "outputId": "99e1af11-b548-4a69-d7b4-1dfa480acaa6"
      },
      "execution_count": null,
      "outputs": [
        {
          "output_type": "execute_result",
          "data": {
            "text/plain": [
              "24"
            ]
          },
          "metadata": {},
          "execution_count": 10
        }
      ]
    },
    {
      "cell_type": "code",
      "source": [
        "def multiply(*args):\n",
        "  print(args)\n",
        "\n",
        "multiply(2,3,4)"
      ],
      "metadata": {
        "colab": {
          "base_uri": "https://localhost:8080/"
        },
        "id": "9Nvax83yWYPI",
        "outputId": "98764a11-a2c0-428c-9b97-c667f4cd7f67"
      },
      "execution_count": null,
      "outputs": [
        {
          "output_type": "stream",
          "name": "stdout",
          "text": [
            "(2, 3, 4)\n"
          ]
        }
      ]
    },
    {
      "cell_type": "code",
      "source": [
        "def multiply(*args):   #*args converts all the inputs provided into a tuple, so npw to multiple multiple inputs we have to deal with tuple.\n",
        "  product = 1          # args is just a name can use other names also for e.g.- *shaurya\n",
        "  for i in args:\n",
        "    product = product * i\n",
        "  print(product)\n",
        "multiply(2,3,4)"
      ],
      "metadata": {
        "colab": {
          "base_uri": "https://localhost:8080/"
        },
        "id": "4wBtoLQRTLcf",
        "outputId": "66634a1a-3445-436b-a8b9-ceec0f2effc7"
      },
      "execution_count": null,
      "outputs": [
        {
          "output_type": "stream",
          "name": "stdout",
          "text": [
            "24\n"
          ]
        }
      ]
    },
    {
      "cell_type": "code",
      "source": [
        "def multiply(**kwargs):    #keyword arguments mean that they contain a key-value pair, just like a python dictionary.\n",
        "  print(kwargs)            # in place of kwargs we can use any name like in args\n",
        "\n",
        "multiply(a=2, b=3, c=4)"
      ],
      "metadata": {
        "colab": {
          "base_uri": "https://localhost:8080/"
        },
        "id": "0K8-h2V7UF3-",
        "outputId": "1fbb9ccf-4def-4174-cc45-9da74a35b303"
      },
      "execution_count": null,
      "outputs": [
        {
          "output_type": "stream",
          "name": "stdout",
          "text": [
            "{'a': 2, 'b': 3, 'c': 4}\n"
          ]
        }
      ]
    },
    {
      "cell_type": "code",
      "source": [
        "def multiply(**kwargs):\n",
        "    for (key,value) in kwargs.items():\n",
        "        print(f\"{key} = {value}\")\n",
        "multiply(a=2, b=3, c=4)"
      ],
      "metadata": {
        "colab": {
          "base_uri": "https://localhost:8080/"
        },
        "id": "J3Sl0xGXUdT6",
        "outputId": "a2b5d429-fff0-4b03-f0c6-3050c4468291"
      },
      "execution_count": null,
      "outputs": [
        {
          "output_type": "stream",
          "name": "stdout",
          "text": [
            "a = 2\n",
            "b = 3\n",
            "c = 4\n"
          ]
        }
      ]
    },
    {
      "cell_type": "markdown",
      "source": [
        "\n",
        "\n",
        "---\n",
        "\n"
      ],
      "metadata": {
        "id": "Of0NAWmkXEPf"
      }
    },
    {
      "cell_type": "markdown",
      "source": [
        "- If no return statement is used in function, by default it will return none\n"
      ],
      "metadata": {
        "id": "lsZH4bSaZQhM"
      }
    },
    {
      "cell_type": "markdown",
      "source": [
        "\n",
        "\n",
        "---\n",
        "\n"
      ],
      "metadata": {
        "id": "k1cdn_9GZasI"
      }
    },
    {
      "cell_type": "markdown",
      "source": [
        "#**Variable Scopes**\n",
        "- Global Variable --- It is accessible in all parts of the program.\n",
        "\n",
        "- Local Variable --- scope is limited to that particular block\n",
        "\n",
        "Local variable has more priority than global variable.\n",
        "\n"
      ],
      "metadata": {
        "id": "TGbR_LxnZnWq"
      }
    },
    {
      "cell_type": "code",
      "source": [
        "def f(x):\n",
        "  x = 1\n",
        "  x += 1  #global variable can be accessed but can't be changed from inside a function , here this x is referring to the x initialized before it.\n",
        "  print(x)\n",
        "x=5\n",
        "f(x)\n",
        "print(x)"
      ],
      "metadata": {
        "colab": {
          "base_uri": "https://localhost:8080/"
        },
        "id": "TJNgwTN-W6mu",
        "outputId": "e4c51e62-e2a1-4b99-95b7-39d708a60395"
      },
      "execution_count": null,
      "outputs": [
        {
          "output_type": "stream",
          "name": "stdout",
          "text": [
            "2\n",
            "5\n"
          ]
        }
      ]
    },
    {
      "cell_type": "code",
      "source": [
        "def f(x):\n",
        "  x += 1      #global variable can't be changed from inside a function, here this x is referring to the global variable.\n",
        "  print(x)    #earlier the x was referring to the local variable bcz local variable is given more preference than the gobal variable.\n",
        "x=5\n",
        "f(x)\n",
        "print(x)"
      ],
      "metadata": {
        "colab": {
          "base_uri": "https://localhost:8080/"
        },
        "id": "vtRSwK-Kbj2b",
        "outputId": "16f02165-4502-4a8e-e731-a0691958658f"
      },
      "execution_count": null,
      "outputs": [
        {
          "output_type": "stream",
          "name": "stdout",
          "text": [
            "6\n",
            "5\n"
          ]
        }
      ]
    },
    {
      "cell_type": "code",
      "source": [
        "'''\n",
        "Suppose i want to change the value in the global variable\n",
        "'''\n",
        "\n",
        "def f(y):\n",
        "  global x\n",
        "  x += 1\n",
        "  print(x)\n",
        "\n",
        "x = 5\n",
        "f(x)\n",
        "print(x)"
      ],
      "metadata": {
        "colab": {
          "base_uri": "https://localhost:8080/"
        },
        "id": "zVo7V5focfoY",
        "outputId": "19f4f5b4-09c4-4603-f3fa-8bf1b58b7805"
      },
      "execution_count": null,
      "outputs": [
        {
          "output_type": "stream",
          "name": "stdout",
          "text": [
            "6\n",
            "6\n"
          ]
        }
      ]
    },
    {
      "cell_type": "code",
      "source": [
        "def f(x):\n",
        "  global x\n",
        "  x += 1\n",
        "  print(x)\n",
        "\n",
        "x = 5\n",
        "f(x)\n",
        "print(x)\n",
        "\n",
        "'''\n",
        "here x is a local variable according to fummction defintion\n",
        "But at the same time we are declaring it global\n",
        "When you define a function like def f(x): then x becomes a local variable within that function's scope.\n",
        "It exists only while the function is executing and\n",
        "is not accessible outside of it unless explicitly returned or manipulated in a way that affects a global variable.\n",
        "'''"
      ],
      "metadata": {
        "colab": {
          "base_uri": "https://localhost:8080/",
          "height": 110
        },
        "id": "1s7rNzDgc6g_",
        "outputId": "e1fd3605-768e-467b-c7ec-c0c53c8c7ca4"
      },
      "execution_count": null,
      "outputs": [
        {
          "output_type": "error",
          "ename": "SyntaxError",
          "evalue": "name 'x' is parameter and global (ipython-input-1243796729.py, line 2)",
          "traceback": [
            "\u001b[0;36m  File \u001b[0;32m\"/tmp/ipython-input-1243796729.py\"\u001b[0;36m, line \u001b[0;32m2\u001b[0m\n\u001b[0;31m    global x\u001b[0m\n\u001b[0m    ^\u001b[0m\n\u001b[0;31mSyntaxError\u001b[0m\u001b[0;31m:\u001b[0m name 'x' is parameter and global\n"
          ]
        }
      ]
    },
    {
      "cell_type": "markdown",
      "source": [
        "#**Nested Function**\n"
      ],
      "metadata": {
        "id": "rZCQISUZeltG"
      }
    },
    {
      "cell_type": "code",
      "source": [
        "def f():\n",
        "  def g():\n",
        "    print(\"Inside function g\")\n",
        "  print(\"Inside function f\")\n",
        "\n",
        "f()     # calling f function does not print the function g\n",
        "g()     #throwing error because g function's scope is limited inside the function f"
      ],
      "metadata": {
        "colab": {
          "base_uri": "https://localhost:8080/",
          "height": 201
        },
        "id": "AxWwjxavdmWl",
        "outputId": "d756be84-2977-495b-a23d-58bdcdc34342"
      },
      "execution_count": null,
      "outputs": [
        {
          "output_type": "stream",
          "name": "stdout",
          "text": [
            "Inside function f\n"
          ]
        },
        {
          "output_type": "error",
          "ename": "NameError",
          "evalue": "name 'g' is not defined",
          "traceback": [
            "\u001b[0;31m---------------------------------------------------------------------------\u001b[0m",
            "\u001b[0;31mNameError\u001b[0m                                 Traceback (most recent call last)",
            "\u001b[0;32m/tmp/ipython-input-1497094965.py\u001b[0m in \u001b[0;36m<cell line: 0>\u001b[0;34m()\u001b[0m\n\u001b[1;32m      5\u001b[0m \u001b[0;34m\u001b[0m\u001b[0m\n\u001b[1;32m      6\u001b[0m \u001b[0mf\u001b[0m\u001b[0;34m(\u001b[0m\u001b[0;34m)\u001b[0m\u001b[0;34m\u001b[0m\u001b[0;34m\u001b[0m\u001b[0m\n\u001b[0;32m----> 7\u001b[0;31m \u001b[0mg\u001b[0m\u001b[0;34m(\u001b[0m\u001b[0;34m)\u001b[0m\u001b[0;34m\u001b[0m\u001b[0;34m\u001b[0m\u001b[0m\n\u001b[0m",
            "\u001b[0;31mNameError\u001b[0m: name 'g' is not defined"
          ]
        }
      ]
    },
    {
      "cell_type": "code",
      "source": [
        "def f():\n",
        "  def g():    #nested function can be used to hide the functionality from others, as it is accessible only inside f()\n",
        "    print(\"Inside function g\")\n",
        "  g()       #here g is printed bcz g is called within the scope\n",
        "  print(\"Inside function f\")\n",
        "\n",
        "f()"
      ],
      "metadata": {
        "colab": {
          "base_uri": "https://localhost:8080/"
        },
        "id": "U932iVPAe2oH",
        "outputId": "70f82415-8c4d-430e-8476-813a822caa3d"
      },
      "execution_count": null,
      "outputs": [
        {
          "output_type": "stream",
          "name": "stdout",
          "text": [
            "Inside function g\n",
            "Inside function f\n"
          ]
        }
      ]
    },
    {
      "cell_type": "markdown",
      "source": [
        "#**Functions are 1st class citizens**\n",
        "- It acts like data types.\n",
        "- it can be passed as an argument, returned from a location, and assigned to variables."
      ],
      "metadata": {
        "id": "hY05-7onm__g"
      }
    },
    {
      "cell_type": "code",
      "source": [
        "#type and id\n",
        "\n",
        "def square(num):\n",
        "  return num**2\n",
        "\n",
        "print(type(square))\n",
        "print(id(square))"
      ],
      "metadata": {
        "id": "zcowUIQ3fQWb",
        "colab": {
          "base_uri": "https://localhost:8080/"
        },
        "outputId": "272f2cbe-5a8f-4895-860e-37a05b4cee35"
      },
      "execution_count": 1,
      "outputs": [
        {
          "output_type": "stream",
          "name": "stdout",
          "text": [
            "<class 'function'>\n",
            "137122636514304\n"
          ]
        }
      ]
    },
    {
      "cell_type": "code",
      "source": [
        "#reassign\n",
        "\n",
        "x = square\n",
        "print(id(x))\n",
        "x(4)    #now x has also become a square"
      ],
      "metadata": {
        "colab": {
          "base_uri": "https://localhost:8080/"
        },
        "id": "9EaX5kKuscVY",
        "outputId": "26f5567f-6710-455c-cfbf-df960157a55b"
      },
      "execution_count": 4,
      "outputs": [
        {
          "output_type": "stream",
          "name": "stdout",
          "text": [
            "137122636514304\n"
          ]
        },
        {
          "output_type": "execute_result",
          "data": {
            "text/plain": [
              "16"
            ]
          },
          "metadata": {},
          "execution_count": 4
        }
      ]
    },
    {
      "cell_type": "code",
      "source": [
        "#deleting\n",
        "del square\n",
        "print(square)"
      ],
      "metadata": {
        "colab": {
          "base_uri": "https://localhost:8080/",
          "height": 183
        },
        "id": "NJOu8Fq2s9kj",
        "outputId": "4cc9ea66-8c69-4ff9-fba0-75ff31d885ff"
      },
      "execution_count": 5,
      "outputs": [
        {
          "output_type": "error",
          "ename": "NameError",
          "evalue": "name 'square' is not defined",
          "traceback": [
            "\u001b[0;31m---------------------------------------------------------------------------\u001b[0m",
            "\u001b[0;31mNameError\u001b[0m                                 Traceback (most recent call last)",
            "\u001b[0;32m/tmp/ipython-input-2229637437.py\u001b[0m in \u001b[0;36m<cell line: 0>\u001b[0;34m()\u001b[0m\n\u001b[1;32m      1\u001b[0m \u001b[0;31m#deleting\u001b[0m\u001b[0;34m\u001b[0m\u001b[0;34m\u001b[0m\u001b[0m\n\u001b[1;32m      2\u001b[0m \u001b[0;32mdel\u001b[0m \u001b[0msquare\u001b[0m\u001b[0;34m\u001b[0m\u001b[0;34m\u001b[0m\u001b[0m\n\u001b[0;32m----> 3\u001b[0;31m \u001b[0mprint\u001b[0m\u001b[0;34m(\u001b[0m\u001b[0msquare\u001b[0m\u001b[0;34m)\u001b[0m\u001b[0;34m\u001b[0m\u001b[0;34m\u001b[0m\u001b[0m\n\u001b[0m",
            "\u001b[0;31mNameError\u001b[0m: name 'square' is not defined"
          ]
        }
      ]
    },
    {
      "cell_type": "code",
      "source": [
        "#storing\n",
        "def square(num):\n",
        "  return num**2\n",
        "\n",
        "l = [1,2,3,4,5,square]\n",
        "l[-1](4)"
      ],
      "metadata": {
        "colab": {
          "base_uri": "https://localhost:8080/"
        },
        "id": "rfDvI5jLwseF",
        "outputId": "5b835257-6df5-4c60-bf4f-7d70158d254d"
      },
      "execution_count": 9,
      "outputs": [
        {
          "output_type": "execute_result",
          "data": {
            "text/plain": [
              "16"
            ]
          },
          "metadata": {},
          "execution_count": 9
        }
      ]
    },
    {
      "cell_type": "code",
      "source": [
        "s = {square}\n",
        "print(s)      #function is immutable obect"
      ],
      "metadata": {
        "colab": {
          "base_uri": "https://localhost:8080/"
        },
        "id": "Z8hlIwyaxMj7",
        "outputId": "4966d5e1-b52b-445e-e5fe-cb31009343cd"
      },
      "execution_count": 10,
      "outputs": [
        {
          "output_type": "stream",
          "name": "stdout",
          "text": [
            "{<function square at 0x7cb638e46de0>}\n"
          ]
        }
      ]
    },
    {
      "cell_type": "code",
      "source": [
        "#returning a function from another function\n",
        "\n",
        "def f():\n",
        "  def g (a,b):\n",
        "    return a+b\n",
        "  return g\n",
        "val = f()(2,3)\n",
        "print(val)"
      ],
      "metadata": {
        "colab": {
          "base_uri": "https://localhost:8080/"
        },
        "id": "Ny5slUaHyRDL",
        "outputId": "e4ac8481-d4b6-468e-dd24-21a4fb7d08c2"
      },
      "execution_count": 11,
      "outputs": [
        {
          "output_type": "stream",
          "name": "stdout",
          "text": [
            "5\n"
          ]
        }
      ]
    },
    {
      "cell_type": "code",
      "source": [
        "#function as an argumment\n",
        "def func_a():\n",
        "  print(\"inside func_a\")\n",
        "\n",
        "def func_b(z):\n",
        "  print(\"inside func_b\")\n",
        "  return z()\n",
        "\n",
        "print(func_b(func_a))   # Printing none bcz function a is not returning anything."
      ],
      "metadata": {
        "colab": {
          "base_uri": "https://localhost:8080/"
        },
        "id": "EK0X1lk2zR6y",
        "outputId": "a586e715-c1bf-414a-b696-463cbccf1a49"
      },
      "execution_count": 12,
      "outputs": [
        {
          "output_type": "stream",
          "name": "stdout",
          "text": [
            "inside func_b\n",
            "inside func_a\n",
            "None\n"
          ]
        }
      ]
    },
    {
      "cell_type": "markdown",
      "source": [
        "#**Benefits of using a Function**\n",
        "- Code Modularity\n",
        "- Code Readability\n",
        "- Code Reusability"
      ],
      "metadata": {
        "id": "RPHmR7ZT0mpd"
      }
    },
    {
      "cell_type": "markdown",
      "source": [
        "#**Lambda Functions in Python**\n",
        "- small, anonymous function.\n",
        "- Lambda function can take any number of arguments, but can only have one expression.\n",
        "\n",
        "\n",
        "e.g- lambda a,b: a+b"
      ],
      "metadata": {
        "id": "QK4Mcihk2vJ6"
      }
    },
    {
      "cell_type": "code",
      "source": [
        " a = lambda x:x**2\n",
        " a(4)"
      ],
      "metadata": {
        "colab": {
          "base_uri": "https://localhost:8080/"
        },
        "id": "-rEUtTfF2uVT",
        "outputId": "e40f6511-39a7-4f46-bc6a-5ed7699919e7"
      },
      "execution_count": 13,
      "outputs": [
        {
          "output_type": "execute_result",
          "data": {
            "text/plain": [
              "16"
            ]
          },
          "metadata": {},
          "execution_count": 13
        }
      ]
    },
    {
      "cell_type": "markdown",
      "source": [
        "#**Difference b/w Lambda and normal function**\n",
        "- no name\n",
        "- lambda has no return value (infact, return a function)\n",
        "- lambbda is written in 1 line\n",
        "- not reusable\n",
        "\n",
        "\n",
        "\n",
        "Then why are lambda function used?\n",
        "- **They are used with HOF**."
      ],
      "metadata": {
        "id": "mbbjPHI5Hz8b"
      }
    },
    {
      "cell_type": "code",
      "source": [
        "#Check if a string has 'a'\n",
        "a = lambda s:'a' in s\n",
        "a('hello')"
      ],
      "metadata": {
        "colab": {
          "base_uri": "https://localhost:8080/"
        },
        "id": "okBmzjIzJRvV",
        "outputId": "e086ea22-5cf8-4a8d-9073-b1302c7523ba"
      },
      "execution_count": 14,
      "outputs": [
        {
          "output_type": "execute_result",
          "data": {
            "text/plain": [
              "False"
            ]
          },
          "metadata": {},
          "execution_count": 14
        }
      ]
    },
    {
      "cell_type": "markdown",
      "source": [
        "#**Higher Order Functions**\n",
        " - if a function takes another functions as argument or it returns another function, then also it is a Higher order function."
      ],
      "metadata": {
        "id": "4au8Eh2mJsrX"
      }
    },
    {
      "cell_type": "code",
      "source": [
        "L = [1,2,3,4,5]\n",
        "\n",
        "def square(x):\n",
        "  return x**2\n",
        "\n",
        "def transform(f, L):    #HOF\n",
        "  output = []\n",
        "  for i in L:\n",
        "    output.append(f(i))\n",
        "  print(output)\n",
        "\n",
        "transform(square, L)"
      ],
      "metadata": {
        "colab": {
          "base_uri": "https://localhost:8080/"
        },
        "id": "Lz7D5PVrJiEb",
        "outputId": "bf4b6705-c0db-43a9-ad7a-0fbed48fae5a"
      },
      "execution_count": 16,
      "outputs": [
        {
          "output_type": "stream",
          "name": "stdout",
          "text": [
            "[1, 4, 9, 16, 25]\n"
          ]
        }
      ]
    },
    {
      "cell_type": "markdown",
      "source": [
        "#**map, filter, reduce higher order functions**"
      ],
      "metadata": {
        "id": "vo-J3iW1MAoT"
      }
    },
    {
      "cell_type": "markdown",
      "source": [
        "##map"
      ],
      "metadata": {
        "id": "5gP_9mi2NWrS"
      }
    },
    {
      "cell_type": "code",
      "source": [
        "#square the items of a list\n",
        "a = lambda x:x**2\n",
        "l = [1,2,3,4,5]\n",
        "list(map(a, L))"
      ],
      "metadata": {
        "colab": {
          "base_uri": "https://localhost:8080/"
        },
        "id": "sD5OYfwqMABF",
        "outputId": "c4b76d38-bcdc-4d83-8245-599bbc8b1e64"
      },
      "execution_count": 19,
      "outputs": [
        {
          "output_type": "execute_result",
          "data": {
            "text/plain": [
              "[1, 4, 9, 16, 25]"
            ]
          },
          "metadata": {},
          "execution_count": 19
        }
      ]
    },
    {
      "cell_type": "code",
      "source": [
        "#Odd/Even labelling of list items\n",
        "a = lambda x:'even' if x%2==0 else 'odd'\n",
        "l = [1,2,3,4,5,6,7,8,9,10]\n",
        "list(map(a,l))      #1st argument should be function. 2nd argument should be any iterable."
      ],
      "metadata": {
        "colab": {
          "base_uri": "https://localhost:8080/"
        },
        "id": "6cZJlD_NK5Bv",
        "outputId": "f184ace0-e0d8-4435-d266-1557bf27781b"
      },
      "execution_count": 20,
      "outputs": [
        {
          "output_type": "execute_result",
          "data": {
            "text/plain": [
              "['odd', 'even', 'odd', 'even', 'odd', 'even', 'odd', 'even', 'odd', 'even']"
            ]
          },
          "metadata": {},
          "execution_count": 20
        }
      ]
    },
    {
      "cell_type": "code",
      "source": [
        "#fetch names from a list of Dictionary\n",
        "l = [{'Name':'Nandini', 'Age':20},{'Name':'Manjeet','Age':20},{'Name':'Nikhil','Age':19}]\n",
        "a = lambda x : x['Name']\n",
        "list(map(a,l))"
      ],
      "metadata": {
        "colab": {
          "base_uri": "https://localhost:8080/"
        },
        "id": "8cIg5fb4PMyA",
        "outputId": "a9aee4c3-1950-4b70-8eb9-b91b449074ae"
      },
      "execution_count": 21,
      "outputs": [
        {
          "output_type": "execute_result",
          "data": {
            "text/plain": [
              "['Nandini', 'Manjeet', 'Nikhil']"
            ]
          },
          "metadata": {},
          "execution_count": 21
        }
      ]
    },
    {
      "cell_type": "markdown",
      "source": [
        "##filter function"
      ],
      "metadata": {
        "id": "iRvZSk8CRJLD"
      }
    },
    {
      "cell_type": "code",
      "source": [
        "#numbers greater than 5\n",
        "l = [12,13,4,5,6,17,18,19,20]\n",
        "a = lambda x:x>5\n",
        "list(filter(a,l))"
      ],
      "metadata": {
        "colab": {
          "base_uri": "https://localhost:8080/"
        },
        "id": "EiAJlIVbQzA9",
        "outputId": "069e721c-f489-4098-fc25-66c572b99619"
      },
      "execution_count": 22,
      "outputs": [
        {
          "output_type": "execute_result",
          "data": {
            "text/plain": [
              "[12, 13, 6, 17, 18, 19, 20]"
            ]
          },
          "metadata": {},
          "execution_count": 22
        }
      ]
    },
    {
      "cell_type": "code",
      "source": [
        "#fetch fruits starting with 'a'\n",
        "l = ['apple','banana','cherry','date']\n",
        "a = lambda x:x[0]=='a'\n",
        "list(filter(a,l))"
      ],
      "metadata": {
        "colab": {
          "base_uri": "https://localhost:8080/"
        },
        "id": "sPSI-xshRXWa",
        "outputId": "3a5b791b-ccf4-42ba-b92b-8db91e30675a"
      },
      "execution_count": 23,
      "outputs": [
        {
          "output_type": "execute_result",
          "data": {
            "text/plain": [
              "['apple']"
            ]
          },
          "metadata": {},
          "execution_count": 23
        }
      ]
    },
    {
      "cell_type": "markdown",
      "source": [
        "##reduce function\n",
        "- can't directly use reduce function, we have to import functools"
      ],
      "metadata": {
        "id": "jOcvMSH4Sptb"
      }
    },
    {
      "cell_type": "code",
      "source": [
        "#sum of all items\n",
        "import functools\n",
        "l = [1,2,3,4,5]\n",
        "functools.reduce(lambda x,y:x+y, l)"
      ],
      "metadata": {
        "colab": {
          "base_uri": "https://localhost:8080/"
        },
        "id": "ENLr5smqSpDm",
        "outputId": "4050a6d1-89a5-4cb9-bdf7-6f5dbfb1b39e"
      },
      "execution_count": 24,
      "outputs": [
        {
          "output_type": "execute_result",
          "data": {
            "text/plain": [
              "15"
            ]
          },
          "metadata": {},
          "execution_count": 24
        }
      ]
    },
    {
      "cell_type": "code",
      "source": [
        "#find minimum number from list\n",
        "functools.reduce(lambda x,y:x if x<y else y, [23,11,45,1,10])"
      ],
      "metadata": {
        "colab": {
          "base_uri": "https://localhost:8080/"
        },
        "id": "ZDphZwqESRhP",
        "outputId": "6f8a34ff-c2bc-4bb0-ca78-873265431dfe"
      },
      "execution_count": 25,
      "outputs": [
        {
          "output_type": "execute_result",
          "data": {
            "text/plain": [
              "1"
            ]
          },
          "metadata": {},
          "execution_count": 25
        }
      ]
    },
    {
      "cell_type": "markdown",
      "source": [
        "#**Enumerate fumction in Python**\n",
        "- it will assign index to each element\n",
        "- returns a tuple\n"
      ],
      "metadata": {
        "id": "kDTf9hg0UD21"
      }
    },
    {
      "cell_type": "code",
      "source": [
        "l = ['SHaurya', 'Prakash', 'Verma', 'Shaurya Prakash Verma']\n",
        "for i in enumerate(l):\n",
        "  print(i)"
      ],
      "metadata": {
        "colab": {
          "base_uri": "https://localhost:8080/"
        },
        "id": "tHwrbm6-TyWg",
        "outputId": "20486caa-7224-4491-d882-7b07efc42501"
      },
      "execution_count": 26,
      "outputs": [
        {
          "output_type": "stream",
          "name": "stdout",
          "text": [
            "(0, 'SHaurya')\n",
            "(1, 'Prakash')\n",
            "(2, 'Verma')\n",
            "(3, 'Shaurya Prakash Verma')\n"
          ]
        }
      ]
    },
    {
      "cell_type": "code",
      "source": [
        "l = ['SHaurya', 'Prakash', 'Verma', 'Shaurya Prakash Verma']\n",
        "for index,name in enumerate(l):\n",
        "  print(index, name)"
      ],
      "metadata": {
        "colab": {
          "base_uri": "https://localhost:8080/"
        },
        "id": "TaQdRV9IUXwj",
        "outputId": "2ae60df9-21f8-49d3-974e-8b4ea13f454a"
      },
      "execution_count": 27,
      "outputs": [
        {
          "output_type": "stream",
          "name": "stdout",
          "text": [
            "0 SHaurya\n",
            "1 Prakash\n",
            "2 Verma\n",
            "3 Shaurya Prakash Verma\n"
          ]
        }
      ]
    },
    {
      "cell_type": "code",
      "source": [
        "l = ['SHaurya', 'Prakash', 'Verma', 'Shaurya Prakash Verma']\n",
        "for index,name in enumerate(l, start = 1):\n",
        "  print(index, name)"
      ],
      "metadata": {
        "colab": {
          "base_uri": "https://localhost:8080/"
        },
        "id": "hW4CMIhoUvMl",
        "outputId": "99d69d6b-29ab-4a61-9453-288f1b05cf7b"
      },
      "execution_count": 28,
      "outputs": [
        {
          "output_type": "stream",
          "name": "stdout",
          "text": [
            "1 SHaurya\n",
            "2 Prakash\n",
            "3 Verma\n",
            "4 Shaurya Prakash Verma\n"
          ]
        }
      ]
    },
    {
      "cell_type": "code",
      "source": [
        "l = ['SHaurya', 'Prakash', 'Verma', 'Shaurya Prakash Verma']\n",
        "for index,name in enumerate(l, start = 1):\n",
        "  if index%2!=0:\n",
        "    print(index, name)"
      ],
      "metadata": {
        "colab": {
          "base_uri": "https://localhost:8080/"
        },
        "id": "j3mgdZ4mUzWc",
        "outputId": "255ef3e9-b81e-4c78-f850-90f632b9e33f"
      },
      "execution_count": 29,
      "outputs": [
        {
          "output_type": "stream",
          "name": "stdout",
          "text": [
            "1 SHaurya\n",
            "3 Verma\n"
          ]
        }
      ]
    },
    {
      "cell_type": "markdown",
      "source": [
        "\n",
        "\n",
        "---\n",
        "\n"
      ],
      "metadata": {
        "id": "XWEaylAbVQrB"
      }
    },
    {
      "cell_type": "markdown",
      "source": [
        "#**Function Exercise**"
      ],
      "metadata": {
        "id": "OTd_ewoUVSUe"
      }
    },
    {
      "cell_type": "markdown",
      "source": [
        "###Write a Python function that takes a list and returns a new list with unique elements of the first list."
      ],
      "metadata": {
        "id": "_ozP0oKsV9Db"
      }
    },
    {
      "cell_type": "code",
      "source": [
        "from itertools import count\n",
        "def unique_list(l):\n",
        "  for i in l:\n",
        "    count = 0\n",
        "    for j in l:\n",
        "      if i == j:\n",
        "        count += 1\n",
        "        if count > 1:\n",
        "          l.remove(j)\n",
        "  print(l)\n",
        "\n",
        "unique_list([1,2,3,3,3,3,4,5])\n",
        "\n",
        "print(\"---------------------------------------------------------------------\")\n",
        "\n",
        "unique_elements = list(set([1,2,3,3,3,3,4,5]))\n",
        "print(unique_elements)\n",
        "\n",
        "print(\"---------------------------------------------------------------------\")\n",
        "\n",
        "def unique_list(l):\n",
        "  x = []\n",
        "  for i in l:\n",
        "    if i not in x:\n",
        "      x.append(i)\n",
        "  print(x)\n",
        "\n",
        "unique_list([1,2,3,3,3,3,4,5])\n"
      ],
      "metadata": {
        "colab": {
          "base_uri": "https://localhost:8080/"
        },
        "id": "6SV88Z1kVDj7",
        "outputId": "fb43a169-d6ce-4b6a-bd54-10c302b30057"
      },
      "execution_count": 47,
      "outputs": [
        {
          "output_type": "stream",
          "name": "stdout",
          "text": [
            "[1, 2, 3, 4, 5]\n",
            "---------------------------------------------------------------------\n",
            "[1, 2, 3, 4, 5]\n",
            "---------------------------------------------------------------------\n",
            "[1, 2, 3, 4, 5]\n"
          ]
        }
      ]
    },
    {
      "cell_type": "code",
      "source": [],
      "metadata": {
        "id": "afsG5wT9YLNA"
      },
      "execution_count": 38,
      "outputs": []
    }
  ]
}