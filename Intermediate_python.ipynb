{
  "nbformat": 4,
  "nbformat_minor": 0,
  "metadata": {
    "colab": {
      "provenance": [],
      "authorship_tag": "ABX9TyNJ2N+VMFZlpbl4SIrLUif7",
      "include_colab_link": true
    },
    "kernelspec": {
      "name": "python3",
      "display_name": "Python 3"
    },
    "language_info": {
      "name": "python"
    }
  },
  "cells": [
    {
      "cell_type": "markdown",
      "metadata": {
        "id": "view-in-github",
        "colab_type": "text"
      },
      "source": [
        "<a href=\"https://colab.research.google.com/github/ShauryaPrakashVerma/Python_for_AI/blob/main/Intermediate_python.ipynb\" target=\"_parent\"><img src=\"https://colab.research.google.com/assets/colab-badge.svg\" alt=\"Open In Colab\"/></a>"
      ]
    },
    {
      "cell_type": "markdown",
      "source": [
        "#**Functions in Python**\n",
        "- Benefit of function is code reusability.\n",
        "- created by using the keyword def.\n",
        "\n",
        "Two types of functions:\n",
        "1. Built-in\n",
        "2. User Defined\n",
        "\n",
        "\n",
        "\n",
        "\n",
        "\n",
        "Principles of Functions:\n",
        "1. Abstraction\n",
        "2. Decomposition"
      ],
      "metadata": {
        "id": "TDMSeQzpCOTC"
      }
    },
    {
      "cell_type": "code",
      "execution_count": null,
      "metadata": {
        "id": "O8zrjgJ5BfMi"
      },
      "outputs": [],
      "source": [
        "'''\n",
        "Creating function\n",
        "'''\n",
        "\n",
        "def greet():\n",
        "  name = input(\"Enter your name: \")\n",
        "  print(f\"Hello {name}\")\n",
        "\n",
        "greet()"
      ]
    },
    {
      "cell_type": "markdown",
      "source": [
        "\n",
        "\n",
        "---\n",
        "\n"
      ],
      "metadata": {
        "id": "b4dMn2MRNG5U"
      }
    },
    {
      "cell_type": "markdown",
      "source": [
        "#**Docstring in Python**\n",
        "- used to provide info about the function\n"
      ],
      "metadata": {
        "id": "EeGIodIJNIAS"
      }
    },
    {
      "cell_type": "code",
      "source": [
        "def odd_even(num):\n",
        "  \"\"\"\n",
        "  This function is used to check if a given number is odd or even.\n",
        "  Input - any valid integer\n",
        "  Output - odd/even\n",
        "  \"\"\"\n",
        "  if num%2 == 0:\n",
        "    print(f\"{num} is even\")\n",
        "  else:\n",
        "    print(f\"{num} is odd\")\n",
        "\n",
        "odd_even(10)"
      ],
      "metadata": {
        "colab": {
          "base_uri": "https://localhost:8080/"
        },
        "id": "CQHEPsRnNyXc",
        "outputId": "7691b285-7b14-4103-f0b8-a7b7f55bba3d"
      },
      "execution_count": 1,
      "outputs": [
        {
          "output_type": "stream",
          "name": "stdout",
          "text": [
            "10 is even\n"
          ]
        }
      ]
    },
    {
      "cell_type": "code",
      "source": [
        "print(odd_even.__doc__)      # function to print the docstring of the function"
      ],
      "metadata": {
        "colab": {
          "base_uri": "https://localhost:8080/"
        },
        "id": "NXNFtbxyOXBP",
        "outputId": "1853b2f8-9d72-4350-9acb-d6612942ea5f"
      },
      "execution_count": 2,
      "outputs": [
        {
          "output_type": "stream",
          "name": "stdout",
          "text": [
            "\n",
            "  This function is used to check if a given number is odd or even.\n",
            "  Input - any valid integer\n",
            "  Output - odd/even\n",
            "  \n"
          ]
        }
      ]
    },
    {
      "cell_type": "markdown",
      "source": [
        "\n",
        "\n",
        "---\n",
        "\n"
      ],
      "metadata": {
        "id": "BHJxqU6tO-6K"
      }
    },
    {
      "cell_type": "markdown",
      "source": [
        "#**Parameters v/s Arguments**\n",
        "- parameters in function definition\n",
        "- arguments in function call"
      ],
      "metadata": {
        "id": "Ki_6GyubO_u4"
      }
    },
    {
      "cell_type": "code",
      "source": [
        "def odd_even(num):      #Parameters\n",
        "  \"\"\"\n",
        "  This function is used to check if a given number is odd or even.\n",
        "  Input - any valid integer\n",
        "  Output - odd/even\n",
        "  \"\"\"\n",
        "  if num%2 == 0:\n",
        "    print(f\"{num} is even\")\n",
        "  else:\n",
        "    print(f\"{num} is odd\")\n",
        "\n",
        "odd_even(10)      #Arguments"
      ],
      "metadata": {
        "colab": {
          "base_uri": "https://localhost:8080/"
        },
        "id": "kQdZZhC7OmCC",
        "outputId": "d895eb82-1163-4b18-8621-6b5ac41f9cd6"
      },
      "execution_count": 3,
      "outputs": [
        {
          "output_type": "stream",
          "name": "stdout",
          "text": [
            "10 is even\n"
          ]
        }
      ]
    },
    {
      "cell_type": "markdown",
      "source": [
        "#**Types of Arguments**\n",
        "- Default Arguments\n",
        "- Positional Arguments\n",
        "- Keyword Arguments"
      ],
      "metadata": {
        "id": "9AiVqSlNP0Nq"
      }
    },
    {
      "cell_type": "code",
      "source": [
        "'''\n",
        "Default arguments\n",
        "'''\n",
        "\n",
        "def power(a,b):\n",
        "  return a**b\n",
        "\n",
        "print(power(2,3))\n",
        "#It takes two inputs , but if we take less than 2 arguments it will throw error, so we use default arguments.\n",
        "\n",
        "print(\"---------------------------------------------------------------------\")\n",
        "\n",
        "def power(a=2,b=2):\n",
        "  return a**b\n",
        "\n",
        "print(power(2))\n",
        "\n",
        "#now if we take less than two arguments it will still work"
      ],
      "metadata": {
        "colab": {
          "base_uri": "https://localhost:8080/"
        },
        "id": "tm9_P9BHPrOt",
        "outputId": "81332fbf-a76d-4bab-c74a-f27fdce142ce"
      },
      "execution_count": 5,
      "outputs": [
        {
          "output_type": "stream",
          "name": "stdout",
          "text": [
            "8\n",
            "---------------------------------------------------------------------\n",
            "4\n"
          ]
        }
      ]
    },
    {
      "cell_type": "code",
      "source": [
        "'''\n",
        "positional arguments\n",
        "'''\n",
        "#Values are copied to the parameters in the respective position of the arguments provided.\n",
        "def power (a,b):\n",
        "  return(a**b)\n",
        "\n",
        "print(power(2,3))\n",
        "print(power(3,2))"
      ],
      "metadata": {
        "colab": {
          "base_uri": "https://localhost:8080/"
        },
        "id": "PZuUd2T2Q20b",
        "outputId": "6c155254-49f4-4a5f-e682-674e71a3caa0"
      },
      "execution_count": 6,
      "outputs": [
        {
          "output_type": "stream",
          "name": "stdout",
          "text": [
            "8\n",
            "9\n"
          ]
        }
      ]
    },
    {
      "cell_type": "code",
      "source": [
        "'''\n",
        "Keyword arguments\n",
        "'''\n",
        "#here postion doesn't matter , the values are assigned automatically\n",
        "def power (a,b):\n",
        "  return(a**b)\n",
        "\n",
        "print(power(a=2,b=3))\n",
        "print(power(b=3,a=2))\n"
      ],
      "metadata": {
        "colab": {
          "base_uri": "https://localhost:8080/"
        },
        "id": "8j-gD8UPRxpK",
        "outputId": "ba231fcb-85f0-4df0-8aed-971d52dc0465"
      },
      "execution_count": 7,
      "outputs": [
        {
          "output_type": "stream",
          "name": "stdout",
          "text": [
            "8\n",
            "8\n"
          ]
        }
      ]
    },
    {
      "cell_type": "markdown",
      "source": [
        "\n",
        "\n",
        "---\n",
        "\n"
      ],
      "metadata": {
        "id": "TBAXoOWKSPyH"
      }
    },
    {
      "cell_type": "markdown",
      "source": [
        "# **args and *  **kwargs in Python\n",
        "\n",
        "- *args allows us to pass variable length of non-keyword arguments to a function.\n",
        "- **kwargs allows us to pass variable length of keyword arguments to a function."
      ],
      "metadata": {
        "id": "k4LGfDO5SRFU"
      }
    },
    {
      "cell_type": "code",
      "source": [
        "def multiply(a,b,c):\n",
        "  return a*b*c\n",
        "\n",
        "multiply(2,3,4)"
      ],
      "metadata": {
        "colab": {
          "base_uri": "https://localhost:8080/"
        },
        "id": "XTongQnuSH0h",
        "outputId": "99e1af11-b548-4a69-d7b4-1dfa480acaa6"
      },
      "execution_count": 10,
      "outputs": [
        {
          "output_type": "execute_result",
          "data": {
            "text/plain": [
              "24"
            ]
          },
          "metadata": {},
          "execution_count": 10
        }
      ]
    },
    {
      "cell_type": "code",
      "source": [
        "def multiply(*args):   #*args converts all the inputs provided into a tuple, so npw to multiple multiple inputs we have to deal with tuple.\n",
        "  product = 1          # args is just a name can use other names also for e.g.- *shaurya\n",
        "  for i in args:\n",
        "    product = product * i\n",
        "  print(product)\n",
        "multiply(2,3,4)"
      ],
      "metadata": {
        "colab": {
          "base_uri": "https://localhost:8080/"
        },
        "id": "4wBtoLQRTLcf",
        "outputId": "66634a1a-3445-436b-a8b9-ceec0f2effc7"
      },
      "execution_count": 11,
      "outputs": [
        {
          "output_type": "stream",
          "name": "stdout",
          "text": [
            "24\n"
          ]
        }
      ]
    },
    {
      "cell_type": "code",
      "source": [
        "def mutiply(**kwargs):    #keyword arguments mean that they contain a key-value pair, just like a python dictionary.\n",
        "  print(**kwargs)\n",
        "\n",
        "multiply(a=2,b=3,c=4)"
      ],
      "metadata": {
        "colab": {
          "base_uri": "https://localhost:8080/",
          "height": 183
        },
        "id": "0K8-h2V7UF3-",
        "outputId": "22e56979-5aaf-4605-f400-30aa0b20bd21"
      },
      "execution_count": 12,
      "outputs": [
        {
          "output_type": "error",
          "ename": "TypeError",
          "evalue": "multiply() got an unexpected keyword argument 'a'",
          "traceback": [
            "\u001b[0;31m---------------------------------------------------------------------------\u001b[0m",
            "\u001b[0;31mTypeError\u001b[0m                                 Traceback (most recent call last)",
            "\u001b[0;32m/tmp/ipython-input-3584074482.py\u001b[0m in \u001b[0;36m<cell line: 0>\u001b[0;34m()\u001b[0m\n\u001b[1;32m      2\u001b[0m   \u001b[0mprint\u001b[0m\u001b[0;34m(\u001b[0m\u001b[0;34m**\u001b[0m\u001b[0mkwargs\u001b[0m\u001b[0;34m)\u001b[0m\u001b[0;34m\u001b[0m\u001b[0;34m\u001b[0m\u001b[0m\n\u001b[1;32m      3\u001b[0m \u001b[0;34m\u001b[0m\u001b[0m\n\u001b[0;32m----> 4\u001b[0;31m \u001b[0mmultiply\u001b[0m\u001b[0;34m(\u001b[0m\u001b[0ma\u001b[0m\u001b[0;34m=\u001b[0m\u001b[0;36m2\u001b[0m\u001b[0;34m,\u001b[0m\u001b[0mb\u001b[0m\u001b[0;34m=\u001b[0m\u001b[0;36m3\u001b[0m\u001b[0;34m,\u001b[0m\u001b[0mc\u001b[0m\u001b[0;34m=\u001b[0m\u001b[0;36m4\u001b[0m\u001b[0;34m)\u001b[0m\u001b[0;34m\u001b[0m\u001b[0;34m\u001b[0m\u001b[0m\n\u001b[0m",
            "\u001b[0;31mTypeError\u001b[0m: multiply() got an unexpected keyword argument 'a'"
          ]
        }
      ]
    },
    {
      "cell_type": "code",
      "source": [],
      "metadata": {
        "id": "J3Sl0xGXUdT6"
      },
      "execution_count": null,
      "outputs": []
    }
  ]
}