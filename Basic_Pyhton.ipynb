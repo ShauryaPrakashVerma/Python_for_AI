{
  "nbformat": 4,
  "nbformat_minor": 0,
  "metadata": {
    "colab": {
      "provenance": [],
      "collapsed_sections": [
        "sgZX_HAnbIvG",
        "FBUocoIYZxYP"
      ],
      "authorship_tag": "ABX9TyPaiUj/LH5laqf0QiV24jk/",
      "include_colab_link": true
    },
    "kernelspec": {
      "name": "python3",
      "display_name": "Python 3"
    },
    "language_info": {
      "name": "python"
    }
  },
  "cells": [
    {
      "cell_type": "markdown",
      "metadata": {
        "id": "view-in-github",
        "colab_type": "text"
      },
      "source": [
        "<a href=\"https://colab.research.google.com/github/ShauryaPrakashVerma/Python_for_AI/blob/main/Basic_Pyhton.ipynb\" target=\"_parent\"><img src=\"https://colab.research.google.com/assets/colab-badge.svg\" alt=\"Open In Colab\"/></a>"
      ]
    },
    {
      "cell_type": "markdown",
      "source": [
        "#**Print Function in Pyhton**\n"
      ],
      "metadata": {
        "id": "sgZX_HAnbIvG"
      }
    },
    {
      "cell_type": "code",
      "execution_count": null,
      "metadata": {
        "colab": {
          "base_uri": "https://localhost:8080/"
        },
        "id": "SHwxdfbCX6Y_",
        "outputId": "c3011191-ba11-43af-b757-e6b7ef35ed9e"
      },
      "outputs": [
        {
          "output_type": "stream",
          "name": "stdout",
          "text": [
            "shaurya prakash verma\n"
          ]
        }
      ],
      "source": [
        "print(\"shaurya prakash verma\")"
      ]
    },
    {
      "cell_type": "code",
      "source": [
        "print(\"5-10-2003\")"
      ],
      "metadata": {
        "colab": {
          "base_uri": "https://localhost:8080/"
        },
        "id": "hWkerNB6YQxG",
        "outputId": "9034f212-193b-49d3-a91f-e1fd6148602a"
      },
      "execution_count": null,
      "outputs": [
        {
          "output_type": "stream",
          "name": "stdout",
          "text": [
            "5-10-2003\n"
          ]
        }
      ]
    },
    {
      "cell_type": "code",
      "source": [
        "print(True)"
      ],
      "metadata": {
        "colab": {
          "base_uri": "https://localhost:8080/"
        },
        "id": "osmOUOI0YZKV",
        "outputId": "32790ed1-3c16-41af-a5de-1744d5952276"
      },
      "execution_count": null,
      "outputs": [
        {
          "output_type": "stream",
          "name": "stdout",
          "text": [
            "True\n"
          ]
        }
      ]
    },
    {
      "cell_type": "code",
      "source": [
        "print(\"hello\",1,2,3,sep=\"...\")"
      ],
      "metadata": {
        "colab": {
          "base_uri": "https://localhost:8080/"
        },
        "id": "JtPloUBBY_6P",
        "outputId": "16f474d2-d085-4ea2-9faa-48a0896ec9b0"
      },
      "execution_count": null,
      "outputs": [
        {
          "output_type": "stream",
          "name": "stdout",
          "text": [
            "hello...1...2...3\n"
          ]
        }
      ]
    },
    {
      "cell_type": "code",
      "source": [
        "print(\"shaurya\")\n",
        "print(\"Prakash\")"
      ],
      "metadata": {
        "colab": {
          "base_uri": "https://localhost:8080/"
        },
        "id": "sV6OGczoZHp8",
        "outputId": "fd55ecad-112a-4787-eb05-29e6aefa77d4"
      },
      "execution_count": null,
      "outputs": [
        {
          "output_type": "stream",
          "name": "stdout",
          "text": [
            "shaurya\n",
            "Prakash\n"
          ]
        }
      ]
    },
    {
      "cell_type": "code",
      "source": [
        "print(\"shaurya\", end=\"-\") #by default end=\"\\n\"\n",
        "print(\"verma\")"
      ],
      "metadata": {
        "colab": {
          "base_uri": "https://localhost:8080/"
        },
        "id": "4s00POr4ZWxg",
        "outputId": "01a7205d-af82-478f-80bf-1ec868d0e5df"
      },
      "execution_count": null,
      "outputs": [
        {
          "output_type": "stream",
          "name": "stdout",
          "text": [
            "shaurya-verma\n"
          ]
        }
      ]
    },
    {
      "cell_type": "markdown",
      "source": [
        "#**Data Types in python**\n",
        "1. Integer\n",
        "2. Float / Decimal\n",
        "3. Boolean\n",
        "4. String\n",
        "5. Complex\n",
        "6. List\n",
        "7. Tuple\n",
        "8. Sets\n",
        "9. Dictionary"
      ],
      "metadata": {
        "id": "FBUocoIYZxYP"
      }
    },
    {
      "cell_type": "code",
      "source": [
        "#Integer\n",
        "\n",
        "print(3)\n",
        "type(3)"
      ],
      "metadata": {
        "colab": {
          "base_uri": "https://localhost:8080/"
        },
        "id": "KEx69FMTZfLa",
        "outputId": "4ccc4703-213d-4c2e-d45d-7aa70c898a7b"
      },
      "execution_count": null,
      "outputs": [
        {
          "output_type": "stream",
          "name": "stdout",
          "text": [
            "3\n"
          ]
        },
        {
          "output_type": "execute_result",
          "data": {
            "text/plain": [
              "int"
            ]
          },
          "metadata": {},
          "execution_count": 15
        }
      ]
    },
    {
      "cell_type": "code",
      "source": [
        "#Float\n",
        "\n",
        "print(5.5)\n",
        "type(5.5)"
      ],
      "metadata": {
        "colab": {
          "base_uri": "https://localhost:8080/"
        },
        "id": "K4jHycvEbn_u",
        "outputId": "215589f1-eba8-4673-b5be-921c7b262623"
      },
      "execution_count": null,
      "outputs": [
        {
          "output_type": "stream",
          "name": "stdout",
          "text": [
            "5.5\n"
          ]
        },
        {
          "output_type": "execute_result",
          "data": {
            "text/plain": [
              "float"
            ]
          },
          "metadata": {},
          "execution_count": 14
        }
      ]
    },
    {
      "cell_type": "code",
      "source": [
        "#bool\n",
        "\n",
        "print(True)\n",
        "type(True)\n",
        "print(False)\n",
        "type(False)"
      ],
      "metadata": {
        "colab": {
          "base_uri": "https://localhost:8080/"
        },
        "id": "RuEoO08ib14v",
        "outputId": "8710ae1d-9104-4a20-e9e2-8cdb7ecf0e89"
      },
      "execution_count": null,
      "outputs": [
        {
          "output_type": "stream",
          "name": "stdout",
          "text": [
            "True\n",
            "False\n"
          ]
        },
        {
          "output_type": "execute_result",
          "data": {
            "text/plain": [
              "bool"
            ]
          },
          "metadata": {},
          "execution_count": 21
        }
      ]
    },
    {
      "cell_type": "code",
      "source": [
        "#String\n",
        "\n",
        "print(\"My name is shaurya\")\n",
        "type(\"My name is shaurya\")"
      ],
      "metadata": {
        "colab": {
          "base_uri": "https://localhost:8080/"
        },
        "id": "x7dxK_UYcOZ6",
        "outputId": "354c8bd3-a873-4ed2-ccbe-a72ab9629510"
      },
      "execution_count": null,
      "outputs": [
        {
          "output_type": "stream",
          "name": "stdout",
          "text": [
            "My name is shaurya\n"
          ]
        },
        {
          "output_type": "execute_result",
          "data": {
            "text/plain": [
              "str"
            ]
          },
          "metadata": {},
          "execution_count": 24
        }
      ]
    },
    {
      "cell_type": "code",
      "source": [
        "#complex\n",
        "\n",
        "print(5+7j)\n",
        "type(5+7j)\n",
        "type(6+7j)"
      ],
      "metadata": {
        "colab": {
          "base_uri": "https://localhost:8080/"
        },
        "id": "HQ8q57B1c4R7",
        "outputId": "787de4e7-4411-47c1-fc98-29b6784f427c"
      },
      "execution_count": null,
      "outputs": [
        {
          "output_type": "stream",
          "name": "stdout",
          "text": [
            "(5+7j)\n"
          ]
        },
        {
          "output_type": "execute_result",
          "data": {
            "text/plain": [
              "complex"
            ]
          },
          "metadata": {},
          "execution_count": 27
        }
      ]
    },
    {
      "cell_type": "code",
      "source": [
        "#list\n",
        "\n",
        "print([1,2,3])\n",
        "type([1,2,3])"
      ],
      "metadata": {
        "id": "fMDeMMzQdPW0",
        "colab": {
          "base_uri": "https://localhost:8080/"
        },
        "outputId": "ea891cf0-66be-42bb-c3b3-6495cf0f4653"
      },
      "execution_count": 1,
      "outputs": [
        {
          "output_type": "stream",
          "name": "stdout",
          "text": [
            "[1, 2, 3]\n"
          ]
        },
        {
          "output_type": "execute_result",
          "data": {
            "text/plain": [
              "list"
            ]
          },
          "metadata": {},
          "execution_count": 1
        }
      ]
    },
    {
      "cell_type": "code",
      "source": [
        "#tuple\n",
        "print((1,2,3))\n",
        "type((1,2,3))"
      ],
      "metadata": {
        "colab": {
          "base_uri": "https://localhost:8080/"
        },
        "id": "0F2hkT5wLec6",
        "outputId": "7b423eb9-f34a-4562-ed2b-3a238baa1934"
      },
      "execution_count": 2,
      "outputs": [
        {
          "output_type": "stream",
          "name": "stdout",
          "text": [
            "(1, 2, 3)\n"
          ]
        },
        {
          "output_type": "execute_result",
          "data": {
            "text/plain": [
              "tuple"
            ]
          },
          "metadata": {},
          "execution_count": 2
        }
      ]
    },
    {
      "cell_type": "code",
      "source": [
        "#set\n",
        "print({1,2,3,2})\n",
        "type({1,2,3})"
      ],
      "metadata": {
        "colab": {
          "base_uri": "https://localhost:8080/"
        },
        "id": "7k7PeKabLpTS",
        "outputId": "df664a5a-1671-4d3e-952f-a53d2fcf0fbc"
      },
      "execution_count": 3,
      "outputs": [
        {
          "output_type": "stream",
          "name": "stdout",
          "text": [
            "{1, 2, 3}\n"
          ]
        },
        {
          "output_type": "execute_result",
          "data": {
            "text/plain": [
              "set"
            ]
          },
          "metadata": {},
          "execution_count": 3
        }
      ]
    },
    {
      "cell_type": "code",
      "source": [
        "#dictionary\n",
        "print({\"name\":\"Shaurya\", \"age\":20, \"gender\":\"male\"})\n",
        "type({\"name\":\"Shaurya\", \"age\":20, \"gender\":\"male\"})"
      ],
      "metadata": {
        "colab": {
          "base_uri": "https://localhost:8080/"
        },
        "id": "GuBy2vjYLwVD",
        "outputId": "f502250d-b9b9-4215-f2d1-5d5ac621f844"
      },
      "execution_count": 4,
      "outputs": [
        {
          "output_type": "stream",
          "name": "stdout",
          "text": [
            "{'name': 'Shaurya', 'age': 20, 'gender': 'male'}\n"
          ]
        },
        {
          "output_type": "execute_result",
          "data": {
            "text/plain": [
              "dict"
            ]
          },
          "metadata": {},
          "execution_count": 4
        }
      ]
    },
    {
      "cell_type": "markdown",
      "source": [
        "#**Variable**"
      ],
      "metadata": {
        "id": "ddSFZH7POdBP"
      }
    },
    {
      "cell_type": "code",
      "source": [
        "a=2\n",
        "print(a)"
      ],
      "metadata": {
        "colab": {
          "base_uri": "https://localhost:8080/"
        },
        "id": "9-EDYLqIO0mI",
        "outputId": "ab6c0289-e5fd-499c-9315-da651c07ae36"
      },
      "execution_count": 5,
      "outputs": [
        {
          "output_type": "stream",
          "name": "stdout",
          "text": [
            "2\n"
          ]
        }
      ]
    },
    {
      "cell_type": "code",
      "source": [
        "c=True\n",
        "d=\"Shaurya\"\n",
        "print(c,d)\n",
        "print(c)\n",
        "print(d)"
      ],
      "metadata": {
        "colab": {
          "base_uri": "https://localhost:8080/"
        },
        "id": "FwHh-YoBO54B",
        "outputId": "3ddd353a-03d8-45c7-f3b1-15cef7b9805e"
      },
      "execution_count": 11,
      "outputs": [
        {
          "output_type": "stream",
          "name": "stdout",
          "text": [
            "True Shaurya\n",
            "True\n",
            "Shaurya\n"
          ]
        }
      ]
    },
    {
      "cell_type": "code",
      "source": [
        "name =\"Shaurya\"\n",
        "print(\"Welcome \"+name)"
      ],
      "metadata": {
        "colab": {
          "base_uri": "https://localhost:8080/"
        },
        "id": "ig8ONfzYPCHq",
        "outputId": "c1d6eb70-8714-46c6-cf4c-74fa83c71fa5"
      },
      "execution_count": 9,
      "outputs": [
        {
          "output_type": "stream",
          "name": "stdout",
          "text": [
            "Welcome Shaurya\n"
          ]
        }
      ]
    },
    {
      "cell_type": "code",
      "source": [
        "# Dynamically typed\n",
        "a=7 #int\n",
        "\n",
        "# Static typed\n",
        "# int a =7\n",
        "# The error in the selected cell is a SyntaxError.\n",
        "# This is because Python is a dynamically typed language, meaning you don't need to explicitly declare the data type of a variable when you assign a value to it."
      ],
      "metadata": {
        "id": "YSBdoUw_PY6k"
      },
      "execution_count": 13,
      "outputs": []
    },
    {
      "cell_type": "code",
      "source": [
        "# Dynamic Binding\n",
        "a=7\n",
        "print(a)\n",
        "a=\"Shaurya\"\n",
        "print(a)\n",
        "\n",
        "# Static Binding\n",
        "# int a = 7\n",
        "# str a = \"Shaurya\"\n",
        "# This will throw error in python."
      ],
      "metadata": {
        "colab": {
          "base_uri": "https://localhost:8080/"
        },
        "id": "Vo1Azt1VP-Ur",
        "outputId": "86b61174-1718-477d-c70c-649f5c9d2b0b"
      },
      "execution_count": 15,
      "outputs": [
        {
          "output_type": "stream",
          "name": "stdout",
          "text": [
            "7\n",
            "Shaurya\n"
          ]
        }
      ]
    },
    {
      "cell_type": "code",
      "source": [
        "a=1\n",
        "b=2\n",
        "c=3\n",
        "print(a,b,c)\n",
        "#--------------------------------\n",
        "a,b,c = 1,2,3\n",
        "print(a,b,c)"
      ],
      "metadata": {
        "colab": {
          "base_uri": "https://localhost:8080/"
        },
        "id": "Xh_wllIeQbHF",
        "outputId": "028f449a-bdee-4069-d3ff-64d54a2b3a29"
      },
      "execution_count": 18,
      "outputs": [
        {
          "output_type": "stream",
          "name": "stdout",
          "text": [
            "1 2 3\n",
            "1 2 3\n"
          ]
        }
      ]
    },
    {
      "cell_type": "code",
      "source": [
        "a=b=c=6\n",
        "print(a,b,c)"
      ],
      "metadata": {
        "colab": {
          "base_uri": "https://localhost:8080/"
        },
        "id": "Z0TZVDwpQ5A4",
        "outputId": "2dcd1154-daa9-4f06-ff34-dc234fa4c46f"
      },
      "execution_count": 19,
      "outputs": [
        {
          "output_type": "stream",
          "name": "stdout",
          "text": [
            "6 6 6\n"
          ]
        }
      ]
    },
    {
      "cell_type": "markdown",
      "source": [
        "#**Keywords in Python**\n",
        "*   Reserved words in pyhton that have a special meaning to the Interpreter.\n",
        "*   Can't be used as varibles.\n",
        "*   39 Keywords in python\n",
        "\n",
        "---\n",
        "\n"
      ],
      "metadata": {
        "id": "M7_T6reMRVy3"
      }
    },
    {
      "cell_type": "markdown",
      "source": [
        "# **Identifiers**\n",
        "**Rules for identifiers in python**\n",
        "\n",
        "- Keywords cannot be used as identifier names as they are reserved words in\n",
        "Python programming language. If you try, it will throw SyntaxError.\n",
        "\n",
        "- Python identifiers can contain letters in a small case (a-z), upper case (A-Z), digits (0-9), and underscore (_).\n",
        "\n",
        "- Identifiers cannot begin with a digit. For example, 10test would be an invalid identifier.\n",
        "\n",
        "- Python identifiers can’t contain only digits. For example, 888 would be an invalid identifier.\n",
        "\n",
        "- Python identifier names can start with an underscore. So, the _test would be a valid identifier.\n",
        "\n",
        "- There is no limit on the length of the identifier name. But, don’t try to keep a super long identifier, it will only hurt your credibility as a programmer.\n",
        "\n",
        "- Python identifier names are case-sensitive. So, “abc” and “ABC” are two different identifiers. It’s best to use lowercase letters for identifiers for uniformity across your programs.\n"
      ],
      "metadata": {
        "id": "ULVm5XH1TQ2-"
      }
    }
  ]
}