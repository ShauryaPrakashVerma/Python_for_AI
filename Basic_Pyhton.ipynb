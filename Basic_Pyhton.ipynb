{
  "nbformat": 4,
  "nbformat_minor": 0,
  "metadata": {
    "colab": {
      "provenance": [],
      "collapsed_sections": [
        "sgZX_HAnbIvG",
        "FBUocoIYZxYP",
        "ddSFZH7POdBP",
        "ULVm5XH1TQ2-",
        "at-RbUc7ZPdY",
        "j8_l7dEqeq5N",
        "E530l9T1fzgY",
        "I8NVlvpFiRYx"
      ],
      "authorship_tag": "ABX9TyMXR8mVUiPxMaJkBYGDte8k",
      "include_colab_link": true
    },
    "kernelspec": {
      "name": "python3",
      "display_name": "Python 3"
    },
    "language_info": {
      "name": "python"
    }
  },
  "cells": [
    {
      "cell_type": "markdown",
      "metadata": {
        "id": "view-in-github",
        "colab_type": "text"
      },
      "source": [
        "<a href=\"https://colab.research.google.com/github/ShauryaPrakashVerma/Python_for_AI/blob/main/Basic_Pyhton.ipynb\" target=\"_parent\"><img src=\"https://colab.research.google.com/assets/colab-badge.svg\" alt=\"Open In Colab\"/></a>"
      ]
    },
    {
      "cell_type": "markdown",
      "source": [
        "#**Print Function in Pyhton**\n"
      ],
      "metadata": {
        "id": "sgZX_HAnbIvG"
      }
    },
    {
      "cell_type": "code",
      "execution_count": null,
      "metadata": {
        "colab": {
          "base_uri": "https://localhost:8080/"
        },
        "id": "SHwxdfbCX6Y_",
        "outputId": "c3011191-ba11-43af-b757-e6b7ef35ed9e"
      },
      "outputs": [
        {
          "output_type": "stream",
          "name": "stdout",
          "text": [
            "shaurya prakash verma\n"
          ]
        }
      ],
      "source": [
        "print(\"shaurya prakash verma\")"
      ]
    },
    {
      "cell_type": "code",
      "source": [
        "print(\"5-10-2003\")"
      ],
      "metadata": {
        "colab": {
          "base_uri": "https://localhost:8080/"
        },
        "id": "hWkerNB6YQxG",
        "outputId": "9034f212-193b-49d3-a91f-e1fd6148602a"
      },
      "execution_count": null,
      "outputs": [
        {
          "output_type": "stream",
          "name": "stdout",
          "text": [
            "5-10-2003\n"
          ]
        }
      ]
    },
    {
      "cell_type": "code",
      "source": [
        "print(True)"
      ],
      "metadata": {
        "colab": {
          "base_uri": "https://localhost:8080/"
        },
        "id": "osmOUOI0YZKV",
        "outputId": "32790ed1-3c16-41af-a5de-1744d5952276"
      },
      "execution_count": null,
      "outputs": [
        {
          "output_type": "stream",
          "name": "stdout",
          "text": [
            "True\n"
          ]
        }
      ]
    },
    {
      "cell_type": "code",
      "source": [
        "print(\"hello\",1,2,3,sep=\"...\")"
      ],
      "metadata": {
        "colab": {
          "base_uri": "https://localhost:8080/"
        },
        "id": "JtPloUBBY_6P",
        "outputId": "16f474d2-d085-4ea2-9faa-48a0896ec9b0"
      },
      "execution_count": null,
      "outputs": [
        {
          "output_type": "stream",
          "name": "stdout",
          "text": [
            "hello...1...2...3\n"
          ]
        }
      ]
    },
    {
      "cell_type": "code",
      "source": [
        "print(\"shaurya\")\n",
        "print(\"Prakash\")"
      ],
      "metadata": {
        "colab": {
          "base_uri": "https://localhost:8080/"
        },
        "id": "sV6OGczoZHp8",
        "outputId": "fd55ecad-112a-4787-eb05-29e6aefa77d4"
      },
      "execution_count": null,
      "outputs": [
        {
          "output_type": "stream",
          "name": "stdout",
          "text": [
            "shaurya\n",
            "Prakash\n"
          ]
        }
      ]
    },
    {
      "cell_type": "code",
      "source": [
        "print(\"shaurya\", end=\"-\") #by default end=\"\\n\"\n",
        "print(\"verma\")"
      ],
      "metadata": {
        "colab": {
          "base_uri": "https://localhost:8080/"
        },
        "id": "4s00POr4ZWxg",
        "outputId": "01a7205d-af82-478f-80bf-1ec868d0e5df"
      },
      "execution_count": null,
      "outputs": [
        {
          "output_type": "stream",
          "name": "stdout",
          "text": [
            "shaurya-verma\n"
          ]
        }
      ]
    },
    {
      "cell_type": "markdown",
      "source": [
        "\n",
        "\n",
        "---\n",
        "\n"
      ],
      "metadata": {
        "id": "Lmfb-U8-Y512"
      }
    },
    {
      "cell_type": "markdown",
      "source": [
        "#**Data Types in python**\n",
        "1. Integer\n",
        "2. Float / Decimal\n",
        "3. Boolean\n",
        "4. String\n",
        "5. Complex\n",
        "6. List\n",
        "7. Tuple\n",
        "8. Sets\n",
        "9. Dictionary"
      ],
      "metadata": {
        "id": "FBUocoIYZxYP"
      }
    },
    {
      "cell_type": "code",
      "source": [
        "#Integer\n",
        "\n",
        "print(3)\n",
        "type(3)"
      ],
      "metadata": {
        "colab": {
          "base_uri": "https://localhost:8080/"
        },
        "id": "KEx69FMTZfLa",
        "outputId": "4ccc4703-213d-4c2e-d45d-7aa70c898a7b"
      },
      "execution_count": null,
      "outputs": [
        {
          "output_type": "stream",
          "name": "stdout",
          "text": [
            "3\n"
          ]
        },
        {
          "output_type": "execute_result",
          "data": {
            "text/plain": [
              "int"
            ]
          },
          "metadata": {},
          "execution_count": 15
        }
      ]
    },
    {
      "cell_type": "code",
      "source": [
        "#Float\n",
        "\n",
        "print(5.5)\n",
        "type(5.5)"
      ],
      "metadata": {
        "colab": {
          "base_uri": "https://localhost:8080/"
        },
        "id": "K4jHycvEbn_u",
        "outputId": "215589f1-eba8-4673-b5be-921c7b262623"
      },
      "execution_count": null,
      "outputs": [
        {
          "output_type": "stream",
          "name": "stdout",
          "text": [
            "5.5\n"
          ]
        },
        {
          "output_type": "execute_result",
          "data": {
            "text/plain": [
              "float"
            ]
          },
          "metadata": {},
          "execution_count": 14
        }
      ]
    },
    {
      "cell_type": "code",
      "source": [
        "#bool\n",
        "\n",
        "print(True)\n",
        "type(True)\n",
        "print(False)\n",
        "type(False)"
      ],
      "metadata": {
        "colab": {
          "base_uri": "https://localhost:8080/"
        },
        "id": "RuEoO08ib14v",
        "outputId": "8710ae1d-9104-4a20-e9e2-8cdb7ecf0e89"
      },
      "execution_count": null,
      "outputs": [
        {
          "output_type": "stream",
          "name": "stdout",
          "text": [
            "True\n",
            "False\n"
          ]
        },
        {
          "output_type": "execute_result",
          "data": {
            "text/plain": [
              "bool"
            ]
          },
          "metadata": {},
          "execution_count": 21
        }
      ]
    },
    {
      "cell_type": "code",
      "source": [
        "#String\n",
        "\n",
        "print(\"My name is shaurya\")\n",
        "type(\"My name is shaurya\")"
      ],
      "metadata": {
        "colab": {
          "base_uri": "https://localhost:8080/"
        },
        "id": "x7dxK_UYcOZ6",
        "outputId": "354c8bd3-a873-4ed2-ccbe-a72ab9629510"
      },
      "execution_count": null,
      "outputs": [
        {
          "output_type": "stream",
          "name": "stdout",
          "text": [
            "My name is shaurya\n"
          ]
        },
        {
          "output_type": "execute_result",
          "data": {
            "text/plain": [
              "str"
            ]
          },
          "metadata": {},
          "execution_count": 24
        }
      ]
    },
    {
      "cell_type": "code",
      "source": [
        "#complex\n",
        "\n",
        "print(5+7j)\n",
        "type(5+7j)\n",
        "type(6+7j)"
      ],
      "metadata": {
        "colab": {
          "base_uri": "https://localhost:8080/"
        },
        "id": "HQ8q57B1c4R7",
        "outputId": "787de4e7-4411-47c1-fc98-29b6784f427c"
      },
      "execution_count": null,
      "outputs": [
        {
          "output_type": "stream",
          "name": "stdout",
          "text": [
            "(5+7j)\n"
          ]
        },
        {
          "output_type": "execute_result",
          "data": {
            "text/plain": [
              "complex"
            ]
          },
          "metadata": {},
          "execution_count": 27
        }
      ]
    },
    {
      "cell_type": "code",
      "source": [
        "#list\n",
        "\n",
        "print([1,2,3])\n",
        "type([1,2,3])"
      ],
      "metadata": {
        "id": "fMDeMMzQdPW0",
        "colab": {
          "base_uri": "https://localhost:8080/"
        },
        "outputId": "ea891cf0-66be-42bb-c3b3-6495cf0f4653"
      },
      "execution_count": 1,
      "outputs": [
        {
          "output_type": "stream",
          "name": "stdout",
          "text": [
            "[1, 2, 3]\n"
          ]
        },
        {
          "output_type": "execute_result",
          "data": {
            "text/plain": [
              "list"
            ]
          },
          "metadata": {},
          "execution_count": 1
        }
      ]
    },
    {
      "cell_type": "code",
      "source": [
        "#tuple\n",
        "print((1,2,3))\n",
        "type((1,2,3))"
      ],
      "metadata": {
        "colab": {
          "base_uri": "https://localhost:8080/"
        },
        "id": "0F2hkT5wLec6",
        "outputId": "7b423eb9-f34a-4562-ed2b-3a238baa1934"
      },
      "execution_count": 2,
      "outputs": [
        {
          "output_type": "stream",
          "name": "stdout",
          "text": [
            "(1, 2, 3)\n"
          ]
        },
        {
          "output_type": "execute_result",
          "data": {
            "text/plain": [
              "tuple"
            ]
          },
          "metadata": {},
          "execution_count": 2
        }
      ]
    },
    {
      "cell_type": "code",
      "source": [
        "#set\n",
        "print({1,2,3,2})\n",
        "type({1,2,3})"
      ],
      "metadata": {
        "colab": {
          "base_uri": "https://localhost:8080/"
        },
        "id": "7k7PeKabLpTS",
        "outputId": "df664a5a-1671-4d3e-952f-a53d2fcf0fbc"
      },
      "execution_count": 3,
      "outputs": [
        {
          "output_type": "stream",
          "name": "stdout",
          "text": [
            "{1, 2, 3}\n"
          ]
        },
        {
          "output_type": "execute_result",
          "data": {
            "text/plain": [
              "set"
            ]
          },
          "metadata": {},
          "execution_count": 3
        }
      ]
    },
    {
      "cell_type": "code",
      "source": [
        "#dictionary\n",
        "print({\"name\":\"Shaurya\", \"age\":20, \"gender\":\"male\"})\n",
        "type({\"name\":\"Shaurya\", \"age\":20, \"gender\":\"male\"})"
      ],
      "metadata": {
        "colab": {
          "base_uri": "https://localhost:8080/"
        },
        "id": "GuBy2vjYLwVD",
        "outputId": "f502250d-b9b9-4215-f2d1-5d5ac621f844"
      },
      "execution_count": 4,
      "outputs": [
        {
          "output_type": "stream",
          "name": "stdout",
          "text": [
            "{'name': 'Shaurya', 'age': 20, 'gender': 'male'}\n"
          ]
        },
        {
          "output_type": "execute_result",
          "data": {
            "text/plain": [
              "dict"
            ]
          },
          "metadata": {},
          "execution_count": 4
        }
      ]
    },
    {
      "cell_type": "markdown",
      "source": [
        "\n",
        "\n",
        "---\n",
        "\n"
      ],
      "metadata": {
        "id": "8PXbiaBoY2mB"
      }
    },
    {
      "cell_type": "markdown",
      "source": [
        "#**Variable**"
      ],
      "metadata": {
        "id": "ddSFZH7POdBP"
      }
    },
    {
      "cell_type": "code",
      "source": [
        "a=2\n",
        "print(a)"
      ],
      "metadata": {
        "colab": {
          "base_uri": "https://localhost:8080/"
        },
        "id": "9-EDYLqIO0mI",
        "outputId": "ab6c0289-e5fd-499c-9315-da651c07ae36"
      },
      "execution_count": 5,
      "outputs": [
        {
          "output_type": "stream",
          "name": "stdout",
          "text": [
            "2\n"
          ]
        }
      ]
    },
    {
      "cell_type": "code",
      "source": [
        "c=True\n",
        "d=\"Shaurya\"\n",
        "print(c,d)\n",
        "print(c)\n",
        "print(d)"
      ],
      "metadata": {
        "colab": {
          "base_uri": "https://localhost:8080/"
        },
        "id": "FwHh-YoBO54B",
        "outputId": "3ddd353a-03d8-45c7-f3b1-15cef7b9805e"
      },
      "execution_count": 11,
      "outputs": [
        {
          "output_type": "stream",
          "name": "stdout",
          "text": [
            "True Shaurya\n",
            "True\n",
            "Shaurya\n"
          ]
        }
      ]
    },
    {
      "cell_type": "code",
      "source": [
        "name =\"Shaurya\"\n",
        "print(\"Welcome \"+name)"
      ],
      "metadata": {
        "colab": {
          "base_uri": "https://localhost:8080/"
        },
        "id": "ig8ONfzYPCHq",
        "outputId": "c1d6eb70-8714-46c6-cf4c-74fa83c71fa5"
      },
      "execution_count": 9,
      "outputs": [
        {
          "output_type": "stream",
          "name": "stdout",
          "text": [
            "Welcome Shaurya\n"
          ]
        }
      ]
    },
    {
      "cell_type": "code",
      "source": [
        "# Dynamically typed\n",
        "a=7 #int\n",
        "\n",
        "# Static typed\n",
        "# int a =7\n",
        "# The error in the selected cell is a SyntaxError.\n",
        "# This is because Python is a dynamically typed language, meaning you don't need to explicitly declare the data type of a variable when you assign a value to it."
      ],
      "metadata": {
        "id": "YSBdoUw_PY6k"
      },
      "execution_count": 13,
      "outputs": []
    },
    {
      "cell_type": "code",
      "source": [
        "# Dynamic Binding\n",
        "a=7\n",
        "print(a)\n",
        "a=\"Shaurya\"\n",
        "print(a)\n",
        "\n",
        "# Static Binding\n",
        "# int a = 7\n",
        "# str a = \"Shaurya\"\n",
        "# This will throw error in python."
      ],
      "metadata": {
        "colab": {
          "base_uri": "https://localhost:8080/"
        },
        "id": "Vo1Azt1VP-Ur",
        "outputId": "86b61174-1718-477d-c70c-649f5c9d2b0b"
      },
      "execution_count": 15,
      "outputs": [
        {
          "output_type": "stream",
          "name": "stdout",
          "text": [
            "7\n",
            "Shaurya\n"
          ]
        }
      ]
    },
    {
      "cell_type": "code",
      "source": [
        "a=1\n",
        "b=2\n",
        "c=3\n",
        "print(a,b,c)\n",
        "#--------------------------------\n",
        "a,b,c = 1,2,3\n",
        "print(a,b,c)"
      ],
      "metadata": {
        "colab": {
          "base_uri": "https://localhost:8080/"
        },
        "id": "Xh_wllIeQbHF",
        "outputId": "028f449a-bdee-4069-d3ff-64d54a2b3a29"
      },
      "execution_count": 18,
      "outputs": [
        {
          "output_type": "stream",
          "name": "stdout",
          "text": [
            "1 2 3\n",
            "1 2 3\n"
          ]
        }
      ]
    },
    {
      "cell_type": "code",
      "source": [
        "a=b=c=6\n",
        "print(a,b,c)"
      ],
      "metadata": {
        "colab": {
          "base_uri": "https://localhost:8080/"
        },
        "id": "Z0TZVDwpQ5A4",
        "outputId": "2dcd1154-daa9-4f06-ff34-dc234fa4c46f"
      },
      "execution_count": 19,
      "outputs": [
        {
          "output_type": "stream",
          "name": "stdout",
          "text": [
            "6 6 6\n"
          ]
        }
      ]
    },
    {
      "cell_type": "markdown",
      "source": [
        "\n",
        "\n",
        "---\n",
        "\n"
      ],
      "metadata": {
        "id": "fxud_jdqYyJT"
      }
    },
    {
      "cell_type": "markdown",
      "source": [
        "#**Keywords in Python**\n",
        "*   Reserved words in pyhton that have a special meaning to the Interpreter.\n",
        "*   Can't be used as varibles.\n",
        "*   39 Keywords in python\n",
        "\n",
        "---\n",
        "\n"
      ],
      "metadata": {
        "id": "M7_T6reMRVy3"
      }
    },
    {
      "cell_type": "markdown",
      "source": [
        "# **Identifiers**\n",
        "**Rules for identifiers in python**\n",
        "\n",
        "- Keywords cannot be used as identifier names as they are reserved words in\n",
        "Python programming language. If you try, it will throw SyntaxError.\n",
        "\n",
        "- Python identifiers can contain letters in a small case (a-z), upper case (A-Z), digits (0-9), and underscore (_).\n",
        "\n",
        "- Identifiers cannot begin with a digit. For example, 10test would be an invalid identifier.\n",
        "\n",
        "- Python identifiers can’t contain only digits. For example, 888 would be an invalid identifier.\n",
        "\n",
        "- Python identifier names can start with an underscore. So, the _test would be a valid identifier.\n",
        "\n",
        "- There is no limit on the length of the identifier name. But, don’t try to keep a super long identifier, it will only hurt your credibility as a programmer.\n",
        "\n",
        "- Python identifier names are case-sensitive. So, “abc” and “ABC” are two different identifiers. It’s best to use lowercase letters for identifiers for uniformity across your programs.\n"
      ],
      "metadata": {
        "id": "ULVm5XH1TQ2-"
      }
    },
    {
      "cell_type": "markdown",
      "source": [
        "\n",
        "\n",
        "---\n",
        "\n"
      ],
      "metadata": {
        "id": "WPXurN9WZMLm"
      }
    },
    {
      "cell_type": "markdown",
      "source": [
        "#**Input in python**\n",
        " - needed for dynamic applications ( which need inputs e.g. Youtube )\n",
        " - not needed in static applications ( don't need inputs e.g. Clock, Calendar )"
      ],
      "metadata": {
        "id": "at-RbUc7ZPdY"
      }
    },
    {
      "cell_type": "code",
      "source": [
        "input()"
      ],
      "metadata": {
        "colab": {
          "base_uri": "https://localhost:8080/",
          "height": 54
        },
        "id": "Sr9NMOHMZ54B",
        "outputId": "a5e7cccb-fb68-429b-feb5-17c6c3ab4b93"
      },
      "execution_count": 21,
      "outputs": [
        {
          "name": "stdout",
          "output_type": "stream",
          "text": [
            "1.2\n"
          ]
        },
        {
          "output_type": "execute_result",
          "data": {
            "text/plain": [
              "'1.2'"
            ],
            "application/vnd.google.colaboratory.intrinsic+json": {
              "type": "string"
            }
          },
          "metadata": {},
          "execution_count": 21
        }
      ]
    },
    {
      "cell_type": "code",
      "source": [
        "input(\"Name : \")"
      ],
      "metadata": {
        "colab": {
          "base_uri": "https://localhost:8080/",
          "height": 54
        },
        "id": "-X0XbozuaASF",
        "outputId": "75b3733d-2c81-4b83-9440-7bfd436c844a"
      },
      "execution_count": 22,
      "outputs": [
        {
          "name": "stdout",
          "output_type": "stream",
          "text": [
            "Name : Shaurya\n"
          ]
        },
        {
          "output_type": "execute_result",
          "data": {
            "text/plain": [
              "'Shaurya'"
            ],
            "application/vnd.google.colaboratory.intrinsic+json": {
              "type": "string"
            }
          },
          "metadata": {},
          "execution_count": 22
        }
      ]
    },
    {
      "cell_type": "code",
      "source": [
        "\n",
        "name = input(\"Name : \")\n",
        "print(name)\n",
        "type(name) # normally type is not printed when written like this. But gets printed here beacuse of Juyter notebook. In Jupyter Notebook, the last line of a code cell is automatically evaluated and its result is displayed, even without print().\n"
      ],
      "metadata": {
        "colab": {
          "base_uri": "https://localhost:8080/"
        },
        "id": "5DsJjnEiaiyg",
        "outputId": "779456f0-f4bf-4113-a1ef-90458ae075d8"
      },
      "execution_count": 25,
      "outputs": [
        {
          "output_type": "stream",
          "name": "stdout",
          "text": [
            "Name : Shaurya\n",
            "Shaurya\n"
          ]
        },
        {
          "output_type": "execute_result",
          "data": {
            "text/plain": [
              "str"
            ]
          },
          "metadata": {},
          "execution_count": 25
        }
      ]
    },
    {
      "cell_type": "code",
      "source": [
        "\n",
        "# By default the input function converts all data into String\n",
        "\n",
        "age = input(\"Age : \")\n",
        "print(age)\n",
        "print(type(age))\n",
        "\n",
        "# use Type Conversion to Convert str back to Int\n",
        "print(type(int(age)))\n"
      ],
      "metadata": {
        "colab": {
          "base_uri": "https://localhost:8080/"
        },
        "id": "Yft-zyPiawQl",
        "outputId": "a33950f0-6f99-495a-ec57-893e415d49fd"
      },
      "execution_count": 29,
      "outputs": [
        {
          "output_type": "stream",
          "name": "stdout",
          "text": [
            "Age : 18\n",
            "18\n",
            "<class 'str'>\n",
            "<class 'int'>\n"
          ]
        }
      ]
    },
    {
      "cell_type": "markdown",
      "source": [
        "\n",
        "\n",
        "---\n",
        "\n"
      ],
      "metadata": {
        "id": "JNuOrOF0epV8"
      }
    },
    {
      "cell_type": "markdown",
      "source": [
        "#**Simple Python Calculator**\n",
        "\n",
        "1.   Accepts two inputs.\n",
        "2.   Performs only addition.\n",
        "\n"
      ],
      "metadata": {
        "id": "j8_l7dEqeq5N"
      }
    },
    {
      "cell_type": "code",
      "source": [
        "num1 = input(\"Enter the first number : \")\n",
        "num2 = input(\"Enter the second number : \")\n",
        "result = float(num1) + float(num2)\n",
        "print(\"result : \", result)"
      ],
      "metadata": {
        "colab": {
          "base_uri": "https://localhost:8080/"
        },
        "id": "NjRAS4u3e-Cb",
        "outputId": "c8c576a1-8227-4d20-a39d-9855e928854e"
      },
      "execution_count": 33,
      "outputs": [
        {
          "output_type": "stream",
          "name": "stdout",
          "text": [
            "Enter the first number : 2.4\n",
            "Enter the second number : 2.4\n",
            "result :  4.8\n"
          ]
        }
      ]
    },
    {
      "cell_type": "markdown",
      "source": [
        "\n",
        "\n",
        "---\n",
        "\n"
      ],
      "metadata": {
        "id": "SQ4ImwQLffB4"
      }
    },
    {
      "cell_type": "markdown",
      "source": [
        "#**Type Conversion**\n",
        "- There are two types:\n",
        "  - Implicit type Conversion\n",
        "  - Explicit type Conversion"
      ],
      "metadata": {
        "id": "E530l9T1fzgY"
      }
    },
    {
      "cell_type": "code",
      "source": [
        "\n",
        "# Implicit Type Conversion\n",
        "\n",
        "a = 5\n",
        "b = 5.5\n",
        "sum = a + b\n",
        "print(a)\n",
        "print(b)\n",
        "print(sum)\n",
        "print(type(a))\n",
        "print(type(b))\n",
        "print(type(sum)) # sum automatically converted to larger data type (here float)\n"
      ],
      "metadata": {
        "colab": {
          "base_uri": "https://localhost:8080/"
        },
        "id": "PtI35klVgLuX",
        "outputId": "b3253663-84d7-43cf-98ad-786cdc168c0c"
      },
      "execution_count": 36,
      "outputs": [
        {
          "output_type": "stream",
          "name": "stdout",
          "text": [
            "5\n",
            "5.5\n",
            "10.5\n",
            "<class 'int'>\n",
            "<class 'float'>\n",
            "<class 'float'>\n"
          ]
        }
      ]
    },
    {
      "cell_type": "code",
      "source": [
        "\n",
        "# Explicit Type Conversion\n",
        "\n",
        "print( 4 + int(\"4\"))\n",
        "print( 4 + float(\"4\"))\n",
        "print( 4 + bool(\"4\"))\n",
        "print( 4 + complex(\"4\"))\n",
        "\n",
        "num = 34\n",
        "print(float(num))\n",
        "\n",
        "\n",
        "# Can't convert complex to any int or float data type\n"
      ],
      "metadata": {
        "colab": {
          "base_uri": "https://localhost:8080/"
        },
        "id": "AsTmGe38gu9J",
        "outputId": "d6f00f55-e487-4e9b-8268-16f424c5b594"
      },
      "execution_count": 38,
      "outputs": [
        {
          "output_type": "stream",
          "name": "stdout",
          "text": [
            "8\n",
            "8.0\n",
            "5\n",
            "(8+0j)\n",
            "34.0\n"
          ]
        }
      ]
    },
    {
      "cell_type": "markdown",
      "source": [
        "\n",
        "\n",
        "---\n",
        "\n"
      ],
      "metadata": {
        "id": "AUKU5izgiQI2"
      }
    },
    {
      "cell_type": "markdown",
      "source": [
        "#**Literals**"
      ],
      "metadata": {
        "id": "I8NVlvpFiRYx"
      }
    },
    {
      "cell_type": "code",
      "source": [
        "a = 3 #here 3 is a literal"
      ],
      "metadata": {
        "id": "cyOZ2q5ciZwe"
      },
      "execution_count": 40,
      "outputs": []
    },
    {
      "cell_type": "code",
      "source": [
        "a = 0b1010 #Binary Literal (0b)\n",
        "b = 100 #Decimal Literal\n",
        "c = 0o310 #Octal Literal (0o)\n",
        "d = 0x12c #Hexadeimal Literal (0x)\n",
        "\n",
        "print(a,b,c,d)"
      ],
      "metadata": {
        "colab": {
          "base_uri": "https://localhost:8080/"
        },
        "id": "0706o7Ndiy7y",
        "outputId": "7f887999-c6db-4b47-ac1a-d9ed83d26017"
      },
      "execution_count": 41,
      "outputs": [
        {
          "output_type": "stream",
          "name": "stdout",
          "text": [
            "10 100 200 300\n"
          ]
        }
      ]
    },
    {
      "cell_type": "code",
      "source": [
        "\n",
        "# Float Literals\n",
        "\n",
        "float_1 = 10.5\n",
        "float_2 = 1.5e2 # 1.5 * 10^2\n",
        "float_3 = 1.5e-3 # 1.5 * 10^-3\n",
        "\n",
        "print(float_1, float_2, float_3)"
      ],
      "metadata": {
        "colab": {
          "base_uri": "https://localhost:8080/"
        },
        "id": "k9F4ZPn2jb2J",
        "outputId": "1707e612-1982-489b-cd6a-34e390558632"
      },
      "execution_count": 42,
      "outputs": [
        {
          "output_type": "stream",
          "name": "stdout",
          "text": [
            "10.5 150.0 0.0015\n"
          ]
        }
      ]
    },
    {
      "cell_type": "code",
      "source": [
        "# Complex Literals\n",
        "\n",
        "x = 3.14j\n",
        "print(x, x.imag, x.real)\n",
        "\n",
        "y = 3+5j\n",
        "print(y, y.real, y.imag)"
      ],
      "metadata": {
        "colab": {
          "base_uri": "https://localhost:8080/"
        },
        "id": "u32fkEAIkQIj",
        "outputId": "96fc2125-11a4-4aae-962a-75aca85a9b77"
      },
      "execution_count": 44,
      "outputs": [
        {
          "output_type": "stream",
          "name": "stdout",
          "text": [
            "3.14j 3.14 0.0\n",
            "(3+5j) 3.0 5.0\n"
          ]
        }
      ]
    },
    {
      "cell_type": "code",
      "source": [
        "string1 = 'My name is Shaurya.'\n",
        "string2 = \"My name is Shaurya.\"\n",
        "char = 'c'\n",
        "multiline_str1 = '''This is a multiline string with single quotes'''\n",
        "multiline_str2 = \"\"\"This is a multiline string with double quotes\"\"\"\n",
        "\n",
        "print(string1)\n",
        "print(string2)\n",
        "print(char)\n",
        "print(multiline_str1)\n",
        "print(multiline_str2)\n"
      ],
      "metadata": {
        "colab": {
          "base_uri": "https://localhost:8080/"
        },
        "id": "MJ5MrWfakfWf",
        "outputId": "e84ba848-ebf7-4b30-871b-0d4c4d54d7d6"
      },
      "execution_count": 46,
      "outputs": [
        {
          "output_type": "stream",
          "name": "stdout",
          "text": [
            "My name is Shaurya.\n",
            "My name is Shaurya.\n",
            "c\n",
            "This is a multiline string with single quotes\n",
            "This is a multiline string with double quotes\n"
          ]
        }
      ]
    },
    {
      "cell_type": "code",
      "source": [
        "unicode_str = u\"\\U0001F600\\U0001F602\"\n",
        "raw_str = r\"raw \\n string\" #Raw string prints the string at it is, ignores even the escape sequences e.g. \"\\n\"\n",
        "\n",
        "print(unicode_str)\n",
        "print(raw_str)"
      ],
      "metadata": {
        "colab": {
          "base_uri": "https://localhost:8080/"
        },
        "id": "MN7rGdvHlM_v",
        "outputId": "601f845e-d98a-48d1-afb3-9e0303f0ae09"
      },
      "execution_count": 53,
      "outputs": [
        {
          "output_type": "stream",
          "name": "stdout",
          "text": [
            "😀😂\n",
            "raw \\n string\n"
          ]
        }
      ]
    },
    {
      "cell_type": "code",
      "source": [
        "# Boolean Literals\n",
        "\n",
        "a = True + 4    #True = 1\n",
        "b = False + 10    #False = 0\n",
        "\n",
        "print(a)\n",
        "print(b)"
      ],
      "metadata": {
        "colab": {
          "base_uri": "https://localhost:8080/"
        },
        "id": "eN7ig_77mJ0N",
        "outputId": "fd0f7af3-cc6c-43a6-a3e0-921e1ec74dde"
      },
      "execution_count": 54,
      "outputs": [
        {
          "output_type": "stream",
          "name": "stdout",
          "text": [
            "5\n",
            "10\n"
          ]
        }
      ]
    },
    {
      "cell_type": "code",
      "source": [
        "# None Literal (useful in creating variales in advance)\n",
        "\n",
        "a = None\n",
        "print(a)"
      ],
      "metadata": {
        "colab": {
          "base_uri": "https://localhost:8080/"
        },
        "id": "2S-WmKWEoXfM",
        "outputId": "1e92d976-6fe3-4ecb-ab41-127cc771a51b"
      },
      "execution_count": 56,
      "outputs": [
        {
          "output_type": "stream",
          "name": "stdout",
          "text": [
            "None\n"
          ]
        }
      ]
    },
    {
      "cell_type": "markdown",
      "source": [
        "\n",
        "\n",
        "---\n",
        "\n"
      ],
      "metadata": {
        "id": "vbc0_g38o4Jb"
      }
    },
    {
      "cell_type": "markdown",
      "source": [
        "#**Operators in Python**\n",
        "The types of operators in python are:\n",
        "- Arithmetic Operators\n",
        "  - Addition operator (+)\n",
        "  - Subtraction Operator (-)\n",
        "  - Multiplication Operator (*)\n",
        "  - Division Operator (/)\n",
        "  - Modulus Operator (//)\n",
        "  - Exponentiation Operator (**)\n",
        "- Relational Operators\n",
        "  - Less Than (<)\n",
        "  - Greater Than (>)\n",
        "  - Equals (=)\n",
        "  - Not Equals (!=)\n",
        "  - Less Than or Equals to (<=)\n",
        "  - Greater than or Equal to (>=)\n",
        "- Logical Operators\n",
        "  - Logical AND (and)\n",
        "  - Logical OR (or)\n",
        "  - Logical NOT (not)\n",
        "  - Logical XOR (xor)\n",
        "- Bitwise Operators\n",
        "  - bitwise and (&)\n",
        "  - bitwise or (|)\n",
        "  - bitwise not (~)\n",
        "  - bitwise xor (^)\n",
        "  - right shift (>>)\n",
        "  - left shift (<<)\n",
        "- Assignment Operators\n",
        "  - Equal (=)\n",
        "  - Shorthand Plus (+=)\n",
        "  - Shorthand Subtract (-=)\n",
        "  - Shorthand Multiply (*=)\n",
        "  - Shorthand Divide (/=)\n",
        "- Membership Operators\n",
        "  - 'in'\n",
        "  - 'not in'\n",
        "- Identity Operator\n",
        "  - 'is'\n",
        "  - 'is not'\n",
        "- Ternary Operator (Conditional Expression)\n",
        "  - *value_if_true*   **if**   *condition* **else** *value_if_false*\n"
      ],
      "metadata": {
        "id": "9J_aaS60o51l"
      }
    },
    {
      "cell_type": "code",
      "source": [
        "# Arithmetic Operators\n",
        "\n",
        "print(3+2) #Addition Operator\n",
        "print(3-2) #Subtraction Operator\n",
        "print(3*2) #Multiplication Operator\n",
        "print(3/2) #Division Operator\n",
        "print(3//2) #Modulus Operator\n",
        "print(3**2) #Exponentiation Operator"
      ],
      "metadata": {
        "colab": {
          "base_uri": "https://localhost:8080/"
        },
        "id": "QDUWKCxvok6R",
        "outputId": "c9161cf1-68a3-4905-fce3-f2136eeb4d16"
      },
      "execution_count": 57,
      "outputs": [
        {
          "output_type": "stream",
          "name": "stdout",
          "text": [
            "5\n",
            "1\n",
            "6\n",
            "1.5\n",
            "1\n",
            "9\n"
          ]
        }
      ]
    },
    {
      "cell_type": "code",
      "source": [
        "# Relational Operators\n",
        "\n",
        "print(4<5) #Less Than\n",
        "print (4>5) #Greater Than\n",
        "print(4==5) #Equals\n",
        "print(4!=5) #Not Equals\n",
        "print (4<=5) #Less Than or Equals to\n",
        "print (4>=5) #Greater than or Equal to"
      ],
      "metadata": {
        "colab": {
          "base_uri": "https://localhost:8080/"
        },
        "id": "-zbluu0MrKN8",
        "outputId": "39ebd7b8-7cba-46f0-95ef-f27ee1c56760"
      },
      "execution_count": 58,
      "outputs": [
        {
          "output_type": "stream",
          "name": "stdout",
          "text": [
            "True\n",
            "False\n",
            "False\n",
            "True\n",
            "True\n",
            "False\n"
          ]
        }
      ]
    },
    {
      "cell_type": "code",
      "source": [
        "# Logical Operators"
      ],
      "metadata": {
        "id": "zqq5d1f1spZs"
      },
      "execution_count": 60,
      "outputs": []
    },
    {
      "cell_type": "code",
      "source": [
        "# Bitwise operators\n",
        "\n",
        "print(2 & 3) # bitwise and (&)\n",
        "\n",
        "print(2 | 3 )# bitwise or (|)\n",
        "\n",
        "print(~2) # bitwise not (~)\n",
        "\n",
        "print(2^3) # bitwise xor (^)\n",
        "\n",
        "print(4>>2) # right shift (>>)\n",
        "\n",
        "print(4<<2)# left shift (<<)"
      ],
      "metadata": {
        "colab": {
          "base_uri": "https://localhost:8080/"
        },
        "id": "JeDRMNlZuJxD",
        "outputId": "1b538ead-5f30-4660-bda3-ebbd31dfd8a0"
      },
      "execution_count": 61,
      "outputs": [
        {
          "output_type": "stream",
          "name": "stdout",
          "text": [
            "2\n",
            "3\n",
            "-3\n",
            "1\n",
            "1\n",
            "16\n"
          ]
        }
      ]
    },
    {
      "cell_type": "code",
      "source": [
        "# Assignment Operator\n",
        "\n",
        "a = 2 #Equal (=)\n",
        "print(a)\n",
        "\n",
        "a+=1 #Shorthand Plus (+=)\n",
        "print(a)\n",
        "\n",
        "a-=1 #Shorthand Subtract (-=)\n",
        "print(a)\n",
        "\n",
        "b = 4\n",
        "b*=2#Shorthand Multiply (*=)\n",
        "print(b)\n",
        "\n",
        "c = 4\n",
        "c/=2#Shorthand Divide (/=)\n",
        "print(c)"
      ],
      "metadata": {
        "colab": {
          "base_uri": "https://localhost:8080/"
        },
        "id": "9APzjhxtv1vq",
        "outputId": "b8c0dbf3-e4ef-4524-8b03-409137a9553a"
      },
      "execution_count": 63,
      "outputs": [
        {
          "output_type": "stream",
          "name": "stdout",
          "text": [
            "2\n",
            "3\n",
            "2\n",
            "8\n",
            "2.0\n"
          ]
        }
      ]
    },
    {
      "cell_type": "code",
      "source": [
        "# Membership Operators\n",
        "\n",
        "print('M' in 'Mumbai') #in (Can be used in place of for loops in certain situations. It reduces the time complexity.)\n",
        "print('A' in 'Mumbai')\n",
        "print('A' not in 'Mumbai')\n",
        "\n",
        "#print(2 in 'Mumbai')  #This will give error because int can't be checked for presence in strings\n",
        "print(2 in [1,2,3])"
      ],
      "metadata": {
        "colab": {
          "base_uri": "https://localhost:8080/"
        },
        "id": "hbs8n6h9yUHi",
        "outputId": "21527a0b-2214-4ee3-8295-ffa87f5ca9c7"
      },
      "execution_count": 68,
      "outputs": [
        {
          "output_type": "stream",
          "name": "stdout",
          "text": [
            "True\n",
            "False\n",
            "True\n",
            "True\n"
          ]
        }
      ]
    },
    {
      "cell_type": "code",
      "source": [
        "# Identity Operator\n",
        "\n",
        "#is"
      ],
      "metadata": {
        "id": "HtV9Rkz3ykzM"
      },
      "execution_count": 69,
      "outputs": []
    },
    {
      "cell_type": "code",
      "source": [
        "# Ternary Operator (Conditional Expression)"
      ],
      "metadata": {
        "id": "2IgDlzk01d3i"
      },
      "execution_count": null,
      "outputs": []
    }
  ]
}