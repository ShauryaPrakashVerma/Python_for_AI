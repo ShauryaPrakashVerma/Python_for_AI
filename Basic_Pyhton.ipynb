{
  "nbformat": 4,
  "nbformat_minor": 0,
  "metadata": {
    "colab": {
      "provenance": [],
      "collapsed_sections": [
        "sgZX_HAnbIvG",
        "FBUocoIYZxYP",
        "ddSFZH7POdBP",
        "ULVm5XH1TQ2-",
        "at-RbUc7ZPdY",
        "j8_l7dEqeq5N",
        "E530l9T1fzgY",
        "I8NVlvpFiRYx"
      ],
      "authorship_tag": "ABX9TyNpvC3nn8Q3y2BzxnAUEWEZ",
      "include_colab_link": true
    },
    "kernelspec": {
      "name": "python3",
      "display_name": "Python 3"
    },
    "language_info": {
      "name": "python"
    }
  },
  "cells": [
    {
      "cell_type": "markdown",
      "metadata": {
        "id": "view-in-github",
        "colab_type": "text"
      },
      "source": [
        "<a href=\"https://colab.research.google.com/github/ShauryaPrakashVerma/Python_for_AI/blob/main/Basic_Pyhton.ipynb\" target=\"_parent\"><img src=\"https://colab.research.google.com/assets/colab-badge.svg\" alt=\"Open In Colab\"/></a>"
      ]
    },
    {
      "cell_type": "markdown",
      "source": [
        "#**Print Function in Pyhton**\n"
      ],
      "metadata": {
        "id": "sgZX_HAnbIvG"
      }
    },
    {
      "cell_type": "code",
      "execution_count": null,
      "metadata": {
        "colab": {
          "base_uri": "https://localhost:8080/"
        },
        "id": "SHwxdfbCX6Y_",
        "outputId": "c3011191-ba11-43af-b757-e6b7ef35ed9e"
      },
      "outputs": [
        {
          "output_type": "stream",
          "name": "stdout",
          "text": [
            "shaurya prakash verma\n"
          ]
        }
      ],
      "source": [
        "print(\"shaurya prakash verma\")"
      ]
    },
    {
      "cell_type": "code",
      "source": [
        "print(\"5-10-2003\")"
      ],
      "metadata": {
        "colab": {
          "base_uri": "https://localhost:8080/"
        },
        "id": "hWkerNB6YQxG",
        "outputId": "9034f212-193b-49d3-a91f-e1fd6148602a"
      },
      "execution_count": null,
      "outputs": [
        {
          "output_type": "stream",
          "name": "stdout",
          "text": [
            "5-10-2003\n"
          ]
        }
      ]
    },
    {
      "cell_type": "code",
      "source": [
        "print(True)"
      ],
      "metadata": {
        "colab": {
          "base_uri": "https://localhost:8080/"
        },
        "id": "osmOUOI0YZKV",
        "outputId": "32790ed1-3c16-41af-a5de-1744d5952276"
      },
      "execution_count": null,
      "outputs": [
        {
          "output_type": "stream",
          "name": "stdout",
          "text": [
            "True\n"
          ]
        }
      ]
    },
    {
      "cell_type": "code",
      "source": [
        "print(\"hello\",1,2,3,sep=\"...\")"
      ],
      "metadata": {
        "colab": {
          "base_uri": "https://localhost:8080/"
        },
        "id": "JtPloUBBY_6P",
        "outputId": "16f474d2-d085-4ea2-9faa-48a0896ec9b0"
      },
      "execution_count": null,
      "outputs": [
        {
          "output_type": "stream",
          "name": "stdout",
          "text": [
            "hello...1...2...3\n"
          ]
        }
      ]
    },
    {
      "cell_type": "code",
      "source": [
        "print(\"shaurya\")\n",
        "print(\"Prakash\")"
      ],
      "metadata": {
        "colab": {
          "base_uri": "https://localhost:8080/"
        },
        "id": "sV6OGczoZHp8",
        "outputId": "fd55ecad-112a-4787-eb05-29e6aefa77d4"
      },
      "execution_count": null,
      "outputs": [
        {
          "output_type": "stream",
          "name": "stdout",
          "text": [
            "shaurya\n",
            "Prakash\n"
          ]
        }
      ]
    },
    {
      "cell_type": "code",
      "source": [
        "print(\"shaurya\", end=\"-\") #by default end=\"\\n\"\n",
        "print(\"verma\")"
      ],
      "metadata": {
        "colab": {
          "base_uri": "https://localhost:8080/"
        },
        "id": "4s00POr4ZWxg",
        "outputId": "01a7205d-af82-478f-80bf-1ec868d0e5df"
      },
      "execution_count": null,
      "outputs": [
        {
          "output_type": "stream",
          "name": "stdout",
          "text": [
            "shaurya-verma\n"
          ]
        }
      ]
    },
    {
      "cell_type": "markdown",
      "source": [
        "\n",
        "\n",
        "---\n",
        "\n"
      ],
      "metadata": {
        "id": "Lmfb-U8-Y512"
      }
    },
    {
      "cell_type": "markdown",
      "source": [
        "#**Data Types in python**\n",
        "1. Integer\n",
        "2. Float / Decimal\n",
        "3. Boolean\n",
        "4. String\n",
        "5. Complex\n",
        "6. List\n",
        "7. Tuple\n",
        "8. Sets\n",
        "9. Dictionary"
      ],
      "metadata": {
        "id": "FBUocoIYZxYP"
      }
    },
    {
      "cell_type": "code",
      "source": [
        "#Integer\n",
        "\n",
        "print(3)\n",
        "type(3)"
      ],
      "metadata": {
        "colab": {
          "base_uri": "https://localhost:8080/"
        },
        "id": "KEx69FMTZfLa",
        "outputId": "4ccc4703-213d-4c2e-d45d-7aa70c898a7b"
      },
      "execution_count": null,
      "outputs": [
        {
          "output_type": "stream",
          "name": "stdout",
          "text": [
            "3\n"
          ]
        },
        {
          "output_type": "execute_result",
          "data": {
            "text/plain": [
              "int"
            ]
          },
          "metadata": {},
          "execution_count": 15
        }
      ]
    },
    {
      "cell_type": "code",
      "source": [
        "#Float\n",
        "\n",
        "print(5.5)\n",
        "type(5.5)"
      ],
      "metadata": {
        "colab": {
          "base_uri": "https://localhost:8080/"
        },
        "id": "K4jHycvEbn_u",
        "outputId": "215589f1-eba8-4673-b5be-921c7b262623"
      },
      "execution_count": null,
      "outputs": [
        {
          "output_type": "stream",
          "name": "stdout",
          "text": [
            "5.5\n"
          ]
        },
        {
          "output_type": "execute_result",
          "data": {
            "text/plain": [
              "float"
            ]
          },
          "metadata": {},
          "execution_count": 14
        }
      ]
    },
    {
      "cell_type": "code",
      "source": [
        "#bool\n",
        "\n",
        "print(True)\n",
        "type(True)\n",
        "print(False)\n",
        "type(False)"
      ],
      "metadata": {
        "colab": {
          "base_uri": "https://localhost:8080/"
        },
        "id": "RuEoO08ib14v",
        "outputId": "8710ae1d-9104-4a20-e9e2-8cdb7ecf0e89"
      },
      "execution_count": null,
      "outputs": [
        {
          "output_type": "stream",
          "name": "stdout",
          "text": [
            "True\n",
            "False\n"
          ]
        },
        {
          "output_type": "execute_result",
          "data": {
            "text/plain": [
              "bool"
            ]
          },
          "metadata": {},
          "execution_count": 21
        }
      ]
    },
    {
      "cell_type": "code",
      "source": [
        "#String\n",
        "\n",
        "print(\"My name is shaurya\")\n",
        "type(\"My name is shaurya\")"
      ],
      "metadata": {
        "colab": {
          "base_uri": "https://localhost:8080/"
        },
        "id": "x7dxK_UYcOZ6",
        "outputId": "354c8bd3-a873-4ed2-ccbe-a72ab9629510"
      },
      "execution_count": null,
      "outputs": [
        {
          "output_type": "stream",
          "name": "stdout",
          "text": [
            "My name is shaurya\n"
          ]
        },
        {
          "output_type": "execute_result",
          "data": {
            "text/plain": [
              "str"
            ]
          },
          "metadata": {},
          "execution_count": 24
        }
      ]
    },
    {
      "cell_type": "code",
      "source": [
        "#complex\n",
        "\n",
        "print(5+7j)\n",
        "type(5+7j)\n",
        "type(6+7j)"
      ],
      "metadata": {
        "colab": {
          "base_uri": "https://localhost:8080/"
        },
        "id": "HQ8q57B1c4R7",
        "outputId": "787de4e7-4411-47c1-fc98-29b6784f427c"
      },
      "execution_count": null,
      "outputs": [
        {
          "output_type": "stream",
          "name": "stdout",
          "text": [
            "(5+7j)\n"
          ]
        },
        {
          "output_type": "execute_result",
          "data": {
            "text/plain": [
              "complex"
            ]
          },
          "metadata": {},
          "execution_count": 27
        }
      ]
    },
    {
      "cell_type": "code",
      "source": [
        "#list\n",
        "\n",
        "print([1,2,3])\n",
        "type([1,2,3])"
      ],
      "metadata": {
        "id": "fMDeMMzQdPW0",
        "colab": {
          "base_uri": "https://localhost:8080/"
        },
        "outputId": "ea891cf0-66be-42bb-c3b3-6495cf0f4653"
      },
      "execution_count": null,
      "outputs": [
        {
          "output_type": "stream",
          "name": "stdout",
          "text": [
            "[1, 2, 3]\n"
          ]
        },
        {
          "output_type": "execute_result",
          "data": {
            "text/plain": [
              "list"
            ]
          },
          "metadata": {},
          "execution_count": 1
        }
      ]
    },
    {
      "cell_type": "code",
      "source": [
        "#tuple\n",
        "print((1,2,3))\n",
        "type((1,2,3))"
      ],
      "metadata": {
        "colab": {
          "base_uri": "https://localhost:8080/"
        },
        "id": "0F2hkT5wLec6",
        "outputId": "7b423eb9-f34a-4562-ed2b-3a238baa1934"
      },
      "execution_count": null,
      "outputs": [
        {
          "output_type": "stream",
          "name": "stdout",
          "text": [
            "(1, 2, 3)\n"
          ]
        },
        {
          "output_type": "execute_result",
          "data": {
            "text/plain": [
              "tuple"
            ]
          },
          "metadata": {},
          "execution_count": 2
        }
      ]
    },
    {
      "cell_type": "code",
      "source": [
        "#set\n",
        "print({1,2,3,2})\n",
        "type({1,2,3})"
      ],
      "metadata": {
        "colab": {
          "base_uri": "https://localhost:8080/"
        },
        "id": "7k7PeKabLpTS",
        "outputId": "df664a5a-1671-4d3e-952f-a53d2fcf0fbc"
      },
      "execution_count": null,
      "outputs": [
        {
          "output_type": "stream",
          "name": "stdout",
          "text": [
            "{1, 2, 3}\n"
          ]
        },
        {
          "output_type": "execute_result",
          "data": {
            "text/plain": [
              "set"
            ]
          },
          "metadata": {},
          "execution_count": 3
        }
      ]
    },
    {
      "cell_type": "code",
      "source": [
        "#dictionary\n",
        "print({\"name\":\"Shaurya\", \"age\":20, \"gender\":\"male\"})\n",
        "type({\"name\":\"Shaurya\", \"age\":20, \"gender\":\"male\"})"
      ],
      "metadata": {
        "colab": {
          "base_uri": "https://localhost:8080/"
        },
        "id": "GuBy2vjYLwVD",
        "outputId": "f502250d-b9b9-4215-f2d1-5d5ac621f844"
      },
      "execution_count": null,
      "outputs": [
        {
          "output_type": "stream",
          "name": "stdout",
          "text": [
            "{'name': 'Shaurya', 'age': 20, 'gender': 'male'}\n"
          ]
        },
        {
          "output_type": "execute_result",
          "data": {
            "text/plain": [
              "dict"
            ]
          },
          "metadata": {},
          "execution_count": 4
        }
      ]
    },
    {
      "cell_type": "markdown",
      "source": [
        "\n",
        "\n",
        "---\n",
        "\n"
      ],
      "metadata": {
        "id": "8PXbiaBoY2mB"
      }
    },
    {
      "cell_type": "markdown",
      "source": [
        "#**Variable**"
      ],
      "metadata": {
        "id": "ddSFZH7POdBP"
      }
    },
    {
      "cell_type": "code",
      "source": [
        "a=2\n",
        "print(a)"
      ],
      "metadata": {
        "colab": {
          "base_uri": "https://localhost:8080/"
        },
        "id": "9-EDYLqIO0mI",
        "outputId": "ab6c0289-e5fd-499c-9315-da651c07ae36"
      },
      "execution_count": null,
      "outputs": [
        {
          "output_type": "stream",
          "name": "stdout",
          "text": [
            "2\n"
          ]
        }
      ]
    },
    {
      "cell_type": "code",
      "source": [
        "c=True\n",
        "d=\"Shaurya\"\n",
        "print(c,d)\n",
        "print(c)\n",
        "print(d)"
      ],
      "metadata": {
        "colab": {
          "base_uri": "https://localhost:8080/"
        },
        "id": "FwHh-YoBO54B",
        "outputId": "3ddd353a-03d8-45c7-f3b1-15cef7b9805e"
      },
      "execution_count": null,
      "outputs": [
        {
          "output_type": "stream",
          "name": "stdout",
          "text": [
            "True Shaurya\n",
            "True\n",
            "Shaurya\n"
          ]
        }
      ]
    },
    {
      "cell_type": "code",
      "source": [
        "name =\"Shaurya\"\n",
        "print(\"Welcome \"+name)"
      ],
      "metadata": {
        "colab": {
          "base_uri": "https://localhost:8080/"
        },
        "id": "ig8ONfzYPCHq",
        "outputId": "c1d6eb70-8714-46c6-cf4c-74fa83c71fa5"
      },
      "execution_count": null,
      "outputs": [
        {
          "output_type": "stream",
          "name": "stdout",
          "text": [
            "Welcome Shaurya\n"
          ]
        }
      ]
    },
    {
      "cell_type": "code",
      "source": [
        "# Dynamically typed\n",
        "a=7 #int\n",
        "\n",
        "# Static typed\n",
        "# int a =7\n",
        "# The error in the selected cell is a SyntaxError.\n",
        "# This is because Python is a dynamically typed language, meaning you don't need to explicitly declare the data type of a variable when you assign a value to it."
      ],
      "metadata": {
        "id": "YSBdoUw_PY6k"
      },
      "execution_count": null,
      "outputs": []
    },
    {
      "cell_type": "code",
      "source": [
        "# Dynamic Binding\n",
        "a=7\n",
        "print(a)\n",
        "a=\"Shaurya\"\n",
        "print(a)\n",
        "\n",
        "# Static Binding\n",
        "# int a = 7\n",
        "# str a = \"Shaurya\"\n",
        "# This will throw error in python."
      ],
      "metadata": {
        "colab": {
          "base_uri": "https://localhost:8080/"
        },
        "id": "Vo1Azt1VP-Ur",
        "outputId": "86b61174-1718-477d-c70c-649f5c9d2b0b"
      },
      "execution_count": null,
      "outputs": [
        {
          "output_type": "stream",
          "name": "stdout",
          "text": [
            "7\n",
            "Shaurya\n"
          ]
        }
      ]
    },
    {
      "cell_type": "code",
      "source": [
        "a=1\n",
        "b=2\n",
        "c=3\n",
        "print(a,b,c)\n",
        "#--------------------------------\n",
        "a,b,c = 1,2,3\n",
        "print(a,b,c)"
      ],
      "metadata": {
        "colab": {
          "base_uri": "https://localhost:8080/"
        },
        "id": "Xh_wllIeQbHF",
        "outputId": "028f449a-bdee-4069-d3ff-64d54a2b3a29"
      },
      "execution_count": null,
      "outputs": [
        {
          "output_type": "stream",
          "name": "stdout",
          "text": [
            "1 2 3\n",
            "1 2 3\n"
          ]
        }
      ]
    },
    {
      "cell_type": "code",
      "source": [
        "a=b=c=6\n",
        "print(a,b,c)"
      ],
      "metadata": {
        "colab": {
          "base_uri": "https://localhost:8080/"
        },
        "id": "Z0TZVDwpQ5A4",
        "outputId": "2dcd1154-daa9-4f06-ff34-dc234fa4c46f"
      },
      "execution_count": null,
      "outputs": [
        {
          "output_type": "stream",
          "name": "stdout",
          "text": [
            "6 6 6\n"
          ]
        }
      ]
    },
    {
      "cell_type": "markdown",
      "source": [
        "\n",
        "\n",
        "---\n",
        "\n"
      ],
      "metadata": {
        "id": "fxud_jdqYyJT"
      }
    },
    {
      "cell_type": "markdown",
      "source": [
        "#**Keywords in Python**\n",
        "*   Reserved words in pyhton that have a special meaning to the Interpreter.\n",
        "*   Can't be used as varibles.\n",
        "*   39 Keywords in python\n",
        "\n",
        "---\n",
        "\n"
      ],
      "metadata": {
        "id": "M7_T6reMRVy3"
      }
    },
    {
      "cell_type": "markdown",
      "source": [
        "# **Identifiers**\n",
        "**Rules for identifiers in python**\n",
        "\n",
        "- Keywords cannot be used as identifier names as they are reserved words in\n",
        "Python programming language. If you try, it will throw SyntaxError.\n",
        "\n",
        "- Python identifiers can contain letters in a small case (a-z), upper case (A-Z), digits (0-9), and underscore (_).\n",
        "\n",
        "- Identifiers cannot begin with a digit. For example, 10test would be an invalid identifier.\n",
        "\n",
        "- Python identifiers can’t contain only digits. For example, 888 would be an invalid identifier.\n",
        "\n",
        "- Python identifier names can start with an underscore. So, the _test would be a valid identifier.\n",
        "\n",
        "- There is no limit on the length of the identifier name. But, don’t try to keep a super long identifier, it will only hurt your credibility as a programmer.\n",
        "\n",
        "- Python identifier names are case-sensitive. So, “abc” and “ABC” are two different identifiers. It’s best to use lowercase letters for identifiers for uniformity across your programs.\n"
      ],
      "metadata": {
        "id": "ULVm5XH1TQ2-"
      }
    },
    {
      "cell_type": "markdown",
      "source": [
        "\n",
        "\n",
        "---\n",
        "\n"
      ],
      "metadata": {
        "id": "WPXurN9WZMLm"
      }
    },
    {
      "cell_type": "markdown",
      "source": [
        "#**Input in python**\n",
        " - needed for dynamic applications ( which need inputs e.g. Youtube )\n",
        " - not needed in static applications ( don't need inputs e.g. Clock, Calendar )"
      ],
      "metadata": {
        "id": "at-RbUc7ZPdY"
      }
    },
    {
      "cell_type": "code",
      "source": [
        "input()"
      ],
      "metadata": {
        "colab": {
          "base_uri": "https://localhost:8080/",
          "height": 54
        },
        "id": "Sr9NMOHMZ54B",
        "outputId": "a5e7cccb-fb68-429b-feb5-17c6c3ab4b93"
      },
      "execution_count": null,
      "outputs": [
        {
          "name": "stdout",
          "output_type": "stream",
          "text": [
            "1.2\n"
          ]
        },
        {
          "output_type": "execute_result",
          "data": {
            "text/plain": [
              "'1.2'"
            ],
            "application/vnd.google.colaboratory.intrinsic+json": {
              "type": "string"
            }
          },
          "metadata": {},
          "execution_count": 21
        }
      ]
    },
    {
      "cell_type": "code",
      "source": [
        "input(\"Name : \")"
      ],
      "metadata": {
        "colab": {
          "base_uri": "https://localhost:8080/",
          "height": 54
        },
        "id": "-X0XbozuaASF",
        "outputId": "75b3733d-2c81-4b83-9440-7bfd436c844a"
      },
      "execution_count": null,
      "outputs": [
        {
          "name": "stdout",
          "output_type": "stream",
          "text": [
            "Name : Shaurya\n"
          ]
        },
        {
          "output_type": "execute_result",
          "data": {
            "text/plain": [
              "'Shaurya'"
            ],
            "application/vnd.google.colaboratory.intrinsic+json": {
              "type": "string"
            }
          },
          "metadata": {},
          "execution_count": 22
        }
      ]
    },
    {
      "cell_type": "code",
      "source": [
        "\n",
        "name = input(\"Name : \")\n",
        "print(name)\n",
        "type(name) # normally type is not printed when written like this. But gets printed here beacuse of Juyter notebook. In Jupyter Notebook, the last line of a code cell is automatically evaluated and its result is displayed, even without print().\n"
      ],
      "metadata": {
        "colab": {
          "base_uri": "https://localhost:8080/"
        },
        "id": "5DsJjnEiaiyg",
        "outputId": "779456f0-f4bf-4113-a1ef-90458ae075d8"
      },
      "execution_count": null,
      "outputs": [
        {
          "output_type": "stream",
          "name": "stdout",
          "text": [
            "Name : Shaurya\n",
            "Shaurya\n"
          ]
        },
        {
          "output_type": "execute_result",
          "data": {
            "text/plain": [
              "str"
            ]
          },
          "metadata": {},
          "execution_count": 25
        }
      ]
    },
    {
      "cell_type": "code",
      "source": [
        "\n",
        "# By default the input function converts all data into String\n",
        "\n",
        "age = input(\"Age : \")\n",
        "print(age)\n",
        "print(type(age))\n",
        "\n",
        "# use Type Conversion to Convert str back to Int\n",
        "print(type(int(age)))\n"
      ],
      "metadata": {
        "colab": {
          "base_uri": "https://localhost:8080/"
        },
        "id": "Yft-zyPiawQl",
        "outputId": "a33950f0-6f99-495a-ec57-893e415d49fd"
      },
      "execution_count": null,
      "outputs": [
        {
          "output_type": "stream",
          "name": "stdout",
          "text": [
            "Age : 18\n",
            "18\n",
            "<class 'str'>\n",
            "<class 'int'>\n"
          ]
        }
      ]
    },
    {
      "cell_type": "markdown",
      "source": [
        "\n",
        "\n",
        "---\n",
        "\n"
      ],
      "metadata": {
        "id": "JNuOrOF0epV8"
      }
    },
    {
      "cell_type": "markdown",
      "source": [
        "#**Simple Python Calculator**\n",
        "\n",
        "1.   Accepts two inputs.\n",
        "2.   Performs only addition.\n",
        "\n"
      ],
      "metadata": {
        "id": "j8_l7dEqeq5N"
      }
    },
    {
      "cell_type": "code",
      "source": [
        "num1 = input(\"Enter the first number : \")\n",
        "num2 = input(\"Enter the second number : \")\n",
        "result = float(num1) + float(num2)\n",
        "print(\"result : \", result)"
      ],
      "metadata": {
        "colab": {
          "base_uri": "https://localhost:8080/"
        },
        "id": "NjRAS4u3e-Cb",
        "outputId": "c8c576a1-8227-4d20-a39d-9855e928854e"
      },
      "execution_count": null,
      "outputs": [
        {
          "output_type": "stream",
          "name": "stdout",
          "text": [
            "Enter the first number : 2.4\n",
            "Enter the second number : 2.4\n",
            "result :  4.8\n"
          ]
        }
      ]
    },
    {
      "cell_type": "markdown",
      "source": [
        "\n",
        "\n",
        "---\n",
        "\n"
      ],
      "metadata": {
        "id": "SQ4ImwQLffB4"
      }
    },
    {
      "cell_type": "markdown",
      "source": [
        "#**Type Conversion**\n",
        "- There are two types:\n",
        "  - Implicit type Conversion\n",
        "  - Explicit type Conversion"
      ],
      "metadata": {
        "id": "E530l9T1fzgY"
      }
    },
    {
      "cell_type": "code",
      "source": [
        "\n",
        "# Implicit Type Conversion\n",
        "\n",
        "a = 5\n",
        "b = 5.5\n",
        "sum = a + b\n",
        "print(a)\n",
        "print(b)\n",
        "print(sum)\n",
        "print(type(a))\n",
        "print(type(b))\n",
        "print(type(sum)) # sum automatically converted to larger data type (here float)\n"
      ],
      "metadata": {
        "colab": {
          "base_uri": "https://localhost:8080/"
        },
        "id": "PtI35klVgLuX",
        "outputId": "b3253663-84d7-43cf-98ad-786cdc168c0c"
      },
      "execution_count": null,
      "outputs": [
        {
          "output_type": "stream",
          "name": "stdout",
          "text": [
            "5\n",
            "5.5\n",
            "10.5\n",
            "<class 'int'>\n",
            "<class 'float'>\n",
            "<class 'float'>\n"
          ]
        }
      ]
    },
    {
      "cell_type": "code",
      "source": [
        "\n",
        "# Explicit Type Conversion\n",
        "\n",
        "print( 4 + int(\"4\"))\n",
        "print( 4 + float(\"4\"))\n",
        "print( 4 + bool(\"4\"))\n",
        "print( 4 + complex(\"4\"))\n",
        "\n",
        "num = 34\n",
        "print(float(num))\n",
        "\n",
        "\n",
        "# Can't convert complex to any int or float data type\n"
      ],
      "metadata": {
        "colab": {
          "base_uri": "https://localhost:8080/"
        },
        "id": "AsTmGe38gu9J",
        "outputId": "d6f00f55-e487-4e9b-8268-16f424c5b594"
      },
      "execution_count": null,
      "outputs": [
        {
          "output_type": "stream",
          "name": "stdout",
          "text": [
            "8\n",
            "8.0\n",
            "5\n",
            "(8+0j)\n",
            "34.0\n"
          ]
        }
      ]
    },
    {
      "cell_type": "markdown",
      "source": [
        "\n",
        "\n",
        "---\n",
        "\n"
      ],
      "metadata": {
        "id": "AUKU5izgiQI2"
      }
    },
    {
      "cell_type": "markdown",
      "source": [
        "#**Literals**"
      ],
      "metadata": {
        "id": "I8NVlvpFiRYx"
      }
    },
    {
      "cell_type": "code",
      "source": [
        "a = 3 #here 3 is a literal"
      ],
      "metadata": {
        "id": "cyOZ2q5ciZwe"
      },
      "execution_count": null,
      "outputs": []
    },
    {
      "cell_type": "code",
      "source": [
        "a = 0b1010 #Binary Literal (0b)\n",
        "b = 100 #Decimal Literal\n",
        "c = 0o310 #Octal Literal (0o)\n",
        "d = 0x12c #Hexadeimal Literal (0x)\n",
        "\n",
        "print(a,b,c,d)"
      ],
      "metadata": {
        "colab": {
          "base_uri": "https://localhost:8080/"
        },
        "id": "0706o7Ndiy7y",
        "outputId": "7f887999-c6db-4b47-ac1a-d9ed83d26017"
      },
      "execution_count": null,
      "outputs": [
        {
          "output_type": "stream",
          "name": "stdout",
          "text": [
            "10 100 200 300\n"
          ]
        }
      ]
    },
    {
      "cell_type": "code",
      "source": [
        "\n",
        "# Float Literals\n",
        "\n",
        "float_1 = 10.5\n",
        "float_2 = 1.5e2 # 1.5 * 10^2\n",
        "float_3 = 1.5e-3 # 1.5 * 10^-3\n",
        "\n",
        "print(float_1, float_2, float_3)"
      ],
      "metadata": {
        "colab": {
          "base_uri": "https://localhost:8080/"
        },
        "id": "k9F4ZPn2jb2J",
        "outputId": "1707e612-1982-489b-cd6a-34e390558632"
      },
      "execution_count": null,
      "outputs": [
        {
          "output_type": "stream",
          "name": "stdout",
          "text": [
            "10.5 150.0 0.0015\n"
          ]
        }
      ]
    },
    {
      "cell_type": "code",
      "source": [
        "# Complex Literals\n",
        "\n",
        "x = 3.14j\n",
        "print(x, x.imag, x.real)\n",
        "\n",
        "y = 3+5j\n",
        "print(y, y.real, y.imag)"
      ],
      "metadata": {
        "colab": {
          "base_uri": "https://localhost:8080/"
        },
        "id": "u32fkEAIkQIj",
        "outputId": "96fc2125-11a4-4aae-962a-75aca85a9b77"
      },
      "execution_count": null,
      "outputs": [
        {
          "output_type": "stream",
          "name": "stdout",
          "text": [
            "3.14j 3.14 0.0\n",
            "(3+5j) 3.0 5.0\n"
          ]
        }
      ]
    },
    {
      "cell_type": "code",
      "source": [
        "string1 = 'My name is Shaurya.'\n",
        "string2 = \"My name is Shaurya.\"\n",
        "char = 'c'\n",
        "multiline_str1 = '''This is a multiline string with single quotes'''\n",
        "multiline_str2 = \"\"\"This is a multiline string with double quotes\"\"\"\n",
        "\n",
        "print(string1)\n",
        "print(string2)\n",
        "print(char)\n",
        "print(multiline_str1)\n",
        "print(multiline_str2)\n"
      ],
      "metadata": {
        "colab": {
          "base_uri": "https://localhost:8080/"
        },
        "id": "MJ5MrWfakfWf",
        "outputId": "e84ba848-ebf7-4b30-871b-0d4c4d54d7d6"
      },
      "execution_count": null,
      "outputs": [
        {
          "output_type": "stream",
          "name": "stdout",
          "text": [
            "My name is Shaurya.\n",
            "My name is Shaurya.\n",
            "c\n",
            "This is a multiline string with single quotes\n",
            "This is a multiline string with double quotes\n"
          ]
        }
      ]
    },
    {
      "cell_type": "code",
      "source": [
        "unicode_str = u\"\\U0001F600\\U0001F602\"\n",
        "raw_str = r\"raw \\n string\" #Raw string prints the string at it is, ignores even the escape sequences e.g. \"\\n\"\n",
        "\n",
        "print(unicode_str)\n",
        "print(raw_str)"
      ],
      "metadata": {
        "colab": {
          "base_uri": "https://localhost:8080/"
        },
        "id": "MN7rGdvHlM_v",
        "outputId": "601f845e-d98a-48d1-afb3-9e0303f0ae09"
      },
      "execution_count": null,
      "outputs": [
        {
          "output_type": "stream",
          "name": "stdout",
          "text": [
            "😀😂\n",
            "raw \\n string\n"
          ]
        }
      ]
    },
    {
      "cell_type": "code",
      "source": [
        "# Boolean Literals\n",
        "\n",
        "a = True + 4    #True = 1\n",
        "b = False + 10    #False = 0\n",
        "\n",
        "print(a)\n",
        "print(b)"
      ],
      "metadata": {
        "colab": {
          "base_uri": "https://localhost:8080/"
        },
        "id": "eN7ig_77mJ0N",
        "outputId": "fd0f7af3-cc6c-43a6-a3e0-921e1ec74dde"
      },
      "execution_count": null,
      "outputs": [
        {
          "output_type": "stream",
          "name": "stdout",
          "text": [
            "5\n",
            "10\n"
          ]
        }
      ]
    },
    {
      "cell_type": "code",
      "source": [
        "# None Literal (useful in creating variales in advance)\n",
        "\n",
        "a = None\n",
        "print(a)"
      ],
      "metadata": {
        "colab": {
          "base_uri": "https://localhost:8080/"
        },
        "id": "2S-WmKWEoXfM",
        "outputId": "1e92d976-6fe3-4ecb-ab41-127cc771a51b"
      },
      "execution_count": null,
      "outputs": [
        {
          "output_type": "stream",
          "name": "stdout",
          "text": [
            "None\n"
          ]
        }
      ]
    },
    {
      "cell_type": "markdown",
      "source": [
        "\n",
        "\n",
        "---\n",
        "\n"
      ],
      "metadata": {
        "id": "vbc0_g38o4Jb"
      }
    },
    {
      "cell_type": "markdown",
      "source": [
        "#**Operators in Python**\n",
        "The types of operators in python are:\n",
        "- Arithmetic Operators\n",
        "  - Addition operator (+)\n",
        "  - Subtraction Operator (-)\n",
        "  - Multiplication Operator (*)\n",
        "  - Division Operator (/)\n",
        "  - Modulus Operator (//)\n",
        "  - Exponentiation Operator (**)\n",
        "- Relational Operators\n",
        "  - Less Than (<)\n",
        "  - Greater Than (>)\n",
        "  - Equals (=)\n",
        "  - Not Equals (!=)\n",
        "  - Less Than or Equals to (<=)\n",
        "  - Greater than or Equal to (>=)\n",
        "- Logical Operators\n",
        "  - Logical AND (and)\n",
        "  - Logical OR (or)\n",
        "  - Logical NOT (not)\n",
        "  - Logical XOR (xor)\n",
        "- Bitwise Operators\n",
        "  - bitwise and (&)\n",
        "  - bitwise or (|)\n",
        "  - bitwise not (~)\n",
        "  - bitwise xor (^)\n",
        "  - right shift (>>)\n",
        "  - left shift (<<)\n",
        "- Assignment Operators\n",
        "  - Equal (=)\n",
        "  - Shorthand Plus (+=)\n",
        "  - Shorthand Subtract (-=)\n",
        "  - Shorthand Multiply (*=)\n",
        "  - Shorthand Divide (/=)\n",
        "- Membership Operators\n",
        "  - 'in'\n",
        "  - 'not in'\n",
        "- Identity Operator\n",
        "  - 'is'\n",
        "  - 'is not'\n",
        "- Ternary Operator (Conditional Expression)\n",
        "  - *value_if_true*   **if**   *condition* **else** *value_if_false*\n"
      ],
      "metadata": {
        "id": "9J_aaS60o51l"
      }
    },
    {
      "cell_type": "code",
      "source": [
        "# Arithmetic Operators\n",
        "\n",
        "print(3+2) #Addition Operator\n",
        "print(3-2) #Subtraction Operator\n",
        "print(3*2) #Multiplication Operator\n",
        "print(3/2) #Division Operator\n",
        "print(3//2) #Modulus Operator\n",
        "print(3**2) #Exponentiation Operator"
      ],
      "metadata": {
        "colab": {
          "base_uri": "https://localhost:8080/"
        },
        "id": "QDUWKCxvok6R",
        "outputId": "c9161cf1-68a3-4905-fce3-f2136eeb4d16"
      },
      "execution_count": null,
      "outputs": [
        {
          "output_type": "stream",
          "name": "stdout",
          "text": [
            "5\n",
            "1\n",
            "6\n",
            "1.5\n",
            "1\n",
            "9\n"
          ]
        }
      ]
    },
    {
      "cell_type": "code",
      "source": [
        "# Relational Operators\n",
        "\n",
        "print(4<5) #Less Than\n",
        "print (4>5) #Greater Than\n",
        "print(4==5) #Equals\n",
        "print(4!=5) #Not Equals\n",
        "print (4<=5) #Less Than or Equals to\n",
        "print (4>=5) #Greater than or Equal to"
      ],
      "metadata": {
        "colab": {
          "base_uri": "https://localhost:8080/"
        },
        "id": "-zbluu0MrKN8",
        "outputId": "39ebd7b8-7cba-46f0-95ef-f27ee1c56760"
      },
      "execution_count": null,
      "outputs": [
        {
          "output_type": "stream",
          "name": "stdout",
          "text": [
            "True\n",
            "False\n",
            "False\n",
            "True\n",
            "True\n",
            "False\n"
          ]
        }
      ]
    },
    {
      "cell_type": "code",
      "source": [
        "# Logical Operators"
      ],
      "metadata": {
        "id": "zqq5d1f1spZs"
      },
      "execution_count": null,
      "outputs": []
    },
    {
      "cell_type": "code",
      "source": [
        "# Bitwise operators\n",
        "\n",
        "print(2 & 3) # bitwise and (&)\n",
        "\n",
        "print(2 | 3 )# bitwise or (|)\n",
        "\n",
        "print(~2) # bitwise not (~)\n",
        "\n",
        "print(2^3) # bitwise xor (^)\n",
        "\n",
        "print(4>>2) # right shift (>>)\n",
        "\n",
        "print(4<<2)# left shift (<<)"
      ],
      "metadata": {
        "colab": {
          "base_uri": "https://localhost:8080/"
        },
        "id": "JeDRMNlZuJxD",
        "outputId": "1b538ead-5f30-4660-bda3-ebbd31dfd8a0"
      },
      "execution_count": null,
      "outputs": [
        {
          "output_type": "stream",
          "name": "stdout",
          "text": [
            "2\n",
            "3\n",
            "-3\n",
            "1\n",
            "1\n",
            "16\n"
          ]
        }
      ]
    },
    {
      "cell_type": "code",
      "source": [
        "# Assignment Operator\n",
        "\n",
        "a = 2 #Equal (=)\n",
        "print(a)\n",
        "\n",
        "a+=1 #Shorthand Plus (+=)\n",
        "print(a)\n",
        "\n",
        "a-=1 #Shorthand Subtract (-=)\n",
        "print(a)\n",
        "\n",
        "b = 4\n",
        "b*=2#Shorthand Multiply (*=)\n",
        "print(b)\n",
        "\n",
        "c = 4\n",
        "c/=2#Shorthand Divide (/=)\n",
        "print(c)"
      ],
      "metadata": {
        "colab": {
          "base_uri": "https://localhost:8080/"
        },
        "id": "9APzjhxtv1vq",
        "outputId": "b8c0dbf3-e4ef-4524-8b03-409137a9553a"
      },
      "execution_count": null,
      "outputs": [
        {
          "output_type": "stream",
          "name": "stdout",
          "text": [
            "2\n",
            "3\n",
            "2\n",
            "8\n",
            "2.0\n"
          ]
        }
      ]
    },
    {
      "cell_type": "code",
      "source": [
        "# Membership Operators\n",
        "\n",
        "print('M' in 'Mumbai') #in (Can be used in place of for loops in certain situations. It reduces the time complexity.)\n",
        "print('A' in 'Mumbai')\n",
        "print('A' not in 'Mumbai')\n",
        "\n",
        "#print(2 in 'Mumbai')  #This will give error because int can't be checked for presence in strings\n",
        "print(2 in [1,2,3])"
      ],
      "metadata": {
        "colab": {
          "base_uri": "https://localhost:8080/"
        },
        "id": "hbs8n6h9yUHi",
        "outputId": "21527a0b-2214-4ee3-8295-ffa87f5ca9c7"
      },
      "execution_count": null,
      "outputs": [
        {
          "output_type": "stream",
          "name": "stdout",
          "text": [
            "True\n",
            "False\n",
            "True\n",
            "True\n"
          ]
        }
      ]
    },
    {
      "cell_type": "code",
      "source": [
        "# Identity Operator\n",
        "\n",
        "#is\n",
        "#is not"
      ],
      "metadata": {
        "id": "HtV9Rkz3ykzM"
      },
      "execution_count": null,
      "outputs": []
    },
    {
      "cell_type": "code",
      "source": [
        "# Ternary Operator (Conditional Expression)"
      ],
      "metadata": {
        "id": "2IgDlzk01d3i"
      },
      "execution_count": null,
      "outputs": []
    },
    {
      "cell_type": "markdown",
      "source": [
        "\n",
        "\n",
        "---\n",
        "\n"
      ],
      "metadata": {
        "id": "HGf9qHNM8LxX"
      }
    },
    {
      "cell_type": "markdown",
      "source": [
        "#**If Else Conditional Statement**\n",
        "If Condition:\n",
        "\n",
        "  *Condition true*\n",
        "   \n",
        "else\n",
        "\n",
        " *Condition false*"
      ],
      "metadata": {
        "id": "0UtMQyQs8M23"
      }
    },
    {
      "cell_type": "code",
      "source": [
        "num1 = input(\"Enter a number between 1 to 9: \")\n",
        "if (num1==5):\n",
        "  print(\"Correct Guess!!\")\n",
        "else:\n",
        "  print(\"Wrong Guess\")"
      ],
      "metadata": {
        "colab": {
          "base_uri": "https://localhost:8080/"
        },
        "id": "6FLB7RBL8YwB",
        "outputId": "c9675232-45ae-4421-dd18-1c3f98656601"
      },
      "execution_count": null,
      "outputs": [
        {
          "output_type": "stream",
          "name": "stdout",
          "text": [
            "Enter a number between 1 to 9: 5\n",
            "Wrong Guess\n"
          ]
        }
      ]
    },
    {
      "cell_type": "code",
      "source": [
        "'''\n",
        "Correct email = shauryaverma22@gmail.com\n",
        "Correct password = 12345\n",
        "'''\n",
        "\n",
        "email = input(\"Enter your email : \")\n",
        "password = input(\"Enter your password : \")\n",
        "if email==\"shauryaverma22@gmail.com\" and password==\"12345\":\n",
        "  print(\"Login Successful\")\n",
        "else:\n",
        "  print(\"Login failed\")"
      ],
      "metadata": {
        "colab": {
          "base_uri": "https://localhost:8080/"
        },
        "id": "lh7zqI9K-xyn",
        "outputId": "994a10d0-7b2a-413f-f0fe-4086674b5d2a"
      },
      "execution_count": null,
      "outputs": [
        {
          "output_type": "stream",
          "name": "stdout",
          "text": [
            "Enter your email : shauryaverma22@gmail.com\n",
            "Enter your password : 12345\n",
            "Login Successful\n"
          ]
        }
      ]
    },
    {
      "cell_type": "code",
      "source": [
        "#If elif else\n",
        "#Nested If else\n",
        "\n",
        "email = input(\"Enter your email : \")\n",
        "password = input(\"Enter your password : \")\n",
        "\n",
        "if email==\"shauryaverma22@gmail.com\" and password==\"12345\":\n",
        "  print(\"Login Successful\")\n",
        "elif email==\"shauryaverma22@gmail.com\" and password!=\"12345\":\n",
        "  print(\"Password Incorrect\")\n",
        "  password = input(\"Enter your password again : \")\n",
        "  if password==\"12345\":\n",
        "    print(\"Login Successful\")\n",
        "  else:\n",
        "    print(\"Login Failed\")\n",
        "else:\n",
        "  print(\"Login Failed\")\n",
        "#"
      ],
      "metadata": {
        "colab": {
          "base_uri": "https://localhost:8080/"
        },
        "id": "rvL1d0yY_rlH",
        "outputId": "dde03399-b953-43f9-c33a-3f06cd4768e4"
      },
      "execution_count": null,
      "outputs": [
        {
          "output_type": "stream",
          "name": "stdout",
          "text": [
            "Enter your email : shauryaverma22@gmail.com\n",
            "Enter your password : 123\n",
            "Password Incorrect\n",
            "Enter your password again : 12345\n",
            "Login Successful\n"
          ]
        }
      ]
    },
    {
      "cell_type": "code",
      "source": [
        "'''\n",
        "Exercise 1:\n",
        "Find the minimum number among three given numbers\n",
        "'''\n",
        "\n",
        "num1 = input(\"Enter the first number: \")\n",
        "num2 = input(\"Enter the second number: \")\n",
        "num3 = input(\"Enter the third number: \")\n",
        "if(num1<num2 and num1<num3):\n",
        "  print(\"Minimum number is : \", num1)\n",
        "elif num2<num3:\n",
        "  print(\"Minimum number is : \", num2)\n",
        "else:\n",
        "  print(\"Minimum number is : \", num3)\n"
      ],
      "metadata": {
        "colab": {
          "base_uri": "https://localhost:8080/"
        },
        "id": "BDhCvY9YAfeM",
        "outputId": "f5d2981f-fa7e-4be6-ebef-6d2af52d3de0"
      },
      "execution_count": null,
      "outputs": [
        {
          "output_type": "stream",
          "name": "stdout",
          "text": [
            "Enter the first number: 2\n",
            "Enter the second number: 5\n",
            "Enter the third number: 1\n",
            "Minimum number is :  1\n"
          ]
        }
      ]
    },
    {
      "cell_type": "code",
      "source": [
        "'''\n",
        "Exercise 2:\n",
        "ATM Machine Menu\n",
        "'''\n",
        "\n",
        "choice = input('''\n",
        "Hi! How can I help you?\n",
        "\n",
        "1. Withdrawal\n",
        "2. Balance Enquiry\n",
        "3. Fast Cash\n",
        "4. Exit\n",
        "\n",
        "''')\n",
        "if choice == \"1\":\n",
        "  print(\"Withdrawal\")\n",
        "elif choice == \"2\":\n",
        "  print(\"Balance is Rs. XXXX\")\n",
        "elif choice == \"3\":\n",
        "  print(\"Fast Cash\")\n",
        "elif choice == \"4\":\n",
        "  print(\"Exit\")\n"
      ],
      "metadata": {
        "colab": {
          "base_uri": "https://localhost:8080/"
        },
        "id": "grJMIT-XC3NP",
        "outputId": "016beb51-680d-4f44-f6e2-6cf04ca28841"
      },
      "execution_count": null,
      "outputs": [
        {
          "output_type": "stream",
          "name": "stdout",
          "text": [
            "\n",
            "Hi! How can I help you?\n",
            "\n",
            "1. Withdrawal\n",
            "2. Balance Enquiry\n",
            "3. Fast Cash\n",
            "4. Exit\n",
            "\n",
            "2\n",
            "Balance is Rs. XXXX\n"
          ]
        }
      ]
    },
    {
      "cell_type": "markdown",
      "source": [
        "\n",
        "\n",
        "---\n",
        "\n"
      ],
      "metadata": {
        "id": "IQDq3thGFY58"
      }
    },
    {
      "cell_type": "markdown",
      "source": [
        "#**Modules in Python**\n",
        " There are two types of modules in python:\n",
        " - Built-in Modules / Package (Already availaible in installation)\n",
        " - External Module / Package (Need to be explicitly installed)\n",
        "\n",
        "\n",
        " Examples:\n",
        " - math\n",
        " - keywords\n",
        " - random\n",
        " - datetime"
      ],
      "metadata": {
        "id": "5dWWxIgOFQ8t"
      }
    },
    {
      "cell_type": "code",
      "source": [
        "import math\n",
        "a = math.sqrt(16)\n",
        "b = math.factorial(5)\n",
        "print(a)\n",
        "print(b)"
      ],
      "metadata": {
        "colab": {
          "base_uri": "https://localhost:8080/"
        },
        "id": "623BtZ-tEhcF",
        "outputId": "0ab8ecc0-3127-4740-8479-6928f0e3acd3"
      },
      "execution_count": null,
      "outputs": [
        {
          "output_type": "stream",
          "name": "stdout",
          "text": [
            "4.0\n",
            "120\n"
          ]
        }
      ]
    },
    {
      "cell_type": "code",
      "source": [
        "import keyword as kw\n",
        "\n",
        "print(kw.kwlist)"
      ],
      "metadata": {
        "colab": {
          "base_uri": "https://localhost:8080/"
        },
        "id": "MZ1fZk7wGm61",
        "outputId": "2b0db6bd-59c9-4849-fcf4-575f8cc7b28e"
      },
      "execution_count": null,
      "outputs": [
        {
          "output_type": "stream",
          "name": "stdout",
          "text": [
            "['False', 'None', 'True', 'and', 'as', 'assert', 'async', 'await', 'break', 'class', 'continue', 'def', 'del', 'elif', 'else', 'except', 'finally', 'for', 'from', 'global', 'if', 'import', 'in', 'is', 'lambda', 'nonlocal', 'not', 'or', 'pass', 'raise', 'return', 'try', 'while', 'with', 'yield']\n"
          ]
        }
      ]
    },
    {
      "cell_type": "code",
      "source": [
        "import random\n",
        "\n",
        "print(random.randint(1,100)) #will give random number everytime it is executed."
      ],
      "metadata": {
        "colab": {
          "base_uri": "https://localhost:8080/"
        },
        "id": "5EHyQ1F6G7dw",
        "outputId": "7133c1b5-56d6-47bd-a238-cab37ca64022"
      },
      "execution_count": null,
      "outputs": [
        {
          "output_type": "stream",
          "name": "stdout",
          "text": [
            "100\n"
          ]
        }
      ]
    },
    {
      "cell_type": "code",
      "source": [
        "import datetime as dt\n",
        "print(dt.datetime.now())"
      ],
      "metadata": {
        "colab": {
          "base_uri": "https://localhost:8080/"
        },
        "id": "9UEh_k5sIukf",
        "outputId": "27e746ef-71c3-4579-d7d0-2d094cb9adde"
      },
      "execution_count": null,
      "outputs": [
        {
          "output_type": "stream",
          "name": "stdout",
          "text": [
            "2025-08-05 21:29:30.260169\n"
          ]
        }
      ]
    },
    {
      "cell_type": "code",
      "source": [
        "# help(\"modules\")  -used to view all the modules installed in the current environment."
      ],
      "metadata": {
        "id": "FlFor13AJK0Y"
      },
      "execution_count": null,
      "outputs": []
    },
    {
      "cell_type": "markdown",
      "source": [
        "\n",
        "\n",
        "---\n",
        "\n"
      ],
      "metadata": {
        "id": "0nshkVFVG5sZ"
      }
    },
    {
      "cell_type": "markdown",
      "source": [
        "#**pip in pyhton**\n",
        " - It is a package manager.\n",
        " - It is used to install external modules.\n",
        "\n",
        "\n",
        "##refer to *Pyhton for AI -13  Yt: DSwithBappy*\n",
        "\n",
        " - all Packages available i website pypi.org\n",
        " - see documentation on how to use it from the respective websites.\n",
        "\n",
        "\n",
        " if You want to use pip command in jupyter notebook use '!' before the command.\n",
        "\n",
        "\n",
        "\n",
        "###*COMMANDS:*\n",
        "\n",
        " - pip install \"nameOfModule\"\n",
        "\n",
        " - pip uninstall \"nameOfModule\""
      ],
      "metadata": {
        "id": "FShaJiPgJw6j"
      }
    },
    {
      "cell_type": "code",
      "source": [
        "!pip install fastapi"
      ],
      "metadata": {
        "colab": {
          "base_uri": "https://localhost:8080/"
        },
        "id": "DONC49YMJBur",
        "outputId": "b6dd8b38-25a6-46ac-867c-673289d45304"
      },
      "execution_count": null,
      "outputs": [
        {
          "output_type": "stream",
          "name": "stdout",
          "text": [
            "Requirement already satisfied: fastapi in /usr/local/lib/python3.11/dist-packages (0.116.1)\n",
            "Requirement already satisfied: starlette<0.48.0,>=0.40.0 in /usr/local/lib/python3.11/dist-packages (from fastapi) (0.47.2)\n",
            "Requirement already satisfied: pydantic!=1.8,!=1.8.1,!=2.0.0,!=2.0.1,!=2.1.0,<3.0.0,>=1.7.4 in /usr/local/lib/python3.11/dist-packages (from fastapi) (2.11.7)\n",
            "Requirement already satisfied: typing-extensions>=4.8.0 in /usr/local/lib/python3.11/dist-packages (from fastapi) (4.14.1)\n",
            "Requirement already satisfied: annotated-types>=0.6.0 in /usr/local/lib/python3.11/dist-packages (from pydantic!=1.8,!=1.8.1,!=2.0.0,!=2.0.1,!=2.1.0,<3.0.0,>=1.7.4->fastapi) (0.7.0)\n",
            "Requirement already satisfied: pydantic-core==2.33.2 in /usr/local/lib/python3.11/dist-packages (from pydantic!=1.8,!=1.8.1,!=2.0.0,!=2.0.1,!=2.1.0,<3.0.0,>=1.7.4->fastapi) (2.33.2)\n",
            "Requirement already satisfied: typing-inspection>=0.4.0 in /usr/local/lib/python3.11/dist-packages (from pydantic!=1.8,!=1.8.1,!=2.0.0,!=2.0.1,!=2.1.0,<3.0.0,>=1.7.4->fastapi) (0.4.1)\n",
            "Requirement already satisfied: anyio<5,>=3.6.2 in /usr/local/lib/python3.11/dist-packages (from starlette<0.48.0,>=0.40.0->fastapi) (4.9.0)\n",
            "Requirement already satisfied: idna>=2.8 in /usr/local/lib/python3.11/dist-packages (from anyio<5,>=3.6.2->starlette<0.48.0,>=0.40.0->fastapi) (3.10)\n",
            "Requirement already satisfied: sniffio>=1.1 in /usr/local/lib/python3.11/dist-packages (from anyio<5,>=3.6.2->starlette<0.48.0,>=0.40.0->fastapi) (1.3.1)\n"
          ]
        }
      ]
    },
    {
      "cell_type": "code",
      "source": [
        "!pip uninstall fastapi"
      ],
      "metadata": {
        "id": "YLvElXYFLa_w"
      },
      "execution_count": null,
      "outputs": []
    },
    {
      "cell_type": "markdown",
      "source": [
        "\n",
        "\n",
        "---\n",
        "\n"
      ],
      "metadata": {
        "id": "6VDjbrxLNL4a"
      }
    },
    {
      "cell_type": "markdown",
      "source": [
        "#**Loops in Pyhton**\n",
        " There are two types of loops:\n",
        " - Entry controlled loops (for, while)\n",
        " - Exit controlled loops\n",
        "\n",
        "- while else loop also works"
      ],
      "metadata": {
        "id": "UO7FBoIY6oou"
      }
    },
    {
      "cell_type": "code",
      "source": [
        "# While loop\n",
        "\n",
        "i = 1\n",
        "\n",
        "while i<10:\n",
        "  print(\"Shaurya\")\n",
        "  i+=1"
      ],
      "metadata": {
        "colab": {
          "base_uri": "https://localhost:8080/"
        },
        "id": "885EKFPO7fyP",
        "outputId": "eb2ba034-4204-418c-89a6-9a7ec9afb8f2"
      },
      "execution_count": null,
      "outputs": [
        {
          "output_type": "stream",
          "name": "stdout",
          "text": [
            "Shaurya\n",
            "Shaurya\n",
            "Shaurya\n",
            "Shaurya\n",
            "Shaurya\n",
            "Shaurya\n",
            "Shaurya\n",
            "Shaurya\n",
            "Shaurya\n"
          ]
        }
      ]
    },
    {
      "cell_type": "code",
      "source": [
        "# For loop\n",
        "\n",
        "for i in range(10):\n",
        "  print(\"Shaurya\")"
      ],
      "metadata": {
        "colab": {
          "base_uri": "https://localhost:8080/"
        },
        "id": "uFRnLd_-7sg7",
        "outputId": "c0a0484a-8634-453f-e268-cb1264dcf896"
      },
      "execution_count": null,
      "outputs": [
        {
          "output_type": "stream",
          "name": "stdout",
          "text": [
            "Shaurya\n",
            "Shaurya\n",
            "Shaurya\n",
            "Shaurya\n",
            "Shaurya\n",
            "Shaurya\n",
            "Shaurya\n",
            "Shaurya\n",
            "Shaurya\n",
            "Shaurya\n"
          ]
        }
      ]
    },
    {
      "cell_type": "code",
      "source": [
        "# program to print multiplication table\n",
        "i = 1\n",
        "\n",
        "number = input(\"Enter the number: \")\n",
        "\n",
        "while( i < 11 ):\n",
        "  print(number, \"x\", i, \"=\", int(number)*i)\n",
        "  i+=1"
      ],
      "metadata": {
        "colab": {
          "base_uri": "https://localhost:8080/"
        },
        "id": "DFJwzf3J9vtc",
        "outputId": "d695fe2b-d84a-4808-fd76-aa52e3d568e9"
      },
      "execution_count": null,
      "outputs": [
        {
          "output_type": "stream",
          "name": "stdout",
          "text": [
            "Enter the number: 5\n",
            "5 x 1 = 5\n",
            "5 x 2 = 10\n",
            "5 x 3 = 15\n",
            "5 x 4 = 20\n",
            "5 x 5 = 25\n",
            "5 x 6 = 30\n",
            "5 x 7 = 35\n",
            "5 x 8 = 40\n",
            "5 x 9 = 45\n",
            "5 x 10 = 50\n"
          ]
        }
      ]
    },
    {
      "cell_type": "code",
      "source": [
        "# Guessing game\n",
        "\n",
        "import random as rd\n",
        "jackpot_number = rd.randint(1,100)\n",
        "guess_number = int(input(\"Enter the number: \"))\n",
        "\n",
        "while jackpot_number != guess_number:\n",
        "  if guess_number < jackpot_number:\n",
        "    print(\"Wrong Guess. Guess higher\")\n",
        "    guess_number = int(input(\"Enter the number: \"))\n",
        "  else:\n",
        "    print(\"Wrong Guess. Guess lower\")\n",
        "    guess_number = int(input(\"Enter the number: \"))\n",
        "else:\n",
        "  print(\"Correct Guess\")"
      ],
      "metadata": {
        "colab": {
          "base_uri": "https://localhost:8080/"
        },
        "id": "RBme77hbBOIK",
        "outputId": "7b1218e5-5186-4fd9-cf0c-bfc887cfc24b"
      },
      "execution_count": null,
      "outputs": [
        {
          "output_type": "stream",
          "name": "stdout",
          "text": [
            "Enter the number: 50\n",
            "Wrong Guess. Guess lower\n",
            "Enter the number: 25\n",
            "Wrong Guess. Guess lower\n",
            "Enter the number: 12\n",
            "Wrong Guess. Guess higher\n",
            "Enter the number: 27\n",
            "Wrong Guess. Guess lower\n",
            "Enter the number: 17\n",
            "Wrong Guess. Guess higher\n",
            "Enter the number: 20\n",
            "Correct Guess\n"
          ]
        }
      ]
    },
    {
      "cell_type": "code",
      "source": [
        "# For loop\n",
        "\n",
        "for i in \"Shaurya Prakash Verma\":\n",
        "  print(i)"
      ],
      "metadata": {
        "colab": {
          "base_uri": "https://localhost:8080/"
        },
        "id": "NoD29YksDtHd",
        "outputId": "f01100b1-d1b9-40de-a965-bad446e7f8ba"
      },
      "execution_count": null,
      "outputs": [
        {
          "output_type": "stream",
          "name": "stdout",
          "text": [
            "S\n",
            "h\n",
            "a\n",
            "u\n",
            "r\n",
            "y\n",
            "a\n",
            " \n",
            "P\n",
            "r\n",
            "a\n",
            "k\n",
            "a\n",
            "s\n",
            "h\n",
            " \n",
            "V\n",
            "e\n",
            "r\n",
            "m\n",
            "a\n"
          ]
        }
      ]
    },
    {
      "cell_type": "code",
      "source": [
        "for i in range(1,11,2):   # start_value (Inclusive), End_value (Exclusive), Step_value\n",
        "  print(i)"
      ],
      "metadata": {
        "colab": {
          "base_uri": "https://localhost:8080/"
        },
        "id": "uEdK3mjEFSvx",
        "outputId": "ef7b8bd6-d389-49ba-c921-591d213f9249"
      },
      "execution_count": null,
      "outputs": [
        {
          "output_type": "stream",
          "name": "stdout",
          "text": [
            "1\n",
            "3\n",
            "5\n",
            "7\n",
            "9\n"
          ]
        }
      ]
    },
    {
      "cell_type": "code",
      "source": [
        "# Nested for loop\n",
        "\n",
        "for i in range(1,5):\n",
        "  for j in range(1,5):\n",
        "    print(i,j)\n",
        "  print(\" \")"
      ],
      "metadata": {
        "colab": {
          "base_uri": "https://localhost:8080/"
        },
        "id": "HiVi6LiNFfkf",
        "outputId": "b80b70f1-c735-430c-c15b-85084c56ab0e"
      },
      "execution_count": null,
      "outputs": [
        {
          "output_type": "stream",
          "name": "stdout",
          "text": [
            "1 1\n",
            "1 2\n",
            "1 3\n",
            "1 4\n",
            " \n",
            "2 1\n",
            "2 2\n",
            "2 3\n",
            "2 4\n",
            " \n",
            "3 1\n",
            "3 2\n",
            "3 3\n",
            "3 4\n",
            " \n",
            "4 1\n",
            "4 2\n",
            "4 3\n",
            "4 4\n",
            " \n"
          ]
        }
      ]
    },
    {
      "cell_type": "code",
      "source": [
        "row = int(input(\"Enter the number of rows: \"))\n",
        "for i in range(row+1):\n",
        "  for j in range(i):\n",
        "    print(\"*\", end=\"\")\n",
        "  print()"
      ],
      "metadata": {
        "colab": {
          "base_uri": "https://localhost:8080/"
        },
        "id": "2QmTnmdIHOJk",
        "outputId": "a54ec9ea-9432-4076-df5a-17631079a75a"
      },
      "execution_count": null,
      "outputs": [
        {
          "output_type": "stream",
          "name": "stdout",
          "text": [
            "Enter the number of rows: 4\n",
            "\n",
            "*\n",
            "**\n",
            "***\n",
            "****\n"
          ]
        }
      ]
    },
    {
      "cell_type": "markdown",
      "source": [
        "\n",
        "\n",
        "---\n",
        "\n"
      ],
      "metadata": {
        "id": "tipKE7YjT_Cj"
      }
    },
    {
      "cell_type": "markdown",
      "source": [
        "#**Jump Statements**\n",
        "- Break\n",
        "- Continue\n",
        "- Pass"
      ],
      "metadata": {
        "id": "YvGYUcgAUC_d"
      }
    },
    {
      "cell_type": "code",
      "source": [
        "# Break\n",
        "\n",
        "for i in range(5):\n",
        "    if i == 3:\n",
        "        break\n",
        "    print(i)"
      ],
      "metadata": {
        "colab": {
          "base_uri": "https://localhost:8080/"
        },
        "id": "Zg-pFvYeSXmf",
        "outputId": "2dab4585-0821-4c4d-887f-7691368ebc54"
      },
      "execution_count": null,
      "outputs": [
        {
          "output_type": "stream",
          "name": "stdout",
          "text": [
            "0\n",
            "1\n",
            "2\n"
          ]
        }
      ]
    },
    {
      "cell_type": "code",
      "source": [
        "# Continue\n",
        "\n",
        "for i in range(5):\n",
        "    if i == 2:\n",
        "        continue\n",
        "    print(i)"
      ],
      "metadata": {
        "colab": {
          "base_uri": "https://localhost:8080/"
        },
        "id": "obBG3bgSXYlk",
        "outputId": "bd0bb826-2682-462e-efc9-e67a65fc7403"
      },
      "execution_count": null,
      "outputs": [
        {
          "output_type": "stream",
          "name": "stdout",
          "text": [
            "0\n",
            "1\n",
            "3\n",
            "4\n"
          ]
        }
      ]
    },
    {
      "cell_type": "code",
      "source": [
        "# Pass\n",
        "\n",
        "for i in range(3):\n",
        "    if i == 1:\n",
        "        pass  # Placeholder for future logic\n",
        "    print(i)"
      ],
      "metadata": {
        "colab": {
          "base_uri": "https://localhost:8080/"
        },
        "id": "ya2K8L_XXila",
        "outputId": "bc572351-b1f1-413b-a4b5-74a8b7ee6ca1"
      },
      "execution_count": null,
      "outputs": [
        {
          "output_type": "stream",
          "name": "stdout",
          "text": [
            "0\n",
            "1\n",
            "2\n"
          ]
        }
      ]
    },
    {
      "cell_type": "code",
      "source": [
        "# Find prime numbers in given range\n",
        "\n",
        "lower = int(input(\"Enter the lower bound of the range: \"))\n",
        "upper = int(input(\"Enter the upper bound of the range: \"))\n",
        "\n",
        "for num in range(lower, upper + 1):\n",
        "    if num > 1:\n",
        "        for i in range(2, num):\n",
        "            if (num % i) == 0:\n",
        "                break\n",
        "        else:\n",
        "          print(num)"
      ],
      "metadata": {
        "colab": {
          "base_uri": "https://localhost:8080/"
        },
        "id": "KWiqrsX6ewUp",
        "outputId": "9caa866e-d252-4b4f-b03e-e4c749912af3"
      },
      "execution_count": null,
      "outputs": [
        {
          "output_type": "stream",
          "name": "stdout",
          "text": [
            "Enter the lower bound of the range: 7\n",
            "Enter the upper bound of the range: 99\n",
            "7\n",
            "11\n",
            "13\n",
            "17\n",
            "19\n",
            "23\n",
            "29\n",
            "31\n",
            "37\n",
            "41\n",
            "43\n",
            "47\n",
            "53\n",
            "59\n",
            "61\n",
            "67\n",
            "71\n",
            "73\n",
            "79\n",
            "83\n",
            "89\n",
            "97\n"
          ]
        }
      ]
    },
    {
      "cell_type": "markdown",
      "source": [
        "\n",
        "\n",
        "---\n",
        "\n"
      ],
      "metadata": {
        "id": "jlgdn_H2YzNA"
      }
    },
    {
      "cell_type": "markdown",
      "source": [
        "#**Strings in Pyhton**\n",
        " Strings are sequence of unicode characters\n",
        "\n",
        " Properties1:\n",
        " - Immutable\n",
        "\n",
        "\n",
        " Topics:\n",
        " - Creating Strings\n",
        " - Accessing Strings\n",
        " - Slicing Strings\n",
        " - Adding chars to Strings\n",
        " - Editing Strings\n",
        " - Deleting Strings\n",
        " - Operation on Strings\n",
        " - String Functions"
      ],
      "metadata": {
        "id": "vVm5AbdqfVrV"
      }
    },
    {
      "cell_type": "code",
      "source": [
        "# Creating Strings\n",
        "\n",
        "s = \"String Creation 1\"\n",
        "s = 'String Creation 2'\n",
        "s = '''String Creation 3'''\n",
        "s = \"\"\"String Creation 4\"\"\"\n",
        "s = str(\"String Creation 5\")"
      ],
      "metadata": {
        "id": "xpW6pP-FXsPV"
      },
      "execution_count": null,
      "outputs": []
    },
    {
      "cell_type": "code",
      "source": [
        "# Accessing Strings\n",
        "\n",
        "a = \"Welcome to python\"\n",
        "print(a[0]) #positive accessing (starts from 0)\n",
        "print(a[-1]) #negative accessing (starts from -1)\n"
      ],
      "metadata": {
        "colab": {
          "base_uri": "https://localhost:8080/"
        },
        "id": "PJ8Rz1hxhaHc",
        "outputId": "2563d5da-6b1b-4322-96c1-a93a930c79da"
      },
      "execution_count": null,
      "outputs": [
        {
          "output_type": "stream",
          "name": "stdout",
          "text": [
            "W\n",
            "n\n"
          ]
        }
      ]
    },
    {
      "cell_type": "code",
      "source": [
        "# String Slicing\n",
        "\n",
        "a = \"Welcome to python\"\n",
        "print(a[0:7])  # [ Start_index (inclusive) , End_index (Exclusive) , Step_value ]\n",
        "print(a[0:])\n",
        "print(a[::-1]) #reversing a string\n",
        "print(a[6:0:-1]) #reversing a string\n",
        "# print(a[-1:-10])\n",
        "print(a[::2])\n"
      ],
      "metadata": {
        "colab": {
          "base_uri": "https://localhost:8080/"
        },
        "id": "RSXKm_6ZhvmZ",
        "outputId": "0f232639-bef3-4ebb-cab2-08422aad8770"
      },
      "execution_count": null,
      "outputs": [
        {
          "output_type": "stream",
          "name": "stdout",
          "text": [
            "Welcome\n",
            "Welcome to python\n",
            "nohtyp ot emocleW\n",
            "emocle\n",
            "Wloet yhn\n"
          ]
        }
      ]
    },
    {
      "cell_type": "code",
      "source": [
        "# Adding char to Strings\n",
        "\n",
        "a = \"Welcome to python\"\n",
        "\n",
        "a[0] = 'a' #throws error because string is immutable."
      ],
      "metadata": {
        "colab": {
          "base_uri": "https://localhost:8080/",
          "height": 183
        },
        "id": "wj3ksql3jRUP",
        "outputId": "a5e13bbc-7638-4d1c-e05a-7a5746227d4e"
      },
      "execution_count": null,
      "outputs": [
        {
          "output_type": "error",
          "ename": "TypeError",
          "evalue": "'str' object does not support item assignment",
          "traceback": [
            "\u001b[0;31m---------------------------------------------------------------------------\u001b[0m",
            "\u001b[0;31mTypeError\u001b[0m                                 Traceback (most recent call last)",
            "\u001b[0;32m/tmp/ipython-input-1864380978.py\u001b[0m in \u001b[0;36m<cell line: 0>\u001b[0;34m()\u001b[0m\n\u001b[1;32m      3\u001b[0m \u001b[0ma\u001b[0m \u001b[0;34m=\u001b[0m \u001b[0;34m\"Welcome to python\"\u001b[0m\u001b[0;34m\u001b[0m\u001b[0;34m\u001b[0m\u001b[0m\n\u001b[1;32m      4\u001b[0m \u001b[0;34m\u001b[0m\u001b[0m\n\u001b[0;32m----> 5\u001b[0;31m \u001b[0ma\u001b[0m\u001b[0;34m[\u001b[0m\u001b[0;36m0\u001b[0m\u001b[0;34m]\u001b[0m \u001b[0;34m=\u001b[0m \u001b[0;34m'a'\u001b[0m\u001b[0;34m\u001b[0m\u001b[0;34m\u001b[0m\u001b[0m\n\u001b[0m",
            "\u001b[0;31mTypeError\u001b[0m: 'str' object does not support item assignment"
          ]
        }
      ]
    },
    {
      "cell_type": "code",
      "source": [
        "# Operations on Strings\n",
        "\n",
        "#Arithmetic Operations\n",
        "#Concatenation\n",
        "print(\"Hi I am\" + \" Shaurya\")\n",
        "\n",
        "#Multiplication\n",
        "print(\"Hi \" * 5)"
      ],
      "metadata": {
        "colab": {
          "base_uri": "https://localhost:8080/"
        },
        "id": "U3_LNYdanLXk",
        "outputId": "417addcf-6cf6-483b-850a-46431906f14a"
      },
      "execution_count": null,
      "outputs": [
        {
          "output_type": "stream",
          "name": "stdout",
          "text": [
            "Hi I am Shaurya\n",
            "Hi Hi Hi Hi Hi \n"
          ]
        }
      ]
    },
    {
      "cell_type": "code",
      "source": [
        "# Operation on Strings\n",
        "\n",
        "#Relational Operations\n",
        "print(\"Shaurya\" == \"Shaurya\")\n",
        "print(\"Shaurya\" == \"shaurya\")\n",
        "print(\"Shaurya\" != \"shaurya\")\n",
        "print(\"Shaurya\" > \"shaurya\")\n",
        "print(\"Shaurya\" < \"shaurya\")\n",
        "print(\"Shaurya\" >= \"shaurya\")\n"
      ],
      "metadata": {
        "colab": {
          "base_uri": "https://localhost:8080/"
        },
        "id": "Xg1bdyNhowka",
        "outputId": "6c03cc8c-601f-4a9d-fc5b-1271cac685a7"
      },
      "execution_count": null,
      "outputs": [
        {
          "output_type": "stream",
          "name": "stdout",
          "text": [
            "True\n",
            "False\n",
            "True\n",
            "False\n",
            "True\n",
            "False\n"
          ]
        }
      ]
    },
    {
      "cell_type": "code",
      "source": [
        "# Operations on Strings\n",
        "# Logical Operations\n",
        "\n",
        "print(\"Shaurya\" and \"Verma\") #1True and 2True = 2True\n",
        "print(\"Shaurya\" or \"Verma\")  #1True or 2True = 1True\n",
        "print(not \"Hello\")"
      ],
      "metadata": {
        "colab": {
          "base_uri": "https://localhost:8080/"
        },
        "id": "w8d1I0-qp0KU",
        "outputId": "9a7289e6-36d9-47d3-afa3-f30b66acfd05"
      },
      "execution_count": null,
      "outputs": [
        {
          "output_type": "stream",
          "name": "stdout",
          "text": [
            "Verma\n",
            "Shaurya\n",
            "False\n"
          ]
        }
      ]
    },
    {
      "cell_type": "code",
      "source": [
        "for i in \"Shaurya\":\n",
        "  print(i)"
      ],
      "metadata": {
        "colab": {
          "base_uri": "https://localhost:8080/"
        },
        "id": "kFooTQ_bqJJ8",
        "outputId": "55f105d5-0a06-479c-d38c-40034f8b41f9"
      },
      "execution_count": null,
      "outputs": [
        {
          "output_type": "stream",
          "name": "stdout",
          "text": [
            "S\n",
            "h\n",
            "a\n",
            "u\n",
            "r\n",
            "y\n",
            "a\n"
          ]
        }
      ]
    },
    {
      "cell_type": "code",
      "source": [
        "for i in \"Shaurya\":\n",
        "  print(\"Hello\")"
      ],
      "metadata": {
        "colab": {
          "base_uri": "https://localhost:8080/"
        },
        "id": "1NATFWehrh-T",
        "outputId": "fc40e214-953f-4caf-f5ac-d6fe16c1bf88"
      },
      "execution_count": null,
      "outputs": [
        {
          "output_type": "stream",
          "name": "stdout",
          "text": [
            "Hello\n",
            "Hello\n",
            "Hello\n",
            "Hello\n",
            "Hello\n",
            "Hello\n",
            "Hello\n"
          ]
        }
      ]
    },
    {
      "cell_type": "code",
      "source": [
        "# Operations on Strings\n",
        "# Membership Operations\n",
        "\n",
        "print('M' in 'Mumbai') #in (Can be used in place of for loops in certain situations. It reduces the time complexity.)\n",
        "print('A' in 'Mumbai')\n",
        "print('A' not in 'Mumbai')"
      ],
      "metadata": {
        "colab": {
          "base_uri": "https://localhost:8080/"
        },
        "id": "nxtvhXEzsFLs",
        "outputId": "ae8b8553-5fe6-48ff-8846-bc2272536067"
      },
      "execution_count": null,
      "outputs": [
        {
          "output_type": "stream",
          "name": "stdout",
          "text": [
            "True\n",
            "False\n",
            "True\n"
          ]
        }
      ]
    },
    {
      "cell_type": "code",
      "source": [
        "\n",
        "# Common iterable Methods\n",
        "# 1. len\n",
        "# 2. max\n",
        "# 3. min\n",
        "# 4. sorted\n",
        "\n",
        "s = \"Welcome to python\"\n",
        "print(len(s))\n",
        "print(max(s))\n",
        "print(min(s))\n",
        "print(sorted(s)) #sorts according to ascending ASCII values #return type = List\n",
        "print(sorted(s, reverse=True)) #sorts according to descending ASCII values #return type = List"
      ],
      "metadata": {
        "colab": {
          "base_uri": "https://localhost:8080/"
        },
        "id": "533Y5JVQsQRm",
        "outputId": "c513e851-3b5e-4d1e-c164-8ec74ef45fef"
      },
      "execution_count": null,
      "outputs": [
        {
          "output_type": "stream",
          "name": "stdout",
          "text": [
            "17\n",
            "y\n",
            " \n",
            "[' ', ' ', 'W', 'c', 'e', 'e', 'h', 'l', 'm', 'n', 'o', 'o', 'o', 'p', 't', 't', 'y']\n",
            "['y', 't', 't', 'p', 'o', 'o', 'o', 'n', 'm', 'l', 'h', 'e', 'e', 'c', 'W', ' ', ' ']\n"
          ]
        }
      ]
    },
    {
      "cell_type": "code",
      "source": [
        "# String Methods (only can be used with strings)\n",
        "\"\"\"\n",
        "1. capitalize()\n",
        "2. title()\n",
        "3. upper()\n",
        "4. lower()\n",
        "5. swapcase()\n",
        "6. join()\n",
        "7. split()\n",
        "8. find()\n",
        "9. replace()\n",
        "10. strip()\n",
        "\"\"\"\n",
        "\n",
        "# these do not change the original. They first create a copy and then perform operations on it.\n",
        "\n",
        "s = \"welcome to pyThon\"\n",
        "print(s.capitalize())\n",
        "print(s.title())\n",
        "print(s.upper())\n",
        "print(s.lower())\n",
        "print(s.swapcase())\n",
        "print(s.find(\"a\")) # index if found  # -1 if not found\n",
        "\n",
        "s = \"My name is Shaurya\"\n",
        "print(s.split()) # by default splits by \" \" (space), can be changed  . Return type is list of strings  # String---> List of Strings\n",
        "print(s.split(\"a\"))\n",
        "\n",
        "s = \" \"\n",
        "k = \"-\"\n",
        "a = ['My','name', 'is', 'Shaurya']\n",
        "print(s.join(a))  # list of Strings ----> String\n",
        "print(k.join(a))"
      ],
      "metadata": {
        "colab": {
          "base_uri": "https://localhost:8080/"
        },
        "id": "5z-lEknVtKZo",
        "outputId": "5e3d82e8-40df-47ba-b694-ccbf1a859acd"
      },
      "execution_count": null,
      "outputs": [
        {
          "output_type": "stream",
          "name": "stdout",
          "text": [
            "Welcome to python\n",
            "Welcome To Python\n",
            "WELCOME TO PYTHON\n",
            "welcome to python\n",
            "WELCOME TO PYtHON\n",
            "-1\n",
            "['My', 'name', 'is', 'Shaurya']\n",
            "['My n', 'me is Sh', 'ury', '']\n",
            "My name is Shaurya\n",
            "My-name-is-Shaurya\n"
          ]
        }
      ]
    },
    {
      "cell_type": "code",
      "source": [
        "\"\"\"\n",
        "11. count()\n",
        "12. startswith()\n",
        "13. endswith()\n",
        "14. index()\n",
        "\"\"\"\n",
        "\n",
        "s = \"welcome to pyThon\"\n",
        "\n",
        "print(s.count(\"n\"))\n",
        "print(s.index(\"w\")) # works like find() but throws error if not found\n",
        "print(s.startswith(\"w\"))\n",
        "print(s.endswith(\"t\"))\n"
      ],
      "metadata": {
        "colab": {
          "base_uri": "https://localhost:8080/"
        },
        "id": "zWcyPhwSuIOC",
        "outputId": "df94634b-c875-4def-b59c-eed5045cf59e"
      },
      "execution_count": null,
      "outputs": [
        {
          "output_type": "stream",
          "name": "stdout",
          "text": [
            "1\n",
            "0\n",
            "True\n",
            "False\n"
          ]
        }
      ]
    },
    {
      "cell_type": "code",
      "source": [
        "'''\n",
        "15. format  #important\n",
        "'''\n",
        "\n",
        "name = \"Shaurya\"\n",
        "gender = \"Male\"\n",
        "\n",
        "s = \"My name is {} and I am a {}\".format(name, gender)\n",
        "print(s)\n",
        "\n",
        "s = \"My name is {1} and I am a {0}\".format(name, gender)\n",
        "print(s)"
      ],
      "metadata": {
        "colab": {
          "base_uri": "https://localhost:8080/"
        },
        "id": "xIx1PVaBvKL-",
        "outputId": "77cc322c-5a8b-46fd-81d0-72fb7241dd7a"
      },
      "execution_count": null,
      "outputs": [
        {
          "output_type": "stream",
          "name": "stdout",
          "text": [
            "My name is Shaurya and I am a Male\n",
            "My name is Male and I am a Shaurya\n"
          ]
        }
      ]
    },
    {
      "cell_type": "code",
      "source": [
        "'''\n",
        "16. isalnum()\n",
        "17. isalpha()\n",
        "18. isdigit()\n",
        "19. islower()\n",
        "20. isupper()\n",
        "21. isspace()\n",
        "22. isidentifier()\n",
        "'''\n",
        "\n",
        "s=\"Shaurya123@\"\n",
        "print(s.isalnum()) #Checks if String contains only number and alphabet. if it conatins anything else like special charcters it will give false.\n",
        "print(s.isalpha()) #Checks presence of only alphabet. if anything else present it will give false\n",
        "print(s.isdigit())\n",
        "print(s.islower())\n",
        "print(s.isupper())\n",
        "print(s.isspace())\n",
        "print(s.isidentifier()) #Checks is string can be used as an identifier"
      ],
      "metadata": {
        "colab": {
          "base_uri": "https://localhost:8080/"
        },
        "id": "AvDELm6Uws61",
        "outputId": "a1ed1bb3-10d8-4238-b2d8-0e2fb347410a"
      },
      "execution_count": null,
      "outputs": [
        {
          "output_type": "stream",
          "name": "stdout",
          "text": [
            "False\n",
            "False\n",
            "False\n",
            "False\n",
            "False\n",
            "False\n",
            "False\n"
          ]
        }
      ]
    },
    {
      "cell_type": "code",
      "source": [
        "'''\n",
        "23. replace()\n",
        "24. rstrip()\n",
        "25. lstrip()\n",
        "26. strip()\n",
        "'''\n",
        "\n",
        "s = \"   My name is Shaurya Shaurya   \"\n",
        "print(s.replace(\"Shaurya\", \"Verma\")) # replaces all instances of the given substring\n",
        "print(s.rstrip()) #removes empty spaces on the right\n",
        "print(s.lstrip()) #removes empty spaces on the left\n",
        "print(s.strip())  #removes spaces on the left and the right"
      ],
      "metadata": {
        "colab": {
          "base_uri": "https://localhost:8080/"
        },
        "id": "4zst9FuBySZ6",
        "outputId": "d3d75080-81a1-4c3b-d259-ed26832366a7"
      },
      "execution_count": null,
      "outputs": [
        {
          "output_type": "stream",
          "name": "stdout",
          "text": [
            "   My name is Verma Verma   \n",
            "   My name is Shaurya Shaurya\n",
            "My name is Shaurya Shaurya   \n",
            "My name is Shaurya Shaurya\n"
          ]
        }
      ]
    },
    {
      "cell_type": "markdown",
      "source": [
        "\n",
        "\n",
        "---\n",
        "\n"
      ],
      "metadata": {
        "id": "_vme7idp2kC2"
      }
    },
    {
      "cell_type": "markdown",
      "source": [
        "#**f-Strings in Python**\n",
        "- same as format() , but shorter in length"
      ],
      "metadata": {
        "id": "7OB0wnRQ2ok6"
      }
    },
    {
      "cell_type": "code",
      "source": [
        "name = \"Shaurya\"\n",
        "gender = \"Male\"\n",
        "s = f\"My name is {name}. I am a {gender}\"\n",
        "print(s)"
      ],
      "metadata": {
        "colab": {
          "base_uri": "https://localhost:8080/"
        },
        "id": "mj5sy8QS22nK",
        "outputId": "b5edee92-d924-4503-8cd2-99f0387fdd26"
      },
      "execution_count": null,
      "outputs": [
        {
          "output_type": "stream",
          "name": "stdout",
          "text": [
            "My name is Shaurya. I am a Male\n"
          ]
        }
      ]
    },
    {
      "cell_type": "markdown",
      "source": [
        "\n",
        "\n",
        "---\n",
        "\n"
      ],
      "metadata": {
        "id": "C3dlNanS3vcS"
      }
    },
    {
      "cell_type": "markdown",
      "source": [
        "#**String Exercises**"
      ],
      "metadata": {
        "id": "R8TJuRtAQpVP"
      }
    },
    {
      "cell_type": "code",
      "source": [
        "'''\n",
        "1. Find the length of a given string without using the len() function\n",
        "'''\n",
        "length = 0\n",
        "input_Str = str(input(\"Enter the String: \"))\n",
        "for i in input_Str:\n",
        "  length+=1\n",
        "print(length)\n"
      ],
      "metadata": {
        "id": "OAb9O9HF3t91",
        "colab": {
          "base_uri": "https://localhost:8080/"
        },
        "outputId": "a1d5b2b3-e3f5-42ee-81f7-754fda4b979b"
      },
      "execution_count": null,
      "outputs": [
        {
          "output_type": "stream",
          "name": "stdout",
          "text": [
            "Enter the String: ShauryaPrakashVerma\n",
            "19\n"
          ]
        }
      ]
    },
    {
      "cell_type": "code",
      "source": [
        "'''\n",
        "2. Extract username from the given email.\n",
        "\n",
        "   e.g.- If the email is abctext@gmail.com then the username is abctext\n",
        "'''\n",
        "\n",
        "email = input(\"Enter the email: \")\n",
        "username = email[0: email.find(\"@\")]\n",
        "print(username)"
      ],
      "metadata": {
        "colab": {
          "base_uri": "https://localhost:8080/"
        },
        "id": "4KJwYeF8RZO2",
        "outputId": "cb874a06-dde1-4976-9025-2749281ea19c"
      },
      "execution_count": null,
      "outputs": [
        {
          "output_type": "stream",
          "name": "stdout",
          "text": [
            "Enter the email: shauryaverma22@gmail.com\n",
            "shauryaverma22\n"
          ]
        }
      ]
    },
    {
      "cell_type": "code",
      "source": [
        "'''\n",
        "3. Write a program to check whether the input string is palindrome or not.\n",
        "\n",
        "   e.g. : 1. abba\n",
        "          2. malayalam\n",
        "          3. mom\n",
        "'''\n",
        "\n",
        "input_str = input(\"Enter the string: \")\n",
        "\n",
        "reversed = input_str[::-1]\n",
        "\n",
        "if(input_str == reversed):\n",
        "  print(\"String is palindrome\")\n",
        "else:\n",
        "  print(\"String is not pallindrome\")\n",
        "\n"
      ],
      "metadata": {
        "colab": {
          "base_uri": "https://localhost:8080/"
        },
        "id": "xUQWFInWSZCV",
        "outputId": "2fc98807-b604-4d33-d202-c17e2fb7129a"
      },
      "execution_count": null,
      "outputs": [
        {
          "output_type": "stream",
          "name": "stdout",
          "text": [
            "Enter the string: shaurya\n",
            "String is not pallindrome\n"
          ]
        }
      ]
    },
    {
      "cell_type": "code",
      "source": [
        "'''\n",
        "3. Write a program to check whether the input string is palindrome or not.\n",
        "\n",
        "   e.g. : 1. abba\n",
        "          2. malayalam\n",
        "          3. mom\n",
        "'''\n",
        "# This solution comsumes less memory and is much more efficient.\n",
        "word = input(\"Enter your word: \")\n",
        "\n",
        "flag = True\n",
        "\n",
        "for i in range(0,len(word)//2):\n",
        "  if word[i] != word[len(word)-i-1]:\n",
        "    flag = False\n",
        "    break\n",
        "\n",
        "if flag:\n",
        "  print(\"Palindrome\")\n",
        "else:\n",
        "  print(\"Not Palindrome\")"
      ],
      "metadata": {
        "colab": {
          "base_uri": "https://localhost:8080/"
        },
        "id": "UONZAjmPTVwG",
        "outputId": "2244a7b8-a918-4868-d2ef-633506e149cc"
      },
      "execution_count": null,
      "outputs": [
        {
          "output_type": "stream",
          "name": "stdout",
          "text": [
            "Enter your word: malayalam\n",
            "Palindrome\n"
          ]
        }
      ]
    },
    {
      "cell_type": "markdown",
      "source": [
        "\n",
        "\n",
        "---\n",
        "\n"
      ],
      "metadata": {
        "id": "XjM3MmFaWuep"
      }
    },
    {
      "cell_type": "markdown",
      "source": [
        "#**Lists in Pyhton**\n",
        "- declared using [ ] with comma seperated values\n",
        "- mutable\n"
      ],
      "metadata": {
        "id": "kSh5QY2JWyRO"
      }
    },
    {
      "cell_type": "code",
      "source": [
        "l = [10, 'shaurya', 20.4, [10,20,30]]\n",
        "\n",
        "id(l)"
      ],
      "metadata": {
        "id": "2jvUwVdJUfpC",
        "colab": {
          "base_uri": "https://localhost:8080/"
        },
        "outputId": "79dc5f1c-4a15-482d-d875-ad8dbcb7deba"
      },
      "execution_count": 3,
      "outputs": [
        {
          "output_type": "execute_result",
          "data": {
            "text/plain": [
              "140526463701184"
            ]
          },
          "metadata": {},
          "execution_count": 3
        }
      ]
    },
    {
      "cell_type": "code",
      "source": [],
      "metadata": {
        "id": "52N2XALSNogc"
      },
      "execution_count": null,
      "outputs": []
    }
  ]
}