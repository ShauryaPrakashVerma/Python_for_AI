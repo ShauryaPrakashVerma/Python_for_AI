{
  "nbformat": 4,
  "nbformat_minor": 0,
  "metadata": {
    "colab": {
      "provenance": [],
      "authorship_tag": "ABX9TyPTOX9y0ZawGspp6VDok6mr",
      "include_colab_link": true
    },
    "kernelspec": {
      "name": "python3",
      "display_name": "Python 3"
    },
    "language_info": {
      "name": "python"
    }
  },
  "cells": [
    {
      "cell_type": "markdown",
      "metadata": {
        "id": "view-in-github",
        "colab_type": "text"
      },
      "source": [
        "<a href=\"https://colab.research.google.com/github/ShauryaPrakashVerma/Python_for_AI/blob/main/Advanced_Python_(OOPS).ipynb\" target=\"_parent\"><img src=\"https://colab.research.google.com/assets/colab-badge.svg\" alt=\"Open In Colab\"/></a>"
      ]
    },
    {
      "cell_type": "markdown",
      "source": [
        "#**OOPS in Pyhton**\n",
        "There are four principle in OOPS:\n",
        "- Abstraction\n",
        "- Inheritance\n",
        "- Polymorphism\n",
        "- Encapsulation\n"
      ],
      "metadata": {
        "id": "sl_gOvpq6RqH"
      }
    },
    {
      "cell_type": "markdown",
      "source": [
        "#**Class v/s Object in OOP**"
      ],
      "metadata": {
        "id": "7KF-u-1HzLP0"
      }
    },
    {
      "cell_type": "code",
      "execution_count": null,
      "metadata": {
        "id": "dw2Vs-_d5rCh"
      },
      "outputs": [],
      "source": [
        "samsung = phone()\n",
        "iphone = phone()"
      ]
    },
    {
      "cell_type": "code",
      "source": [
        "#creating object of a class. Object is an instance of a class.\n",
        "#Syntax:  objectName = className()\n",
        "\n",
        "\n",
        "\n",
        "class Car:\n",
        "  # data or properties\n",
        "  color = \"Blue\"\n",
        "  model = \"sports\"\n",
        "\n",
        "  # functions or behaviours\n",
        "  def calulate_avg_speed(km, time):\n",
        "    pass"
      ],
      "metadata": {
        "id": "TLpLu1bo08IF"
      },
      "execution_count": null,
      "outputs": []
    },
    {
      "cell_type": "markdown",
      "source": [
        "#Banking Application --> ATM machine"
      ],
      "metadata": {
        "id": "SA633cG5GJGl"
      }
    },
    {
      "cell_type": "markdown",
      "source": [
        "- While writing class name use Pascal case i.e. AtmMachine"
      ],
      "metadata": {
        "id": "U7ZDvnM8G5zN"
      }
    },
    {
      "cell_type": "markdown",
      "source": [
        "Class has two parts:\n",
        "- Data\n",
        "    - here data is 1.pin 2. balance\n",
        "\n",
        "- Functions"
      ],
      "metadata": {
        "id": "40EcAvbfHkjj"
      }
    },
    {
      "cell_type": "code",
      "source": [
        "class AtmMachine:\n",
        "\n",
        "\n",
        "  #Constructor\n",
        "  def __init__(self):\n",
        "    self.pin = \"\"\n",
        "    self.balance = 0\n",
        "    self.menu()\n",
        "\n",
        "  def menu(self):\n",
        "    user_input = input(\"\"\"\n",
        "    Hello, how would you like to proceed?\n",
        "    1. Enter 1 to create pin\n",
        "    2. Enter 2 to change pin\n",
        "    3. Enter 3 to check balance\n",
        "    4. Enter 4 to withdraw\n",
        "    5. Enter 5 to deposit\n",
        "    6. Anything else to exit\n",
        "    \"\"\")\n",
        "\n",
        "    if user_input == \"1\":\n",
        "      self.create_pin()\n",
        "    elif user_input == \"2\":\n",
        "      self.change_pin()\n",
        "    elif user_input == \"3\":\n",
        "      self.check_balance()\n",
        "    elif user_input == \"4\":\n",
        "      #Withdraw\n",
        "      self.withdraw()\n",
        "    elif user_input == \"5\":\n",
        "      self.deposit()\n",
        "    else:\n",
        "      exit()\n",
        "\n",
        "\n",
        "  def create_pin(self):\n",
        "    self.pin = input(\"Enter your pin\")\n",
        "    self.balance = int(input(\"Enter balance\"))\n",
        "    print(\"Pin set successfully\")\n",
        "    self.menu()\n",
        "\n",
        "\n",
        "  def change_pin(self):\n",
        "    old_pin = input(\"Enter old pin\")\n",
        "    if old_pin == self.pin:\n",
        "      #let him change the pin\n",
        "      new_pin = input(\"Enter new pin\")\n",
        "      self.pin = new_pin\n",
        "      print(\"Pin changed successfully\")\n",
        "    else:\n",
        "      print(\"Entered wrong pin\")\n",
        "    self.menu()\n",
        "\n",
        "\n",
        "  def check_balance(self):\n",
        "    temp = input(\"Enter your pin\")\n",
        "    if temp == self.pin:\n",
        "      print(self.balance)\n",
        "    else:\n",
        "      print(\"Entered wrong pin\")\n",
        "    self.menu()\n",
        "\n",
        "\n",
        "  def withdraw(self):\n",
        "    temp = input(\"Enter your pin\")\n",
        "    if temp == self.pin:\n",
        "      amount = int(input(\"Enter the amount to withdraw\"))\n",
        "      if amount< self.balance:\n",
        "        self.balance = self.balance - amount\n",
        "        print(\"Withdrawl successful\")\n",
        "      else:\n",
        "        print(\"Insufficient balance\")\n",
        "    self.menu()\n",
        "\n",
        "\n",
        "  def deposit(self):\n",
        "    temp = input(\"Enter your pin\")\n",
        "    if temp == self.pin:\n",
        "      amount = int(input(\"Enter the amount to deposit\"))\n",
        "      self.balance = self.balance + amount\n",
        "      print(\"Deposit successful\")\n",
        "      self.menu()"
      ],
      "metadata": {
        "id": "ZY1wq8RtGQN6"
      },
      "execution_count": 1,
      "outputs": []
    },
    {
      "cell_type": "code",
      "source": [
        "obj = AtmMachine()\n",
        "# print(type(obj))\n"
      ],
      "metadata": {
        "colab": {
          "base_uri": "https://localhost:8080/"
        },
        "id": "beszxnEQHSQL",
        "outputId": "20b2587a-e04a-45c7-c4df-7235298d2b14"
      },
      "execution_count": 2,
      "outputs": [
        {
          "name": "stdout",
          "output_type": "stream",
          "text": [
            "\n",
            "    Hello, how would you like to proceed?\n",
            "    1. Enter 1 to create pin\n",
            "    2. Enter 2 to change pin\n",
            "    3. Enter 3 to check balance\n",
            "    4. Enter 4 to withdraw\n",
            "    5. Enter 5 to deposit\n",
            "    6. Anything else to exit\n",
            "    6\n"
          ]
        }
      ]
    },
    {
      "cell_type": "code",
      "source": [],
      "metadata": {
        "id": "tXxH2tnWIYMU"
      },
      "execution_count": null,
      "outputs": []
    }
  ]
}