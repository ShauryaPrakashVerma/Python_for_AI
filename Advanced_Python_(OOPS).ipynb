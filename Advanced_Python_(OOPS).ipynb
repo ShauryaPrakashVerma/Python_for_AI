{
  "nbformat": 4,
  "nbformat_minor": 0,
  "metadata": {
    "colab": {
      "provenance": [],
      "authorship_tag": "ABX9TyMlFLr4uexuG+5HST6tg4e2",
      "include_colab_link": true
    },
    "kernelspec": {
      "name": "python3",
      "display_name": "Python 3"
    },
    "language_info": {
      "name": "python"
    }
  },
  "cells": [
    {
      "cell_type": "markdown",
      "metadata": {
        "id": "view-in-github",
        "colab_type": "text"
      },
      "source": [
        "<a href=\"https://colab.research.google.com/github/ShauryaPrakashVerma/Python_for_AI/blob/main/Advanced_Python_(OOPS).ipynb\" target=\"_parent\"><img src=\"https://colab.research.google.com/assets/colab-badge.svg\" alt=\"Open In Colab\"/></a>"
      ]
    },
    {
      "cell_type": "markdown",
      "source": [
        "#**OOPS in Pyhton**\n",
        "There are four principle in OOPS:\n",
        "- Abstraction\n",
        "- Inheritance\n",
        "- Polymorphism\n",
        "- Encapsulation\n"
      ],
      "metadata": {
        "id": "sl_gOvpq6RqH"
      }
    },
    {
      "cell_type": "markdown",
      "source": [
        "#**Class v/s Object in OOP**"
      ],
      "metadata": {
        "id": "7KF-u-1HzLP0"
      }
    },
    {
      "cell_type": "code",
      "execution_count": null,
      "metadata": {
        "id": "dw2Vs-_d5rCh"
      },
      "outputs": [],
      "source": [
        "samsung = phone()\n",
        "iphone = phone()"
      ]
    },
    {
      "cell_type": "code",
      "source": [
        "#creating object of a class. Object is an instance of a class.\n",
        "#Syntax:  objectName = className()\n",
        "\n",
        "\n",
        "\n",
        "class Car:\n",
        "  # data or properties\n",
        "  color = \"Blue\"\n",
        "  model = \"sports\"\n",
        "\n",
        "  # functions or behaviours\n",
        "  def calulate_avg_speed(km, time):\n",
        "    pass"
      ],
      "metadata": {
        "id": "TLpLu1bo08IF"
      },
      "execution_count": null,
      "outputs": []
    },
    {
      "cell_type": "markdown",
      "source": [
        "#Banking Application --> ATM machine"
      ],
      "metadata": {
        "id": "SA633cG5GJGl"
      }
    },
    {
      "cell_type": "markdown",
      "source": [
        "- While writing class name use Pascal case i.e. AtmMachine"
      ],
      "metadata": {
        "id": "U7ZDvnM8G5zN"
      }
    },
    {
      "cell_type": "markdown",
      "source": [
        "Class has two parts:\n",
        "- Data\n",
        "    - here data is 1.pin 2. balance\n",
        "\n",
        "- Functions"
      ],
      "metadata": {
        "id": "40EcAvbfHkjj"
      }
    },
    {
      "cell_type": "code",
      "source": [
        "class AtmMachine:\n",
        "\n",
        "\n",
        "  #Constructor\n",
        "  def __init__(self):\n",
        "    self.pin = \"\"\n",
        "    self.balance = 0\n",
        "    self.menu()\n",
        "\n",
        "  def menu(self):\n",
        "    user_input = input(\"\"\"\n",
        "    Hello, how would you like to proceed?\n",
        "    1. Enter 1 to create pin\n",
        "    2. Enter 2 to change pin\n",
        "    3. Enter 3 to check balance\n",
        "    4. Enter 4 to withdraw\n",
        "    5. Enter 5 to deposit\n",
        "    6. Anything else to exit\n",
        "    \"\"\")\n",
        "\n",
        "    if user_input == \"1\":\n",
        "      self.create_pin()\n",
        "    elif user_input == \"2\":\n",
        "      self.change_pin()\n",
        "    elif user_input == \"3\":\n",
        "      self.check_balance()\n",
        "    elif user_input == \"4\":\n",
        "      #Withdraw\n",
        "      self.withdraw()\n",
        "    elif user_input == \"5\":\n",
        "      self.deposit()\n",
        "    else:\n",
        "      exit()\n",
        "\n",
        "\n",
        "  def create_pin(self):\n",
        "    self.pin = input(\"Enter your pin\")\n",
        "    self.balance = int(input(\"Enter balance\"))\n",
        "    print(\"Pin set successfully\")\n",
        "    self.menu()\n",
        "\n",
        "\n",
        "  def change_pin(self):\n",
        "    old_pin = input(\"Enter old pin\")\n",
        "    if old_pin == self.pin:\n",
        "      #let him change the pin\n",
        "      new_pin = input(\"Enter new pin\")\n",
        "      self.pin = new_pin\n",
        "      print(\"Pin changed successfully\")\n",
        "    else:\n",
        "      print(\"Entered wrong pin\")\n",
        "    self.menu()\n",
        "\n",
        "\n",
        "  def check_balance(self):\n",
        "    temp = input(\"Enter your pin\")\n",
        "    if temp == self.pin:\n",
        "      print(self.balance)\n",
        "    else:\n",
        "      print(\"Entered wrong pin\")\n",
        "    self.menu()\n",
        "\n",
        "\n",
        "  def withdraw(self):\n",
        "    temp = input(\"Enter your pin\")\n",
        "    if temp == self.pin:\n",
        "      amount = int(input(\"Enter the amount to withdraw\"))\n",
        "      if amount< self.balance:\n",
        "        self.balance = self.balance - amount\n",
        "        print(\"Withdrawl successful\")\n",
        "      else:\n",
        "        print(\"Insufficient balance\")\n",
        "    self.menu()\n",
        "\n",
        "\n",
        "  def deposit(self):\n",
        "    temp = input(\"Enter your pin\")\n",
        "    if temp == self.pin:\n",
        "      amount = int(input(\"Enter the amount to deposit\"))\n",
        "      self.balance = self.balance + amount\n",
        "      print(\"Deposit successful\")\n",
        "      self.menu()"
      ],
      "metadata": {
        "id": "ZY1wq8RtGQN6"
      },
      "execution_count": null,
      "outputs": []
    },
    {
      "cell_type": "code",
      "source": [
        "obj = AtmMachine()\n",
        "# print(type(obj))\n"
      ],
      "metadata": {
        "colab": {
          "base_uri": "https://localhost:8080/"
        },
        "id": "beszxnEQHSQL",
        "outputId": "20b2587a-e04a-45c7-c4df-7235298d2b14"
      },
      "execution_count": null,
      "outputs": [
        {
          "name": "stdout",
          "output_type": "stream",
          "text": [
            "\n",
            "    Hello, how would you like to proceed?\n",
            "    1. Enter 1 to create pin\n",
            "    2. Enter 2 to change pin\n",
            "    3. Enter 3 to check balance\n",
            "    4. Enter 4 to withdraw\n",
            "    5. Enter 5 to deposit\n",
            "    6. Anything else to exit\n",
            "    6\n"
          ]
        }
      ]
    },
    {
      "cell_type": "markdown",
      "source": [
        "#**Class Diagram**\n",
        "- Class Name [e.g. ATM Machine]\n",
        "- Data Property [e.g. pin, balance]\n",
        "- Methods / Functions [e.g. menu(), create_pin(), change_pin()]\n",
        "\n",
        "--------------------------------------------------------------------------------\n",
        "\n",
        "- \"-\" outside function suggests Private property.\n",
        "- \"+\" outside function suggests Public property."
      ],
      "metadata": {
        "id": "4ZV03ohKWtOJ"
      }
    },
    {
      "cell_type": "markdown",
      "source": [
        "#**Magic Methods / Dunder Methods in OOP**\n",
        "\n",
        "- Magic methods, also known as dunder methods (short for \"double underscore\"), are special methods in Python that are surrounded by double underscores (e.g., __init__, __add__). These methods enable developers to customize the behavior of objects and integrate seamlessly with Python's built-in operations, such as arithmetic, comparisons, and string representations.\n",
        "\n",
        "\n",
        "**Key Features of Magic Methods**\n",
        "\n",
        "- Magic methods are automatically invoked by Python in response to specific operations. For example, when you use the + operator, Python internally calls the __add__ method. These methods are fundamental to Python's object-oriented programming and allow for operator overloading, attribute management, and more.\n",
        "\n",
        "```\n",
        "# SYNTAX: __MethodName__\n",
        "```"
      ],
      "metadata": {
        "id": "OyCxCyTRXx4E"
      }
    },
    {
      "cell_type": "markdown",
      "source": [
        "#**Concept of self in OOP**\n",
        "- basically points to its own object."
      ],
      "metadata": {
        "id": "E-LqcTZ_Zu_C"
      }
    },
    {
      "cell_type": "code",
      "source": [
        "# how can we access attribute through objects in OOP\n",
        "\n",
        "\n",
        "class Person:\n",
        "  def __init__(self, name, country):\n",
        "    self.name = name;\n",
        "    self.country = country;\n",
        "\n",
        "  def greet(self):\n",
        "    if self.country == \"India\":\n",
        "      print(\"Namaste\", self.name)\n",
        "    else:\n",
        "      print(\"Hello\", self.name)"
      ],
      "metadata": {
        "id": "tXxH2tnWIYMU"
      },
      "execution_count": 1,
      "outputs": []
    },
    {
      "cell_type": "code",
      "source": [
        "p = Person(\"shaurya\", \"India\")"
      ],
      "metadata": {
        "id": "a5uz2KJAbfid"
      },
      "execution_count": 2,
      "outputs": []
    },
    {
      "cell_type": "code",
      "source": [
        "p.greet()"
      ],
      "metadata": {
        "colab": {
          "base_uri": "https://localhost:8080/"
        },
        "id": "B3BpTwWfbmH4",
        "outputId": "699dce52-992f-40d0-e3e1-b2853c0cb195"
      },
      "execution_count": 3,
      "outputs": [
        {
          "output_type": "stream",
          "name": "stdout",
          "text": [
            "Namaste shaurya\n"
          ]
        }
      ]
    },
    {
      "cell_type": "code",
      "source": [
        "# Attribute creation from outside of the class\n",
        "# we can create attribute from outside the class in Python OOP\n",
        "p.gender = \"male\"\n",
        "p.gender"
      ],
      "metadata": {
        "colab": {
          "base_uri": "https://localhost:8080/",
          "height": 35
        },
        "id": "nMvC0Gh2bxRT",
        "outputId": "f419a5f3-3d4d-4648-afc8-55ff7859b5ec"
      },
      "execution_count": 4,
      "outputs": [
        {
          "output_type": "execute_result",
          "data": {
            "text/plain": [
              "'male'"
            ],
            "application/vnd.google.colaboratory.intrinsic+json": {
              "type": "string"
            }
          },
          "metadata": {},
          "execution_count": 4
        }
      ]
    },
    {
      "cell_type": "code",
      "source": [
        "p.age = 23\n",
        "p.age"
      ],
      "metadata": {
        "colab": {
          "base_uri": "https://localhost:8080/"
        },
        "id": "Ksmjg9dxcYZs",
        "outputId": "519ea994-e1fa-4f38-9c5a-46aa31f51d9d"
      },
      "execution_count": 5,
      "outputs": [
        {
          "output_type": "execute_result",
          "data": {
            "text/plain": [
              "23"
            ]
          },
          "metadata": {},
          "execution_count": 5
        }
      ]
    },
    {
      "cell_type": "markdown",
      "source": [
        "#**Reference Variable**"
      ],
      "metadata": {
        "id": "cjNg1OUlczRl"
      }
    },
    {
      "cell_type": "code",
      "source": [
        "class Person:\n",
        "  def __init__(self):\n",
        "    self.name = \"Shaurya\";\n",
        "    self.country = \"India\";"
      ],
      "metadata": {
        "id": "TewPBfJucqsm"
      },
      "execution_count": 11,
      "outputs": []
    },
    {
      "cell_type": "code",
      "source": [
        "p = Person()"
      ],
      "metadata": {
        "id": "NBg-YbFwdA43"
      },
      "execution_count": 12,
      "outputs": []
    },
    {
      "cell_type": "code",
      "source": [
        "print(id(p))\n",
        "q = p\n",
        "id(q)"
      ],
      "metadata": {
        "colab": {
          "base_uri": "https://localhost:8080/"
        },
        "id": "umioX30fdIca",
        "outputId": "f2b1216b-2ba7-4326-e093-05441dde3ab3"
      },
      "execution_count": 14,
      "outputs": [
        {
          "output_type": "stream",
          "name": "stdout",
          "text": [
            "136022106931664\n"
          ]
        },
        {
          "output_type": "execute_result",
          "data": {
            "text/plain": [
              "136022106931664"
            ]
          },
          "metadata": {},
          "execution_count": 14
        }
      ]
    },
    {
      "cell_type": "code",
      "source": [
        "q.name = \"Verma\""
      ],
      "metadata": {
        "id": "594cui4TdP8v"
      },
      "execution_count": 15,
      "outputs": []
    },
    {
      "cell_type": "code",
      "source": [
        "print(p.name)\n",
        "print(q.name)\n",
        "\n",
        "# Refernce variable bcz they are referring to the same object . they have same id\n"
      ],
      "metadata": {
        "colab": {
          "base_uri": "https://localhost:8080/"
        },
        "id": "UBAYE0KYds6p",
        "outputId": "37536e69-a92a-495a-8cb7-ea7b5d5ffb96"
      },
      "execution_count": 17,
      "outputs": [
        {
          "output_type": "stream",
          "name": "stdout",
          "text": [
            "Verma\n",
            "Verma\n"
          ]
        }
      ]
    },
    {
      "cell_type": "markdown",
      "source": [
        "#**Pass by Reference in OOP**"
      ],
      "metadata": {
        "id": "5SCXkwL0d-Bm"
      }
    },
    {
      "cell_type": "code",
      "source": [
        "class Person:\n",
        "  def __init__(self, name, gender):\n",
        "    self.name = name;\n",
        "    self.gender = gender;\n",
        "\n",
        "# outside of the class\n",
        "def greeting(person):\n",
        "  print(\"Hello\", person.name, \"Your gender is\", person.gender)\n",
        "  p1 = Person(\"Verma\", \"Female\")\n",
        "  return p1"
      ],
      "metadata": {
        "id": "fRohaXyGdwUX"
      },
      "execution_count": 23,
      "outputs": []
    },
    {
      "cell_type": "code",
      "source": [
        "p = Person(\"Shaurya\", \"Male\")"
      ],
      "metadata": {
        "id": "otUPqnuoeiTA"
      },
      "execution_count": 24,
      "outputs": []
    },
    {
      "cell_type": "code",
      "source": [
        "a = greeting(p)"
      ],
      "metadata": {
        "colab": {
          "base_uri": "https://localhost:8080/"
        },
        "id": "0Id38sU1ew3K",
        "outputId": "b51a0903-f44b-4bac-d9dd-dd35cf6b7a99"
      },
      "execution_count": 26,
      "outputs": [
        {
          "output_type": "stream",
          "name": "stdout",
          "text": [
            "Hello Shaurya Your gender is Male\n"
          ]
        }
      ]
    },
    {
      "cell_type": "code",
      "source": [
        "a.name"
      ],
      "metadata": {
        "colab": {
          "base_uri": "https://localhost:8080/",
          "height": 35
        },
        "id": "yj-8y5Bne4R_",
        "outputId": "f881be99-f5ff-4728-d62c-ff9ee0e323f2"
      },
      "execution_count": 29,
      "outputs": [
        {
          "output_type": "execute_result",
          "data": {
            "text/plain": [
              "'Verma'"
            ],
            "application/vnd.google.colaboratory.intrinsic+json": {
              "type": "string"
            }
          },
          "metadata": {},
          "execution_count": 29
        }
      ]
    },
    {
      "cell_type": "code",
      "source": [
        "a.gender"
      ],
      "metadata": {
        "colab": {
          "base_uri": "https://localhost:8080/",
          "height": 35
        },
        "id": "UPq8koVlfOgC",
        "outputId": "b894978f-363c-4ba4-b867-9608ada30fcc"
      },
      "execution_count": 30,
      "outputs": [
        {
          "output_type": "execute_result",
          "data": {
            "text/plain": [
              "'Female'"
            ],
            "application/vnd.google.colaboratory.intrinsic+json": {
              "type": "string"
            }
          },
          "metadata": {},
          "execution_count": 30
        }
      ]
    },
    {
      "cell_type": "code",
      "source": [],
      "metadata": {
        "id": "aBHUc3BOfUfg"
      },
      "execution_count": null,
      "outputs": []
    }
  ]
}