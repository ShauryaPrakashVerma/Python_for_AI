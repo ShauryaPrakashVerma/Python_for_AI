{
  "nbformat": 4,
  "nbformat_minor": 0,
  "metadata": {
    "colab": {
      "provenance": [],
      "authorship_tag": "ABX9TyNwEBVdrqV93HqwL5jiZYPi",
      "include_colab_link": true
    },
    "kernelspec": {
      "name": "python3",
      "display_name": "Python 3"
    },
    "language_info": {
      "name": "python"
    }
  },
  "cells": [
    {
      "cell_type": "markdown",
      "metadata": {
        "id": "view-in-github",
        "colab_type": "text"
      },
      "source": [
        "<a href=\"https://colab.research.google.com/github/ShauryaPrakashVerma/Python_for_AI/blob/main/Advanced_Python_(OOPS).ipynb\" target=\"_parent\"><img src=\"https://colab.research.google.com/assets/colab-badge.svg\" alt=\"Open In Colab\"/></a>"
      ]
    },
    {
      "cell_type": "markdown",
      "source": [
        "#**OOPS in Pyhton**\n",
        "There are four principle in OOPS:\n",
        "- Abstraction\n",
        "- Inheritance\n",
        "- Polymorphism\n",
        "- Encapsulation\n"
      ],
      "metadata": {
        "id": "sl_gOvpq6RqH"
      }
    },
    {
      "cell_type": "markdown",
      "source": [
        "#**Class v/s Object in OOP**"
      ],
      "metadata": {
        "id": "7KF-u-1HzLP0"
      }
    },
    {
      "cell_type": "code",
      "execution_count": null,
      "metadata": {
        "id": "dw2Vs-_d5rCh"
      },
      "outputs": [],
      "source": [
        "samsung = phone()\n",
        "iphone = phone()"
      ]
    },
    {
      "cell_type": "code",
      "source": [
        "#creating object of a class. Object is an instance of a class.\n",
        "#Syntax:  objectName = className()\n",
        "\n",
        "\n",
        "\n",
        "class Car:\n",
        "  # data or properties\n",
        "  color = \"Blue\"\n",
        "  model = \"sports\"\n",
        "\n",
        "  # functions or behaviours\n",
        "  def calulate_avg_speed(km, time):\n",
        "    pass"
      ],
      "metadata": {
        "id": "TLpLu1bo08IF"
      },
      "execution_count": null,
      "outputs": []
    }
  ]
}