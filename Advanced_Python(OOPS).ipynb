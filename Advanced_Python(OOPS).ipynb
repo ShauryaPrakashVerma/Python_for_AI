{
  "nbformat": 4,
  "nbformat_minor": 0,
  "metadata": {
    "colab": {
      "provenance": [],
      "authorship_tag": "ABX9TyMZOCCgruVbAeLrLI0ASZFf",
      "include_colab_link": true
    },
    "kernelspec": {
      "name": "python3",
      "display_name": "Python 3"
    },
    "language_info": {
      "name": "python"
    }
  },
  "cells": [
    {
      "cell_type": "markdown",
      "metadata": {
        "id": "view-in-github",
        "colab_type": "text"
      },
      "source": [
        "<a href=\"https://colab.research.google.com/github/ShauryaPrakashVerma/Python_for_AI/blob/main/Advanced_Python(OOPS).ipynb\" target=\"_parent\"><img src=\"https://colab.research.google.com/assets/colab-badge.svg\" alt=\"Open In Colab\"/></a>"
      ]
    },
    {
      "cell_type": "markdown",
      "source": [
        "#**OOPS in Pyhton**\n",
        "There are four principle in OOPS:\n",
        "- Abstraction\n",
        "- Inheritance\n",
        "- Polymorphism\n",
        "- Encapsulation\n"
      ],
      "metadata": {
        "id": "sl_gOvpq6RqH"
      }
    },
    {
      "cell_type": "code",
      "execution_count": null,
      "metadata": {
        "id": "dw2Vs-_d5rCh"
      },
      "outputs": [],
      "source": []
    }
  ]
}