{
  "nbformat": 4,
  "nbformat_minor": 0,
  "metadata": {
    "colab": {
      "provenance": [],
      "authorship_tag": "ABX9TyNtTRisx6DCwNMq/0ySR9bW",
      "include_colab_link": true
    },
    "kernelspec": {
      "name": "python3",
      "display_name": "Python 3"
    },
    "language_info": {
      "name": "python"
    }
  },
  "cells": [
    {
      "cell_type": "markdown",
      "metadata": {
        "id": "view-in-github",
        "colab_type": "text"
      },
      "source": [
        "<a href=\"https://colab.research.google.com/github/ShauryaPrakashVerma/Python_for_AI/blob/main/Merge_Sort_Heap_Sort.ipynb\" target=\"_parent\"><img src=\"https://colab.research.google.com/assets/colab-badge.svg\" alt=\"Open In Colab\"/></a>"
      ]
    },
    {
      "cell_type": "code",
      "execution_count": 3,
      "metadata": {
        "id": "23L0Ej004rrm",
        "colab": {
          "base_uri": "https://localhost:8080/"
        },
        "outputId": "2ddd0755-cd70-4965-981c-d4bcd8912787"
      },
      "outputs": [
        {
          "output_type": "stream",
          "name": "stdout",
          "text": [
            "Original list: [38, 27, 43, 3, 9, 82, 10]\n",
            "Sorted list: [3, 9, 10, 27, 38, 43, 82]\n"
          ]
        }
      ],
      "source": [
        "'''\n",
        "Merge Sort\n",
        "\n",
        "Merge Sort is a sorting algorithm that follows the divide and conquer paradigm. It works by recursively dividing the unsorted list into n sublists, each containing one element (a list of one element is considered sorted).\n",
        "Then, it repeatedly merges sublists to produce new sorted sublists until there is only one sublist remaining, which will be the sorted list.\n",
        "\n",
        "'''\n",
        "\n",
        "def merge_sort(arr):\n",
        "    if len(arr) <= 1:\n",
        "        return arr\n",
        "\n",
        "    mid = len(arr) // 2\n",
        "    left_half = arr[:mid]\n",
        "    right_half = arr[mid:]\n",
        "\n",
        "    left_half = merge_sort(left_half)\n",
        "    right_half = merge_sort(right_half)\n",
        "\n",
        "    return merge(left_half, right_half)\n",
        "\n",
        "def merge(left, right):\n",
        "    merged_list = []\n",
        "    left_index = 0\n",
        "    right_index = 0\n",
        "\n",
        "    while left_index < len(left) and right_index < len(right):\n",
        "        if left[left_index] < right[right_index]:\n",
        "            merged_list.append(left[left_index])\n",
        "            left_index += 1\n",
        "        else:\n",
        "            merged_list.append(right[right_index])\n",
        "            right_index += 1\n",
        "\n",
        "    while left_index < len(left):\n",
        "        merged_list.append(left[left_index])\n",
        "        left_index += 1\n",
        "\n",
        "    while right_index < len(right):\n",
        "        merged_list.append(right[right_index])\n",
        "        right_index += 1\n",
        "\n",
        "    return merged_list\n",
        "\n",
        "# Example usage\n",
        "my_list = [38, 27, 43, 3, 9, 82, 10]\n",
        "sorted_list = merge_sort(my_list)\n",
        "print(\"Original list:\", my_list)\n",
        "print(\"Sorted list:\", sorted_list)"
      ]
    },
    {
      "cell_type": "code",
      "metadata": {
        "colab": {
          "base_uri": "https://localhost:8080/"
        },
        "id": "db6d766e",
        "outputId": "a1e967d7-2bcd-4abb-d881-d8b0a14f4caa"
      },
      "source": [
        "'''\n",
        "Linear search in Python\n",
        "\n",
        "Linear search is a simple search algorithm that sequentially checks each element of a list until the target element is found or the entire list has been searched.\n",
        "\n",
        "'''\n",
        "\n",
        "\n",
        "def linear_search(arr, target):\n",
        "    \"\"\"\n",
        "    Performs a linear search on a list to find the index of a target element.\n",
        "\n",
        "    Args:\n",
        "        arr: The list to search within.\n",
        "        target: The element to search for.\n",
        "\n",
        "    Returns:\n",
        "        The index of the target element if found, otherwise -1.\n",
        "    \"\"\"\n",
        "    for i in range(len(arr)):\n",
        "        if arr[i] == target:\n",
        "            return i\n",
        "    return -1\n",
        "\n",
        "# Example usage\n",
        "my_list = [10, 25, 15, 30, 5, 20]\n",
        "target_element = 15\n",
        "index = linear_search(my_list, target_element)\n",
        "\n",
        "if index != -1:\n",
        "    print(f\"Element {target_element} found at index {index}\")\n",
        "else:\n",
        "    print(f\"Element {target_element} not found in the list\")\n",
        "\n",
        "target_element = 50\n",
        "index = linear_search(my_list, target_element)\n",
        "\n",
        "if index != -1:\n",
        "    print(f\"Element {target_element} found at index {index}\")\n",
        "else:\n",
        "    print(f\"Element {target_element} not found in the list\")"
      ],
      "execution_count": 1,
      "outputs": [
        {
          "output_type": "stream",
          "name": "stdout",
          "text": [
            "Element 15 found at index 2\n",
            "Element 50 not found in the list\n"
          ]
        }
      ]
    }
  ]
}